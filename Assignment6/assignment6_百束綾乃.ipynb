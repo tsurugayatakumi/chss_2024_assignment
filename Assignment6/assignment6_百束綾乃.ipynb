{
 "cells": [
  {
   "cell_type": "markdown",
   "metadata": {},
   "source": [
    "# 課題0628\n",
    "\n",
    "そのまま課題ファイルで編集しないでください。課題ファイルを複製してから課題を回答してください。"
   ]
  },
  {
   "cell_type": "markdown",
   "metadata": {},
   "source": [
    "## 課題１\n",
    "\n",
    "- ```NumPy```を使って、最小二乗法で重回帰分析の係数を推定する関数を作成しよう。\n",
    "- 与えられたデータで実装して動作を確認せよ。"
   ]
  },
  {
   "cell_type": "code",
   "execution_count": 63,
   "metadata": {},
   "outputs": [],
   "source": [
    "def get_PartialRegressionCoefficient(x,y):\n",
    "\tx = np.array(x)\n",
    "\ty = np.array(y)\n",
    "\tb = np.linalg.inv(x.T @ x) @ x.T @ y\n",
    "\treturn b"
   ]
  },
  {
   "cell_type": "code",
   "execution_count": 61,
   "metadata": {},
   "outputs": [],
   "source": [
    "# このコードを実行し、データの読み込み\n",
    "# もしsklearnがインストールされていない場合は、!pip install sklearnを実行してください\n",
    "from sklearn.datasets import load_iris\n",
    "iris = load_iris()\n",
    "# Irisデータセットをロード\n",
    "iris = load_iris()\n",
    "X = iris.data  # 説明変数のデータ\n",
    "Y = iris.data[:, 1]  # 目的変数のデータ（がく片の幅）"
   ]
  },
  {
   "cell_type": "code",
   "execution_count": 64,
   "metadata": {},
   "outputs": [
    {
     "name": "stdout",
     "output_type": "stream",
     "text": [
      "[-4.02455846e-14  1.00000000e+00  5.68850522e-14 -8.98170427e-14]\n"
     ]
    }
   ],
   "source": [
    "# Yを従属変数、Xを独立変数として、線形回帰モデルを作成し、回帰係数を求める\n",
    "import numpy as np\n",
    "b = get_PartialRegressionCoefficient(X,Y)\n",
    "print(b)"
   ]
  },
  {
   "cell_type": "markdown",
   "metadata": {},
   "source": [
    "## 課題2\n",
    "\n",
    "以下の指示に従ってクラスを作成してください。\n",
    "\n",
    "- クラスをインスタント化する際は二つ同じサイズの```ndarray```($v_1$と$v_2$)が渡されます\n",
    "- クラスに$v_1$と$v_2$が同じサイズであるかどうかを確認するメソッドを実装しよう\n",
    "- クラスに$v_1$が$v_2$に射影する結果を計算するメソッドを実装しよう\n",
    "- クラスに$v_1$と$v_2$のコサイン類似度を計算するメソッドを実装しよう"
   ]
  },
  {
   "cell_type": "code",
   "execution_count": 99,
   "metadata": {},
   "outputs": [],
   "source": [
    "import numpy as np\n",
    "#np.ndarrayクラスの継承がどうやってもうまくいきませんでした\n",
    "class Vector(np.ndarray):\n",
    "    def __new__(cls, obj, size=None):\n",
    "        self = np.asarray(obj, size=size).view(cls)\n",
    "        self.v1 = v1\n",
    "        self.v2 = v2\n",
    "        return self\n",
    "    \n",
    "    def __array_finalize__(self,obj):\n",
    "        if obj is None:\n",
    "            return None\n",
    "        self.v1 = getattr(obj, \"v1\", None)\n",
    "        self.v2 = getattr(obj, \"v2\", None)\n",
    "    \n",
    "    #サイズのチェック\n",
    "    def sizecheck(self):\n",
    "        if self.v1.size - self.v2.size == 0:\n",
    "            print(\"v1 and v2 = same\")\n",
    "        else:\n",
    "            print(\"v1 and v2 = not same\")\n",
    "\n",
    "    #射影の計算         \n",
    "    def proj(self):\n",
    "        projection = self.v1 * self.v2 / np.linalg.norm(self.v2)^2\n",
    "        print(projection)\n",
    "    \n",
    "    #コサイン類似度の計算\n",
    "    def cos(self):\n",
    "        simcosein = self.v1 * self.v2 / np.linalg.norm(self.v1)*np.linalg.norm(self.v2)\n",
    "        print(simcosein)"
   ]
  },
  {
   "cell_type": "code",
   "execution_count": 102,
   "metadata": {},
   "outputs": [],
   "source": [
    "# 確認\n",
    "import numpy as np\n",
    "v1 = np.array([1, 2, 3])\n",
    "v2 = np.array([4, 5, 6])"
   ]
  },
  {
   "cell_type": "code",
   "execution_count": 103,
   "metadata": {},
   "outputs": [
    {
     "ename": "AttributeError",
     "evalue": "'numpy.ndarray' object has no attribute 'checksize'",
     "output_type": "error",
     "traceback": [
      "\u001b[1;31m---------------------------------------------------------------------------\u001b[0m",
      "\u001b[1;31mAttributeError\u001b[0m                            Traceback (most recent call last)",
      "Cell \u001b[1;32mIn[103], line 1\u001b[0m\n\u001b[1;32m----> 1\u001b[0m v1\u001b[38;5;241m.\u001b[39mchecksize()\n\u001b[0;32m      2\u001b[0m v1\u001b[38;5;241m.\u001b[39mproj()\n\u001b[0;32m      3\u001b[0m v1\u001b[38;5;241m.\u001b[39mcos()\n",
      "\u001b[1;31mAttributeError\u001b[0m: 'numpy.ndarray' object has no attribute 'checksize'"
     ]
    }
   ],
   "source": [
    "v1.checksize()\n",
    "v1.proj()\n",
    "v1.cos()"
   ]
  },
  {
   "cell_type": "markdown",
   "metadata": {},
   "source": []
  }
 ],
 "metadata": {
  "kernelspec": {
   "display_name": "base",
   "language": "python",
   "name": "python3"
  },
  "language_info": {
   "codemirror_mode": {
    "name": "ipython",
    "version": 3
   },
   "file_extension": ".py",
   "mimetype": "text/x-python",
   "name": "python",
   "nbconvert_exporter": "python",
   "pygments_lexer": "ipython3",
   "version": "3.11.7"
  }
 },
 "nbformat": 4,
 "nbformat_minor": 2
}
