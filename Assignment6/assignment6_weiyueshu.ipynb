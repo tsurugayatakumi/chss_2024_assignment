{
 "cells": [
  {
   "attachments": {},
   "cell_type": "markdown",
   "metadata": {},
   "source": [
    "# 課題0628\n",
    "\n",
    "そのまま課題ファイルで編集しないでください。課題ファイルを複製してから課題を回答してください。"
   ]
  },
  {
   "attachments": {},
   "cell_type": "markdown",
   "metadata": {},
   "source": [
    "## 課題１\n",
    "\n",
    "- ```NumPy```を使って、最小二乗法で重回帰分析の係数を推定する関数を作成しよう。\n",
    "- 与えられたデータで実装して動作を確認せよ。"
   ]
  },
  {
   "cell_type": "code",
   "execution_count": 2,
   "metadata": {},
   "outputs": [
    {
     "name": "stdout",
     "output_type": "stream",
     "text": [
      "Regression coefficients: [-4.65863459e-13  7.61890551e-15  1.00000000e+00  4.99565667e-14\n",
      " -8.73363881e-14]\n"
     ]
    }
   ],
   "source": [
    "import numpy as np\n",
    "\n",
    "def get_PartialRegressionCoefficient(X, y):\n",
    "    X = np.hstack([np.ones((X.shape[0], 1)), X])\n",
    "    coefficients = np.linalg.inv(X.T @ X) @ X.T @ y\n",
    "    return coefficients\n",
    "\n",
    "from sklearn.datasets import load_iris\n",
    "iris = load_iris()\n",
    "X = iris.data  \n",
    "y = iris.data[:, 1]\n",
    "\n",
    "coefficients = get_PartialRegressionCoefficient(X, y)\n",
    "print(\"Regression coefficients:\", coefficients)"
   ]
  },
  {
   "cell_type": "code",
   "execution_count": 6,
   "metadata": {},
   "outputs": [],
   "source": [
    "# このコードを実行し、データの読み込み\n",
    "# もしsklearnがインストールされていない場合は、!pip install sklearnを実行してください\n",
    "from sklearn.datasets import load_iris\n",
    "iris = load_iris()\n",
    "# Irisデータセットをロード\n",
    "iris = load_iris()\n",
    "X = iris.data  # 説明変数のデータ\n",
    "Y = iris.data[:, 1]  # 目的変数のデータ（がく片の幅）"
   ]
  },
  {
   "cell_type": "code",
   "execution_count": 11,
   "metadata": {},
   "outputs": [],
   "source": [
    "# Yを従属変数、Xを独立変数として、線形回帰モデルを作成し、回帰係数を求める\n"
   ]
  },
  {
   "attachments": {},
   "cell_type": "markdown",
   "metadata": {},
   "source": [
    "## 課題2\n",
    "\n",
    "以下の指示に従ってクラスを作成してください。\n",
    "\n",
    "- クラスをインスタント化する際は二つ同じサイズの```ndarray```($v_1$と$v_2$)が渡されます\n",
    "- クラスに$v_1$と$v_2$が同じサイズであるかどうかを確認するメソッドを実装しよう\n",
    "- クラスに$v_1$が$v_2$に射影する結果を計算するメソッドを実装しよう\n",
    "- クラスに$v_1$と$v_2$のコサイン類似度を計算するメソッドを実装しよう"
   ]
  },
  {
   "cell_type": "code",
   "execution_count": 3,
   "metadata": {},
   "outputs": [
    {
     "name": "stdout",
     "output_type": "stream",
     "text": [
      "v1 is the same as v2\n",
      "3.6467384467084143\n",
      "0.9746318461970762\n"
     ]
    }
   ],
   "source": [
    "class vector1:\n",
    "    def __init__(self, v1, v2):\n",
    "        self.v1 = v1\n",
    "        self.v2 = v2\n",
    "    \n",
    "    def check_size(self):\n",
    "        if self.v1.shape == self.v2.shape:\n",
    "            print(\"v1 is the same as v2\")\n",
    "        else:\n",
    "            print(\"v1 is not the same as v2\")\n",
    "    \n",
    "    def projection(self):\n",
    "        dot_product = np.dot(self.v1, self.v2)\n",
    "        v2_norm = np.linalg.norm(self.v2)\n",
    "        projection_result = dot_product / v2_norm\n",
    "        return projection_result\n",
    "    \n",
    "    def cosine_similarity(self):\n",
    "        dot_product = np.dot(self.v1, self.v2)\n",
    "        v1_norm = np.linalg.norm(self.v1)\n",
    "        v2_norm = np.linalg.norm(self.v2)\n",
    "        cosine_similarity_result = dot_product / (v1_norm * v2_norm)\n",
    "        return cosine_similarity_result\n",
    "\n",
    "v1 = np.array([1, 2, 3])\n",
    "v2 = np.array([4, 5, 6])\n",
    "V001 = vector1(v1, v2)\n",
    "V001.check_size()\n",
    "print(V001.projection())\n",
    "print(V001.cosine_similarity())"
   ]
  },
  {
   "cell_type": "code",
   "execution_count": 4,
   "metadata": {},
   "outputs": [],
   "source": [
    "# 確認\n",
    "import numpy as np\n",
    "v1 = np.array([1, 2, 3])\n",
    "v2 = np.array([4, 5, 6])"
   ]
  },
  {
   "attachments": {},
   "cell_type": "markdown",
   "metadata": {},
   "source": []
  }
 ],
 "metadata": {
  "kernelspec": {
   "display_name": "base",
   "language": "python",
   "name": "python3"
  },
  "language_info": {
   "codemirror_mode": {
    "name": "ipython",
    "version": 3
   },
   "file_extension": ".py",
   "mimetype": "text/x-python",
   "name": "python",
   "nbconvert_exporter": "python",
   "pygments_lexer": "ipython3",
   "version": "3.11.7"
  },
  "orig_nbformat": 4
 },
 "nbformat": 4,
 "nbformat_minor": 2
}
