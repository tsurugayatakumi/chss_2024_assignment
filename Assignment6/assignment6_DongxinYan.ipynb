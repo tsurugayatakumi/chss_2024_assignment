{
 "cells": [
  {
   "attachments": {},
   "cell_type": "markdown",
   "metadata": {},
   "source": [
    "# 課題0628\n",
    "\n",
    "そのまま課題ファイルで編集しないでください。課題ファイルを複製してから課題を回答してください。"
   ]
  },
  {
   "attachments": {},
   "cell_type": "markdown",
   "metadata": {},
   "source": [
    "## 課題１\n",
    "\n",
    "- ```NumPy```を使って、最小二乗法で重回帰分析の係数を推定する関数を作成しよう。\n",
    "- 与えられたデータで実装して動作を確認せよ。"
   ]
  },
  {
   "cell_type": "code",
   "execution_count": 49,
   "metadata": {},
   "outputs": [],
   "source": [
    "# このコードを実行し、データの読み込み\n",
    "# もしsklearnがインストールされていない場合は、!pip install sklearnを実行してください\n",
    "from sklearn.datasets import load_iris\n",
    "iris = load_iris()\n",
    "# Irisデータセットをロード\n",
    "iris = load_iris()\n",
    "X = iris.data  # 説明変数のデータ\n",
    "Y = iris.data[:, 1]  # 目的変数のデータ（がく片の幅）"
   ]
  },
  {
   "cell_type": "markdown",
   "metadata": {},
   "source": [
    "$$\n",
    "\\mathbf{\\hat{\\beta}} = (\\mathbf{X}^\\top \\mathbf{X})^{-1} \\mathbf{X}^\\top \\mathbf{y}\n",
    "$$"
   ]
  },
  {
   "cell_type": "code",
   "execution_count": 50,
   "metadata": {},
   "outputs": [],
   "source": [
    "import numpy as np\n",
    "# 一步步算我也不会，我直接查的公式然后用python翻译了一下\n",
    "def get_PartialRegressionCoefficient(x,y):\n",
    "    x_transposed = x.T  # 计算x的转置矩阵\n",
    "    x_transposed_x = x_transposed @ x  # 计算x的转置矩阵与x的乘积\n",
    "    x_transposed_x_inv = np.linalg.inv(x_transposed_x)  # 计算上述结果的逆矩阵\n",
    "    x_transposed_y = x_transposed @ y  # 计算x的转置矩阵与y的乘积\n",
    "    return x_transposed_x_inv @ x_transposed_y  # 返回最终的回归系数"
   ]
  },
  {
   "cell_type": "code",
   "execution_count": 51,
   "metadata": {},
   "outputs": [
    {
     "name": "stdout",
     "output_type": "stream",
     "text": [
      "[-7.81597009e-14  1.00000000e+00  8.52651283e-14 -7.10542736e-14]\n"
     ]
    }
   ],
   "source": [
    "# Yを従属変数、Xを独立変数として、線形回帰モデルを作成し、回帰係数を求める\n",
    "coefficient = get_PartialRegressionCoefficient(X, Y)\n",
    "print(coefficient)\n"
   ]
  },
  {
   "attachments": {},
   "cell_type": "markdown",
   "metadata": {},
   "source": [
    "## 課題2\n",
    "\n",
    "以下の指示に従ってクラスを作成してください。\n",
    "\n",
    "- クラスをインスタント化する際は二つ同じサイズの```ndarray```($v_1$と$v_2$)が渡されます\n",
    "- クラスに$v_1$と$v_2$が同じサイズであるかどうかを確認するメソッドを実装しよう\n",
    "- クラスに$v_1$が$v_2$に射影する結果を計算するメソッドを実装しよう\n",
    "- クラスに$v_1$と$v_2$のコサイン類似度を計算するメソッドを実装しよう"
   ]
  },
  {
   "cell_type": "code",
   "execution_count": 52,
   "metadata": {},
   "outputs": [],
   "source": [
    "import numpy as np\n",
    "\n",
    "class Vector:\n",
    "    def __init__(self, v1, v2):\n",
    "        self.v1 = v1\n",
    "        self.v2 = v2\n",
    "    \n",
    "    def check_size(self):\n",
    "        return self.v1.shape == self.v2.shape\n",
    "    \n",
    "    def get_projection(self):\n",
    "        if not self.check_size(): # 如果两个向量的形状不同，那么这两个向量就处于不通的维度，则无法进行点积运算。\n",
    "            raise ValueError(\"v1 and v2 must be of the same size\")\n",
    "        \n",
    "        dot_product = np.dot(self.v1, self.v2)\n",
    "        v2_norm_sq = np.dot(self.v2, self.v2)\n",
    "\n",
    "        projection = (dot_product / v2_norm_sq) * self.v2\n",
    "        \n",
    "        return projection\n",
    "    \n",
    "    def get_cosine_similarity(self):\n",
    "        if not self.check_size(): # 如果两个向量的形状不同，那么这两个向量就处于不通的维度，则无法进行点积运算。\n",
    "            raise ValueError(\"v1 and v2 must be of the same size\")\n",
    "        \n",
    "        v1_norm = np.linalg.norm(self.v1)\n",
    "        v2_norm = np.linalg.norm(self.v2)\n",
    "        \n",
    "        cosine_similarity = np.dot(self.v1, self.v2) / (v1_norm * v2_norm)\n",
    "        \n",
    "        return cosine_similarity"
   ]
  },
  {
   "cell_type": "code",
   "execution_count": 53,
   "metadata": {},
   "outputs": [],
   "source": [
    "# 確認\n",
    "# import numpy as np\n",
    "v1 = np.array([1, 2, 3])\n",
    "v2 = np.array([4, 5, 6])"
   ]
  },
  {
   "cell_type": "code",
   "execution_count": 54,
   "metadata": {},
   "outputs": [
    {
     "name": "stdout",
     "output_type": "stream",
     "text": [
      "同じサイズか: True\n",
      "v1がv2に射影される結果: [1.66233766 2.07792208 2.49350649]\n",
      "v1とv2のコサイン類似度: 0.9746318461970762\n"
     ]
    }
   ],
   "source": [
    "vector = Vector(v1, v2)\n",
    "print(\"同じサイズか:\", vector.check_size())\n",
    "\n",
    "print(\"v1がv2に射影される結果:\", vector.get_projection())\n",
    "\n",
    "print(\"v1とv2のコサイン類似度:\", vector.get_cosine_similarity())"
   ]
  }
 ],
 "metadata": {
  "kernelspec": {
   "display_name": "base",
   "language": "python",
   "name": "python3"
  },
  "language_info": {
   "codemirror_mode": {
    "name": "ipython",
    "version": 3
   },
   "file_extension": ".py",
   "mimetype": "text/x-python",
   "name": "python",
   "nbconvert_exporter": "python",
   "pygments_lexer": "ipython3",
   "version": "3.12.0"
  },
  "orig_nbformat": 4
 },
 "nbformat": 4,
 "nbformat_minor": 2
}
