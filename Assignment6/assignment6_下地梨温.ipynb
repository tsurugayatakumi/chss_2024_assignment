{
 "cells": [
  {
   "attachments": {},
   "cell_type": "markdown",
   "metadata": {},
   "source": [
    "# 課題0628\n",
    "\n",
    "そのまま課題ファイルで編集しないでください。課題ファイルを複製してから課題を回答してください。"
   ]
  },
  {
   "attachments": {},
   "cell_type": "markdown",
   "metadata": {},
   "source": [
    "## 課題１\n",
    "\n",
    "- ```NumPy```を使って、最小二乗法で重回帰分析の係数を推定する関数を作成しよう。\n",
    "- 与えられたデータで実装して動作を確認せよ。"
   ]
  },
  {
   "cell_type": "code",
   "execution_count": null,
   "metadata": {},
   "outputs": [
    {
     "ename": "",
     "evalue": "",
     "output_type": "error",
     "traceback": [
      "\u001b[1;31mカーネルを起動できませんでした。 \n",
      "\u001b[1;31mBad file descriptor (C:\\Users\\runneradmin\\AppData\\Local\\Temp\\tmpw8fxpxar\\build\\_deps\\bundled_libzmq-src\\src\\epoll.cpp:73). \n",
      "\u001b[1;31m詳細については、Jupyter [ログ] (command:jupyter.viewOutput) を参照してください。"
     ]
    }
   ],
   "source": [
    "\n",
    "import numpy as np\n",
    "def get_PartialRegressionCoefficient(X, Y):\n",
    "  X=np.insert(X, 0, 1, axis=1)\n",
    "  beta=np.linalg.inv(X.T @ X) @X.T @Y\n",
    "  return beta"
   ]
  },
  {
   "cell_type": "code",
   "execution_count": 6,
   "metadata": {},
   "outputs": [],
   "source": [
    "# このコードを実行し、データの読み込み\n",
    "# もしsklearnがインストールされていない場合は、!pip install sklearnを実行してください\n",
    "from sklearn.datasets import load_iris\n",
    "iris = load_iris()\n",
    "# Irisデータセットをロード\n",
    "iris = load_iris()\n",
    "X = iris.data  # 説明変数のデータ\n",
    "Y = iris.data[:, 1]  # 目的変数のデータ（がく片の幅）\n",
    "\n",
    "beta=get_PartialRegressionCoefficient(X, Y)\n",
    "print(\"回帰係数:\", beta)"
   ]
  },
  {
   "cell_type": "code",
   "execution_count": 11,
   "metadata": {},
   "outputs": [],
   "source": [
    "# Yを従属変数、Xを独立変数として、線形回帰モデルを作成し、回帰係数を求める\n"
   ]
  },
  {
   "attachments": {},
   "cell_type": "markdown",
   "metadata": {},
   "source": [
    "## 課題2\n",
    "\n",
    "以下の指示に従ってクラスを作成してください。\n",
    "\n",
    "- クラスをインスタント化する際は二つ同じサイズの```ndarray```($v_1$と$v_2$)が渡されます\n",
    "- クラスに$v_1$と$v_2$が同じサイズであるかどうかを確認するメソッドを実装しよう\n",
    "- クラスに$v_1$が$v_2$に射影する結果を計算するメソッドを実装しよう\n",
    "- クラスに$v_1$と$v_2$のコサイン類似度を計算するメソッドを実装しよう"
   ]
  },
  {
   "cell_type": "code",
   "execution_count": 1,
   "metadata": {},
   "outputs": [],
   "source": [
    "import numpy as np\n",
    "\n",
    "class Vector:\n",
    "  def __init__(self,v1,v2):\n",
    "      self.v1=v1\n",
    "      self.v2=v2\n",
    "\n",
    "  def check_same_size(self):\n",
    "      if self.v1.shape == self.v2.shape:\n",
    "          return True\n",
    "      else:\n",
    "          return False\n",
    "        \n",
    "  def calculate_projection(self):\n",
    "      projection=np.dot(self.v1,self.v2)/np.dot(self.v2,self.v2)*self.v2\n",
    "      return projection\n",
    "\n",
    "  def calculate_cosine_similarity(self):\n",
    "      cosine_sim=np.dot(self.v1, self.v2)/(np.linalg.norm(self.v1)*np.linalg.norm(self.v2))\n",
    "      return cosine_sim\n"
   ]
  },
  {
   "cell_type": "code",
   "execution_count": 4,
   "metadata": {},
   "outputs": [],
   "source": [
    "# 確認\n",
    "v1=np.array([1,2,3])\n",
    "v2=np.array([4,5,6])\n",
    "v=Vector(v1,v2)\n",
    "\n",
    "print(\"v1とv2は同じサイズですか？:\", v.check_same_size())\n",
    "print(\"射影:\", v.calculate_projection())\n",
    "print(\"コサイン類似度:\", v.calculate_cosine_similarity())"
   ]
  },
  {
   "attachments": {},
   "cell_type": "markdown",
   "metadata": {},
   "source": []
  }
 ],
 "metadata": {
  "kernelspec": {
   "display_name": "base",
   "language": "python",
   "name": "python3"
  },
  "language_info": {
   "codemirror_mode": {
    "name": "ipython",
    "version": 3
   },
   "file_extension": ".py",
   "mimetype": "text/x-python",
   "name": "python",
   "nbconvert_exporter": "python",
   "pygments_lexer": "ipython3",
   "version": "3.11.9"
  },
  "orig_nbformat": 4
 },
 "nbformat": 4,
 "nbformat_minor": 2
}
