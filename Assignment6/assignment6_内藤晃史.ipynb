{
 "cells": [
  {
   "attachments": {},
   "cell_type": "markdown",
   "metadata": {},
   "source": [
    "# 課題0628\n",
    "\n",
    "そのまま課題ファイルで編集しないでください。課題ファイルを複製してから課題を回答してください。"
   ]
  },
  {
   "cell_type": "code",
   "outputs": [],
   "source": [
    "import numpy as np\n",
    "import matplotlib.pyplot as plt"
   ],
   "metadata": {
    "collapsed": false,
    "ExecuteTime": {
     "end_time": "2024-06-19T11:02:04.562528Z",
     "start_time": "2024-06-19T11:02:04.040753Z"
    }
   },
   "execution_count": 1
  },
  {
   "attachments": {},
   "cell_type": "markdown",
   "metadata": {},
   "source": [
    "## 課題１\n",
    "\n",
    "- ```NumPy```を使って、最小二乗法で重回帰分析の係数を推定する関数を作成しよう。\n",
    "- 与えられたデータで実装して動作を確認せよ。"
   ]
  },
  {
   "cell_type": "code",
   "execution_count": 18,
   "metadata": {
    "ExecuteTime": {
     "end_time": "2024-06-19T11:10:18.351934Z",
     "start_time": "2024-06-19T11:10:18.347775Z"
    }
   },
   "outputs": [],
   "source": [
    "def get_PartialRegressionCoefficient(X, Y):\n",
    "    #先頭列にバイアスのための1を追加\n",
    "    X = np.insert(X,0,1, axis=1)\n",
    "    #線形予測子の計算\n",
    "    beta = np.linalg.inv(X.T @ X) @ X.T @ Y\n",
    "    return beta "
   ]
  },
  {
   "cell_type": "code",
   "execution_count": 19,
   "metadata": {
    "ExecuteTime": {
     "end_time": "2024-06-19T11:10:19.794985Z",
     "start_time": "2024-06-19T11:10:19.786965Z"
    }
   },
   "outputs": [],
   "source": [
    "# このコードを実行し、データの読み込み\n",
    "# もしsklearnがインストールされていない場合は、!pip install sklearnを実行してください\n",
    "from sklearn.datasets import load_iris\n",
    "iris = load_iris()\n",
    "# Irisデータセットをロード\n",
    "iris = load_iris()\n",
    "X = iris.data  # 説明変数のデータ\n",
    "Y = iris.data[:, 1]  # 目的変数のデータ（がく片の幅）"
   ]
  },
  {
   "cell_type": "code",
   "execution_count": 20,
   "metadata": {
    "ExecuteTime": {
     "end_time": "2024-06-19T11:10:21.699624Z",
     "start_time": "2024-06-19T11:10:21.547188Z"
    }
   },
   "outputs": [
    {
     "name": "stdout",
     "output_type": "stream",
     "text": [
      "beta:  [-5.52530244e-13 -3.74145159e-14  1.00000000e+00  9.25093335e-14\n",
      " -1.15157883e-13]\n",
      "result:  [3.5 3.  3.2 3.1 3.6 3.9 3.4 3.4 2.9 3.1 3.7 3.4 3.  3.  4.  4.4 3.9 3.5\n",
      " 3.8 3.8 3.4 3.7 3.6 3.3 3.4 3.  3.4 3.5 3.4 3.2 3.1 3.4 4.1 4.2 3.1 3.2\n",
      " 3.5 3.6 3.  3.4 3.5 2.3 3.2 3.5 3.8 3.  3.8 3.2 3.7 3.3 3.2 3.2 3.1 2.3\n",
      " 2.8 2.8 3.3 2.4 2.9 2.7 2.  3.  2.2 2.9 2.9 3.1 3.  2.7 2.2 2.5 3.2 2.8\n",
      " 2.5 2.8 2.9 3.  2.8 3.  2.9 2.6 2.4 2.4 2.7 2.7 3.  3.4 3.1 2.3 3.  2.5\n",
      " 2.6 3.  2.6 2.3 2.7 3.  2.9 2.9 2.5 2.8 3.3 2.7 3.  2.9 3.  3.  2.5 2.9\n",
      " 2.5 3.6 3.2 2.7 3.  2.5 2.8 3.2 3.  3.8 2.6 2.2 3.2 2.8 2.8 2.7 3.3 3.2\n",
      " 2.8 3.  2.8 3.  2.8 3.8 2.8 2.8 2.6 3.  3.4 3.1 3.  3.1 3.1 3.1 2.7 3.2\n",
      " 3.3 3.  2.5 3.  3.4 3. ]\n"
     ]
    },
    {
     "data": {
      "text/plain": "[<matplotlib.lines.Line2D at 0x1d95f6d7710>]"
     },
     "execution_count": 20,
     "metadata": {},
     "output_type": "execute_result"
    },
    {
     "data": {
      "text/plain": "<Figure size 800x600 with 1 Axes>",
      "image/png": "[encoded data removed]"
     },
     "metadata": {},
     "output_type": "display_data"
    }
   ],
   "source": [
    "# Yを従属変数、Xを独立変数として、線形回帰モデルを作成し、回帰係数を求める\n",
    "beta = get_PartialRegressionCoefficient(X, Y)\n",
    "print(\"beta: \", beta)\n",
    "X = np.insert(X,0,1, axis=1)\n",
    "result = X @ beta\n",
    "print(\"result: \", result)\n",
    "plt.figure(figsize=(8, 6))\n",
    "plt.xlim(1.5,4.5)\n",
    "plt.plot(Y, result, linestyle='None', marker='o')\n",
    "plt.plot(np.arange(1,6), np.arange(1,6))"
   ]
  },
  {
   "attachments": {},
   "cell_type": "markdown",
   "metadata": {},
   "source": [
    "## 課題2\n",
    "\n",
    "以下の指示に従ってクラスを作成してください。\n",
    "\n",
    "- クラスをインスタント化する際は二つ同じサイズの```ndarray```($v_1$と$v_2$)が渡されます\n",
    "- クラスに$v_1$と$v_2$が同じサイズであるかどうかを確認するメソッドを実装しよう\n",
    "- クラスに$v_1$が$v_2$に射影する結果を計算するメソッドを実装しよう\n",
    "- クラスに$v_1$と$v_2$のコサイン類似度を計算するメソッドを実装しよう"
   ]
  },
  {
   "cell_type": "code",
   "execution_count": 9,
   "metadata": {
    "ExecuteTime": {
     "end_time": "2024-06-19T07:43:25.897279Z",
     "start_time": "2024-06-19T07:43:25.891163Z"
    }
   },
   "outputs": [],
   "source": [
    "class Vector():\n",
    "    def __init__(self, v_1, v_2):\n",
    "        self.v_1 = v_1\n",
    "        self.v_2 = v_2\n",
    "    \n",
    "    def is_equal(self):\n",
    "        return np.linalg.norm(self.v_1, ord=2) == np.linalg.norm(self.v_2,ord=2)\n",
    "    \n",
    "    def projection(self):\n",
    "        return np.dot(self.v_1,self.v_2)/(np.linalg.norm(self.v_2,ord=2))**2 * self.v_2\n",
    "    \n",
    "    def cosinesimilarity(self):\n",
    "        return np.dot(self.v_1,self.v_2)/np.linalg.norm(self.v_1,ord=2)/np.linalg.norm(self.v_2,ord=2)\n",
    "    \n",
    "        "
   ]
  },
  {
   "cell_type": "markdown",
   "source": [],
   "metadata": {
    "collapsed": false
   }
  },
  {
   "cell_type": "code",
   "execution_count": 10,
   "metadata": {
    "ExecuteTime": {
     "end_time": "2024-06-19T07:43:28.116233Z",
     "start_time": "2024-06-19T07:43:28.112027Z"
    }
   },
   "outputs": [
    {
     "name": "stdout",
     "output_type": "stream",
     "text": [
      "False\n",
      "[1.66233766 2.07792208 2.49350649]\n",
      "0.9746318461970762\n"
     ]
    }
   ],
   "source": [
    "# 確認\n",
    "import numpy as np\n",
    "v1 = np.array([1, 2, 3])\n",
    "v2 = np.array([4, 5, 6])\n",
    "vector = Vector(v1, v2)\n",
    "print(vector.is_equal())\n",
    "print(vector.projection())\n",
    "print(vector.cosinesimilarity())"
   ]
  },
  {
   "attachments": {},
   "cell_type": "markdown",
   "metadata": {},
   "source": []
  },
  {
   "cell_type": "markdown",
   "source": [
    "# 以下、授業内課題"
   ],
   "metadata": {
    "collapsed": false
   }
  },
  {
   "cell_type": "markdown",
   "source": [
    "与えられた二つのサイズが (5,2) の配列の各要素は、二次元空間での位置を表しています。二つの配列における同じ行である要素で表示する点間のユークリッド距離を計算してください。"
   ],
   "metadata": {
    "collapsed": false
   }
  },
  {
   "cell_type": "code",
   "outputs": [
    {
     "name": "stdout",
     "output_type": "stream",
     "text": [
      "14.325086658252562\n"
     ]
    }
   ],
   "source": [
    "array1 = np.array([[1, 2],\n",
    "                   [0, 4],\n",
    "                   [5, 6],\n",
    "                   [-2,2],\n",
    "                   [3, 6]])\n",
    "\n",
    "array2 = np.array([[6, 3],\n",
    "                   [7, 0],\n",
    "                   [5, 5],\n",
    "                   [9, 1],\n",
    "                   [5, 6]])\n"
   ],
   "metadata": {
    "collapsed": false,
    "ExecuteTime": {
     "end_time": "2024-06-19T05:21:43.765188Z",
     "start_time": "2024-06-19T05:21:43.760059Z"
    }
   },
   "execution_count": 16
  },
  {
   "cell_type": "markdown",
   "source": [
    "### 実践問題\n",
    "特定のベクトル $v$ を他のベクトル$u$に射影する結果を計算しよう。"
   ],
   "metadata": {
    "collapsed": false
   }
  },
  {
   "cell_type": "code",
   "outputs": [
    {
     "name": "stdout",
     "output_type": "stream",
     "text": [
      "[1 2] [3 4]\n",
      "11\n",
      "2.2\n",
      "[6.6 8.8]\n"
     ]
    }
   ],
   "source": [
    "v = np.array([1,2])\n",
    "u = np.array([3,4])\n",
    "\n",
    "print(v,u)\n",
    "x = np.dot(v,u)\n",
    "print(x)\n",
    "x = x/np.linalg.norm(u,2)\n",
    "print(x)\n",
    "x = x*u\n",
    "print(x)"
   ],
   "metadata": {
    "collapsed": false,
    "ExecuteTime": {
     "end_time": "2024-06-19T05:20:37.595097Z",
     "start_time": "2024-06-19T05:20:37.589808Z"
    }
   },
   "execution_count": 15
  }
 ],
 "metadata": {
  "kernelspec": {
   "display_name": "base",
   "language": "python",
   "name": "python3"
  },
  "language_info": {
   "codemirror_mode": {
    "name": "ipython",
    "version": 3
   },
   "file_extension": ".py",
   "mimetype": "text/x-python",
   "name": "python",
   "nbconvert_exporter": "python",
   "pygments_lexer": "ipython3",
   "version": "3.9.7"
  },
  "orig_nbformat": 4
 },
 "nbformat": 4,
 "nbformat_minor": 2
}
