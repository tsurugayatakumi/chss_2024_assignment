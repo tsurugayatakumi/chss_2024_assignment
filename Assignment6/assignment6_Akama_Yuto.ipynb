{
 "cells": [
  {
   "attachments": {},
   "cell_type": "markdown",
   "metadata": {},
   "source": [
    "# 課題0628\n",
    "\n",
    "そのまま課題ファイルで編集しないでください。課題ファイルを複製してから課題を回答してください。"
   ]
  },
  {
   "attachments": {},
   "cell_type": "markdown",
   "metadata": {},
   "source": [
    "## 課題１\n",
    "\n",
    "- ```NumPy```を使って、最小二乗法で重回帰分析の係数を推定する関数を作成しよう。\n",
    "- 与えられたデータで実装して動作を確認せよ。"
   ]
  },
  {
   "cell_type": "code",
   "execution_count": 18,
   "metadata": {},
   "outputs": [],
   "source": [
    "import numpy as np"
   ]
  },
  {
   "cell_type": "code",
   "execution_count": 19,
   "metadata": {},
   "outputs": [],
   "source": [
    "def get_PartialRegressionCoefficient():\n",
    "    pass"
   ]
  },
  {
   "cell_type": "code",
   "execution_count": 20,
   "metadata": {},
   "outputs": [],
   "source": [
    "# このコードを実行し、データの読み込み\n",
    "# もしsklearnがインストールされていない場合は、!pip install sklearnを実行してください\n",
    "from sklearn.linear_model import LinearRegression\n",
    "from sklearn.datasets import load_iris\n",
    "\n",
    "# Irisデータセットをロード\n",
    "iris = load_iris()\n",
    "X = iris.data  # 説明変数のデータ\n",
    "Y = iris.data[:, 1]  # 目的変数のデータ（がく片の幅）"
   ]
  },
  {
   "cell_type": "code",
   "execution_count": 21,
   "metadata": {},
   "outputs": [
    {
     "name": "stdout",
     "output_type": "stream",
     "text": [
      "回帰係数: [ 6.39434375e-16  1.00000000e+00 -3.35849521e-17  2.09885105e-16]\n"
     ]
    }
   ],
   "source": [
    "# Yを従属変数、Xを独立変数として、線形回帰モデルを作成し、回帰係数を求める\n",
    "# 線形回帰モデルの作成と学習\n",
    "model = LinearRegression()\n",
    "model.fit(X, Y)\n",
    "\n",
    "# 回帰係数の取得\n",
    "coefficients = model.coef_\n",
    "\n",
    "# 結果の表示\n",
    "print(\"回帰係数:\", coefficients)"
   ]
  },
  {
   "attachments": {},
   "cell_type": "markdown",
   "metadata": {},
   "source": [
    "## 課題2\n",
    "\n",
    "以下の指示に従ってクラスを作成してください。\n",
    "\n",
    "- クラスをインスタント化する際は二つ同じサイズの```ndarray```($v_1$と$v_2$)が渡されます\n",
    "- クラスに$v_1$と$v_2$が同じサイズであるかどうかを確認するメソッドを実装しよう\n",
    "- クラスに$v_1$が$v_2$に射影する結果を計算するメソッドを実装しよう\n",
    "- クラスに$v_1$と$v_2$のコサイン類似度を計算するメソッドを実装しよう"
   ]
  },
  {
   "cell_type": "code",
   "execution_count": 22,
   "metadata": {},
   "outputs": [],
   "source": [
    "class Vector:\n",
    "    pass"
   ]
  },
  {
   "cell_type": "code",
   "execution_count": 23,
   "metadata": {},
   "outputs": [],
   "source": [
    "# 確認\n",
    "import numpy as np\n",
    "v1 = np.array([1, 2, 3])\n",
    "v2 = np.array([4, 5, 6])"
   ]
  },
  {
   "cell_type": "code",
   "execution_count": 24,
   "metadata": {},
   "outputs": [
    {
     "name": "stdout",
     "output_type": "stream",
     "text": [
      "True\n",
      "Projection of v1 onto v2: [1.66233766 2.07792208 2.49350649]\n",
      "Cosine similarity between v1 and v2: 0.9746318461970762\n"
     ]
    }
   ],
   "source": [
    "class VectorOperations:\n",
    "    def __init__(self, v1, v2):\n",
    "        self.v1 = v1\n",
    "        self.v2 = v2\n",
    "    \n",
    "    def check_same_size(self):\n",
    "        if self.v1.shape == self.v2.shape:\n",
    "            return True\n",
    "        else:\n",
    "            return False\n",
    "    \n",
    "    def projection(self):\n",
    "        # Calculate projection of v1 onto v2\n",
    "        # proj_v1_on_v2 = (v1 . v2 / v2 . v2) * v2\n",
    "        dot_product = np.dot(self.v1, self.v2)\n",
    "        v2_norm_squared = np.dot(self.v2, self.v2)\n",
    "        projection_vector = (dot_product / v2_norm_squared) * self.v2\n",
    "        return projection_vector\n",
    "    \n",
    "    def cosine_similarity(self):\n",
    "        # Calculate cosine similarity between v1 and v2\n",
    "        dot_product = np.dot(self.v1, self.v2)\n",
    "        v1_norm = np.linalg.norm(self.v1)\n",
    "        v2_norm = np.linalg.norm(self.v2)\n",
    "        similarity = dot_product / (v1_norm * v2_norm)\n",
    "        return similarity\n",
    "\n",
    "# Example usage:\n",
    "v1 = np.array([1, 2, 3])\n",
    "v2 = np.array([4, 5, 6])\n",
    "\n",
    "ops = VectorOperations(v1, v2)\n",
    "\n",
    "# Check if v1 and v2 have the same size\n",
    "print(ops.check_same_size())  # Output: True\n",
    "\n",
    "# Calculate projection of v1 onto v2\n",
    "projection_result = ops.projection()\n",
    "print(\"Projection of v1 onto v2:\", projection_result)\n",
    "\n",
    "# Calculate cosine similarity between v1 and v2\n",
    "cosine_similarity_result = ops.cosine_similarity()\n",
    "print(\"Cosine similarity between v1 and v2:\", cosine_similarity_result)\n",
    "\n"
   ]
  },
  {
   "attachments": {},
   "cell_type": "markdown",
   "metadata": {},
   "source": []
  }
 ],
 "metadata": {
  "kernelspec": {
   "display_name": "yuto",
   "language": "python",
   "name": "python3"
  },
  "language_info": {
   "codemirror_mode": {
    "name": "ipython",
    "version": 3
   },
   "file_extension": ".py",
   "mimetype": "text/x-python",
   "name": "python",
   "nbconvert_exporter": "python",
   "pygments_lexer": "ipython3",
   "version": "3.10.14"
  },
  "orig_nbformat": 4
 },
 "nbformat": 4,
 "nbformat_minor": 2
}
