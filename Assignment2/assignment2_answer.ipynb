{
 "cells": [
  {
   "attachments": {},
   "cell_type": "markdown",
   "metadata": {},
   "source": [
    "# 課題1\n",
    "\n",
    "与えられたリスト内重複な値を削除してください。"
   ]
  },
  {
   "cell_type": "code",
   "execution_count": 1,
   "metadata": {},
   "outputs": [],
   "source": [
    "numbers = [1, 2, 3, 2, 4, 3, 5, 4, 6, 57, 57, 6, 18, 7, 9, 8, 10, 9, 0, 0, 10]"
   ]
  },
  {
   "cell_type": "code",
   "execution_count": 2,
   "metadata": {},
   "outputs": [
    {
     "data": {
      "text/plain": [
       "{0, 1, 2, 3, 4, 5, 6, 7, 8, 9, 10, 18, 57}"
      ]
     },
     "execution_count": 2,
     "metadata": {},
     "output_type": "execute_result"
    }
   ],
   "source": [
    "set(numbers)"
   ]
  },
  {
   "cell_type": "code",
   "execution_count": 3,
   "metadata": {},
   "outputs": [
    {
     "data": {
      "text/plain": [
       "[0, 1, 2, 3, 4, 5, 6, 7, 8, 9, 10, 18, 57]"
      ]
     },
     "execution_count": 3,
     "metadata": {},
     "output_type": "execute_result"
    }
   ],
   "source": [
    "number= list(set(numbers))\n",
    "number"
   ]
  },
  {
   "cell_type": "code",
   "execution_count": 4,
   "metadata": {},
   "outputs": [
    {
     "data": {
      "text/plain": [
       "[1, 5, 18, 7, 8]"
      ]
     },
     "execution_count": 4,
     "metadata": {},
     "output_type": "execute_result"
    }
   ],
   "source": [
    "# リストから一度しか出現しない値を保持する\n",
    "numbers = [1, 2, 3, 2, 4, 3, 5, 4, 6, 57, 57, 6, 18, 7, 9, 8, 10, 9, 0, 0, 10]\n",
    "unique_list = []\n",
    "\n",
    "for value in numbers:\n",
    "    if numbers.count(value) == 1:\n",
    "        unique_list.append(value)\n",
    "        \n",
    "unique_list"
   ]
  },
  {
   "attachments": {},
   "cell_type": "markdown",
   "metadata": {},
   "source": [
    "# 課題2\n",
    "\n",
    "与えられたリスト内の指定した値を検索し、値の出現回数を```print```してください。見つからない場合は```Not Exists```を```print```してください。\n",
    "\n",
    "```value_0```と```value_１```を実行した結果を確認してください。"
   ]
  },
  {
   "cell_type": "code",
   "execution_count": 6,
   "metadata": {},
   "outputs": [],
   "source": [
    "numbers = [1, 2, 3, 2, 4, 3, 5, 4, 6, 57, 57, 6, 18, 7, 9, 8, 10, 9, 0, 0, 10]\n",
    "value_0= 0\n",
    "value_1= 100"
   ]
  },
  {
   "cell_type": "code",
   "execution_count": 8,
   "metadata": {},
   "outputs": [
    {
     "name": "stdout",
     "output_type": "stream",
     "text": [
      "value_0はnumbersの中にあります\n"
     ]
    }
   ],
   "source": [
    "# 標準なやり方\n",
    "if value_0 in numbers:\n",
    "    print('value_0はnumbersの中にあります')"
   ]
  },
  {
   "cell_type": "code",
   "execution_count": 9,
   "metadata": {},
   "outputs": [
    {
     "name": "stdout",
     "output_type": "stream",
     "text": [
      "value_0はnumbersの中にあります\n"
     ]
    }
   ],
   "source": [
    "# 同じことをしているが、少し冗長なやり方\n",
    "if (value_0 in numbers) == True:\n",
    "    print('value_0はnumbersの中にあります')"
   ]
  },
  {
   "cell_type": "code",
   "execution_count": 10,
   "metadata": {},
   "outputs": [],
   "source": [
    "# 間違い\n",
    "if value_0 in numbers = True:\n",
    "    print('value_0はnumbersの中にあります')"
   ]
  },
  {
   "attachments": {},
   "cell_type": "markdown",
   "metadata": {},
   "source": [
    "# 課題3\n",
    "\n",
    "与えられた辞書内の指定したに一致するキーを検索し、そのキーに対応する値を```print```してください。見つからない場合は```Not Exists```を```print```してください。\n",
    "\n",
    "```value_0```と```value_１```を実行した結果を確認してください。"
   ]
  },
  {
   "cell_type": "code",
   "execution_count": 12,
   "metadata": {},
   "outputs": [],
   "source": [
    "birth={'Marx': 1818,\n",
    "       'Weber': 1864,\n",
    "       'Durkheim': 1858,\n",
    "       'Parsons': 1902,\n",
    "       'Merton': 1911}\n",
    "\n",
    "value_0= \"Parsons\"\n",
    "value_1= \"Giddens\""
   ]
  },
  {
   "cell_type": "code",
   "execution_count": 25,
   "metadata": {},
   "outputs": [
    {
     "name": "stdout",
     "output_type": "stream",
     "text": [
      "value_0はbirthの中にあります\n"
     ]
    }
   ],
   "source": [
    "if value_0 in birth:\n",
    "    print('value_0はbirthの中にあります')"
   ]
  },
  {
   "cell_type": "code",
   "execution_count": 13,
   "metadata": {},
   "outputs": [
    {
     "name": "stdout",
     "output_type": "stream",
     "text": [
      "value_0はbirthの中にあります\n"
     ]
    }
   ],
   "source": [
    "if value_0 in birth.keys():\n",
    "    print('value_0はbirthの中にあります')"
   ]
  },
  {
   "attachments": {},
   "cell_type": "markdown",
   "metadata": {},
   "source": [
    "# 課題4\n",
    "\n",
    "与えられた辞書の値を新しいリストに格納し、降順にソートしてください。"
   ]
  },
  {
   "cell_type": "code",
   "execution_count": 14,
   "metadata": {},
   "outputs": [],
   "source": [
    "birth={'Marx': 1818,\n",
    "       'Weber': 1864,\n",
    "       'Durkheim': 1858,\n",
    "       'Parsons': 1902,\n",
    "       'Merton': 1911}"
   ]
  },
  {
   "cell_type": "code",
   "execution_count": 27,
   "metadata": {},
   "outputs": [],
   "source": [
    "a=list(birth.values())"
   ]
  },
  {
   "cell_type": "code",
   "execution_count": 28,
   "metadata": {},
   "outputs": [
    {
     "data": {
      "text/plain": [
       "[1911, 1902, 1858, 1864, 1818]"
      ]
     },
     "execution_count": 28,
     "metadata": {},
     "output_type": "execute_result"
    }
   ],
   "source": [
    "a[::-1]"
   ]
  },
  {
   "cell_type": "code",
   "execution_count": 21,
   "metadata": {},
   "outputs": [
    {
     "name": "stdout",
     "output_type": "stream",
     "text": [
      "None\n"
     ]
    }
   ],
   "source": [
    "print(a)"
   ]
  },
  {
   "cell_type": "code",
   "execution_count": null,
   "metadata": {},
   "outputs": [],
   "source": []
  }
 ],
 "metadata": {
  "kernelspec": {
   "display_name": "base",
   "language": "python",
   "name": "python3"
  },
  "language_info": {
   "codemirror_mode": {
    "name": "ipython",
    "version": 3
   },
   "file_extension": ".py",
   "mimetype": "text/x-python",
   "name": "python",
   "nbconvert_exporter": "python",
   "pygments_lexer": "ipython3",
   "version": "3.9.7"
  },
  "orig_nbformat": 4
 },
 "nbformat": 4,
 "nbformat_minor": 2
}
