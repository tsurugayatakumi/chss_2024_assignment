{
 "cells": [
  {
   "cell_type": "markdown",
   "metadata": {},
   "source": [
    "# 第二回の課題\n",
    "\n",
    "課題ファイルを複製し、ファイル名を```assignment_{自分の名前}.ipynb```に変更してから課題を回答してください。"
   ]
  },
  {
   "cell_type": "markdown",
   "metadata": {},
   "source": [
    "## 課題1\n",
    "\n",
    "与えられたリスト内重複な値を削除してください。"
   ]
  },
  {
   "cell_type": "code",
   "execution_count": 15,
   "metadata": {
    "jupyter": {
     "is_executing": true
    },
    "metadata": {}
   },
   "outputs": [
    {
     "name": "stdout",
     "output_type": "stream",
     "text": [
      "[0, 1, 2, 3, 4, 5, 6, 7, 8, 9, 10, 18, 57]\n",
      "[1, 2, 3, 4, 5, 6, 57, 18, 7, 9, 8, 10, 0]\n"
     ]
    }
   ],
   "source": [
    "numbers = [1, 2, 3, 2, 4, 3, 5, 4, 6, 57, 57, 6, 18, 7, 9, 8, 10, 9, 0, 0, 10]\n",
    "new_numbers = list(set(numbers))\n",
    "print(new_numbers)\n",
    "\n",
    "#another approach to the problem\n",
    "new_list = []\n",
    "for item in numbers:\n",
    "    if item not in new_list:\n",
    "        new_list.append(item)\n",
    "print(new_list)"
   ]
  },
  {
   "cell_type": "markdown",
   "metadata": {},
   "source": [
    "## 課題2\n",
    "\n",
    "与えられたリスト内の指定した値を検索し、値の出現回数をprintしてください。見つからない場合はNot Existsをprintしてください。\n",
    "\n",
    "value_0とvalue_１を実行した結果を確認してください。"
   ]
  },
  {
   "cell_type": "code",
   "execution_count": 9,
   "metadata": {
    "jupyter": {
     "is_executing": true
    },
    "metadata": {}
   },
   "outputs": [
    {
     "name": "stdout",
     "output_type": "stream",
     "text": [
      "Value 0 appears 2 times\n",
      "Value 100 does not exist\n",
      "Value 0 appears 2 times.\n",
      "Value 100 does not exist.\n"
     ]
    }
   ],
   "source": [
    "numbers = [1, 2, 3, 2, 4, 3, 5, 4, 6, 57, 57, 6, 18, 7, 9, 8, 10, 9, 0, 0, 10]\n",
    "value_0= 0\n",
    "value_1= 100\n",
    "# Method 1\n",
    "i = 0\n",
    "j = 0\n",
    "for item in numbers:\n",
    "    if item == value_0:\n",
    "        i += 1\n",
    "    elif item == value_1:\n",
    "        j += 1\n",
    "\n",
    "if i == 0:\n",
    "    print(f\"Value {value_0} does not exist\")\n",
    "else:\n",
    "    print(f\"Value {value_0} appears {i} times\")\n",
    "    \n",
    "if j == 0:\n",
    "    print(f\"Value {value_1} does not exist\")\n",
    "else:\n",
    "    print(f\"Value {value_0} appears {j} times\")\n",
    "\n",
    "# Method 2\n",
    "count_value_0 = numbers.count(value_0)\n",
    "count_value_1 = numbers.count(value_1)\n",
    "\n",
    "if count_value_0 == 0:\n",
    "    print(f\"Value {value_0} does not exist.\")\n",
    "else:\n",
    "    print(f\"Value {value_0} appears {count_value_0} times.\")\n",
    "\n",
    "if count_value_1 == 0:\n",
    "    print(f\"Value {value_1} does not exist.\")\n",
    "else:\n",
    "    print(f\"Value {value_1} appears {count_value_1} times.\")\n"
   ]
  },
  {
   "cell_type": "markdown",
   "metadata": {},
   "source": [
    "## 課題3\n",
    "\n",
    "与えられた辞書内の指定したに一致するキーを検索し、そのキーに対応する値をprintしてください。見つからない場合はNot Existsをprintしてください。\n",
    "\n",
    "value_0とvalue_１を実行した結果を確認してください。"
   ]
  },
  {
   "cell_type": "code",
   "execution_count": 11,
   "metadata": {
    "metadata": {}
   },
   "outputs": [
    {
     "name": "stdout",
     "output_type": "stream",
     "text": [
      "1902\n",
      "Not Exists\n"
     ]
    }
   ],
   "source": [
    "birth={'Marx': 1818,\n",
    "       'Weber': 1864,\n",
    "       'Durkheim': 1858,\n",
    "       'Parsons': 1902,\n",
    "       'Merton': 1911}\n",
    "\n",
    "value_0= \"Parsons\"\n",
    "value_1= \"Giddens\"\n",
    "\n",
    "if value_0 in birth:\n",
    "    print(birth[value_0])\n",
    "else:\n",
    "    print(\"Not Exists\")\n",
    "if value_1 in birth:\n",
    "    print(birth[value_1])\n",
    "else:\n",
    "    print(\"Not Exists\")"
   ]
  },
  {
   "cell_type": "markdown",
   "metadata": {},
   "source": [
    "## 課題4\n",
    "\n",
    "与えられた辞書の値を新しいリストに格納し、降順にソートしてください。"
   ]
  },
  {
   "cell_type": "code",
   "execution_count": 14,
   "metadata": {
    "metadata": {}
   },
   "outputs": [
    {
     "name": "stdout",
     "output_type": "stream",
     "text": [
      "[1911, 1902, 1864, 1858, 1818]\n"
     ]
    }
   ],
   "source": [
    "birth={'Marx': 1818,\n",
    "       'Weber': 1864,\n",
    "       'Durkheim': 1858,\n",
    "       'Parsons': 1902,\n",
    "       'Merton': 1911}\n",
    "\n",
    "# Method 1\n",
    "list_birth = list(birth.values())\n",
    "new_list_birth = sorted(list_birth, reverse = True)\n",
    "print(new_list_birth)"
   ]
  },
  {
   "cell_type": "markdown",
   "metadata": {},
   "source": []
  },
  {
   "cell_type": "markdown",
   "metadata": {},
   "source": []
  }
 ],
 "metadata": {
  "kernelspec": {
   "display_name": "Python 3",
   "language": "python",
   "name": "python3"
  },
  "language_info": {
   "codemirror_mode": {
    "name": "ipython",
    "version": 3
   },
   "file_extension": ".py",
   "mimetype": "text/x-python",
   "name": "python",
   "nbconvert_exporter": "python",
   "pygments_lexer": "ipython3",
   "version": "3.12.2"
  }
 },
 "nbformat": 4,
 "nbformat_minor": 2
}
