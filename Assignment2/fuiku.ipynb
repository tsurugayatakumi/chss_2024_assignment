{
 "cells": [
  {
   "cell_type": "markdown",
   "metadata": {},
   "source": []
  },
  {
   "cell_type": "markdown",
   "metadata": {},
   "source": [
    "## 課題1\n",
    "\n",
    "与えられたリスト内重複な値を削除してください。"
   ]
  },
  {
   "cell_type": "code",
   "execution_count": 4,
   "metadata": {},
   "outputs": [],
   "source": [
    "numbers = [1, 2, 3, 2, 4, 3, 5, 4, 6, 57, 57, 6, 18, 7, 9, 8, 10, 9, 0, 0, 10]"
   ]
  },
  {
   "cell_type": "code",
   "execution_count": 85,
   "metadata": {},
   "outputs": [
    {
     "name": "stdout",
     "output_type": "stream",
     "text": [
      "[0, 1, 2, 3, 4, 5, 6, 7, 8, 9, 10, 18, 57]\n"
     ]
    }
   ],
   "source": [
    "newnumbers = set(numbers)\n",
    "newnumbers1 = list(newnumbers)\n",
    "print(newnumbers1)"
   ]
  },
  {
   "cell_type": "markdown",
   "metadata": {},
   "source": [
    "## 課題2\n",
    "\n",
    "与えられたリスト内の指定した値を検索し、値の出現回数をprintしてください。見つからない場合はNot Existsをprintしてください。\n",
    "\n",
    "value_0とvalue_１を実行した結果を確認してください。"
   ]
  },
  {
   "cell_type": "code",
   "execution_count": 89,
   "metadata": {},
   "outputs": [],
   "source": [
    "numbers = [1, 2, 3, 2, 4, 3, 5, 4, 6, 57, 57, 6, 18, 7, 9, 8, 10, 9, 0, 0, 10]\n",
    "value_0= 0\n",
    "value_1= 100\n",
    "def cz(numbers,value):\n",
    "    count = numbers.count(value)\n",
    "    if count == 0 :\n",
    "       print(\"Not Exists\")\n",
    "    else :\n",
    "       print(count)"
   ]
  },
  {
   "cell_type": "code",
   "execution_count": 90,
   "metadata": {},
   "outputs": [
    {
     "name": "stdout",
     "output_type": "stream",
     "text": [
      "2\n",
      "Not Exists\n"
     ]
    }
   ],
   "source": [
    "cz(numbers,value_0)\n",
    "cz(numbers,value_1)"
   ]
  },
  {
   "cell_type": "markdown",
   "metadata": {},
   "source": [
    "## 課題3\n",
    "\n",
    "与えられた辞書内の指定したに一致するキーを検索し、そのキーに対応する値をprintしてください。見つからない場合はNot Existsをprintしてください。\n",
    "\n",
    "value_0とvalue_１を実行した結果を確認してください。"
   ]
  },
  {
   "cell_type": "code",
   "execution_count": 62,
   "metadata": {},
   "outputs": [],
   "source": [
    "birth={'Marx': 1818,\n",
    "       'Weber': 1864,\n",
    "       'Durkheim': 1858,\n",
    "       'Parsons': 1902,\n",
    "       'Merton': 1911}\n",
    "\n",
    "value_0= \"Parsons\"\n",
    "value_1= \"Giddens\""
   ]
  },
  {
   "cell_type": "code",
   "execution_count": 87,
   "metadata": {},
   "outputs": [
    {
     "name": "stdout",
     "output_type": "stream",
     "text": [
      "1902\n",
      "not exists\n"
     ]
    }
   ],
   "source": [
    "def p_g(birth,value):\n",
    "    if value in birth:\n",
    "        print(birth[value])\n",
    "    else:\n",
    "        print('not exists') \n",
    "        \n",
    "p_g(birth,value_0) \n",
    "p_g(birth,value_1)"
   ]
  },
  {
   "cell_type": "markdown",
   "metadata": {},
   "source": [
    "## 課題4\n",
    "\n",
    "与えられた辞書の値を新しいリストに格納し、降順にソートしてください。"
   ]
  },
  {
   "cell_type": "code",
   "execution_count": 72,
   "metadata": {},
   "outputs": [],
   "source": [
    "birth={'Marx': 1818,\n",
    "       'Weber': 1864,\n",
    "       'Durkheim': 1858,\n",
    "       'Parsons': 1902,\n",
    "       'Merton': 1911}"
   ]
  },
  {
   "cell_type": "code",
   "execution_count": 82,
   "metadata": {},
   "outputs": [
    {
     "name": "stdout",
     "output_type": "stream",
     "text": [
      "[1911, 1902, 1864, 1858, 1818]\n"
     ]
    }
   ],
   "source": [
    "list1 = list(birth.values())\n",
    "list1.sort(reverse=True)\n",
    "\n",
    "print(list1)"
   ]
  },
  {
   "cell_type": "markdown",
   "metadata": {},
   "source": []
  },
  {
   "cell_type": "markdown",
   "metadata": {},
   "source": []
  }
 ],
 "metadata": {
  "kernelspec": {
   "display_name": "Python 3",
   "language": "python",
   "name": "python3"
  },
  "language_info": {
   "codemirror_mode": {
    "name": "ipython",
    "version": 3
   },
   "file_extension": ".py",
   "mimetype": "text/x-python",
   "name": "python",
   "nbconvert_exporter": "python",
   "pygments_lexer": "ipython3",
   "version": "3.12.3"
  }
 },
 "nbformat": 4,
 "nbformat_minor": 2
}
