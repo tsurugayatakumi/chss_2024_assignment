{
 "cells": [
  {
   "cell_type": "markdown",
   "source": [
    "# 第二回の課題\n",
    "\n",
    "課題ファイルを複製し、ファイル名を```assignment_{自分の名前}.ipynb```に変更してから課題を回答してください。"
   ],
   "metadata": {
    "collapsed": false
   },
   "id": "95b8ddde1c7ce3dd"
  },
  {
   "cell_type": "markdown",
   "source": [
    "## 課題1\n",
    "\n",
    "与えられたリスト内重複な値を削除してください。"
   ],
   "metadata": {
    "collapsed": false
   },
   "id": "ae3abee1061160ec"
  },
  {
   "cell_type": "code",
   "outputs": [],
   "source": [
    "numbers = [1, 2, 3, 2, 4, 3, 5, 4, 6, 57, 57, 6, 18, 7, 9, 8, 10, 9, 0, 0, 10]"
   ],
   "metadata": {
    "collapsed": false
   },
   "id": "14a1f3277e5ad4fb",
   "execution_count": 1
  },
  {
   "cell_type": "code",
   "outputs": [
    {
     "name": "stdout",
     "output_type": "stream",
     "text": [
      "{0, 1, 2, 3, 4, 5, 6, 7, 8, 9, 10, 18, 57}\n"
     ]
    }
   ],
   "source": [
    "answer = set(numbers)\n",
    "print(answer)"
   ],
   "metadata": {
    "collapsed": false
   },
   "id": "25ea5eee56e55246",
   "execution_count": 2
  },
  {
   "cell_type": "markdown",
   "source": [
    "## 課題2\n",
    "\n",
    "与えられたリスト内の指定した値を検索し、値の出現回数をprintしてください。見つからない場合はNot Existsをprintしてください。\n",
    "\n",
    "value_0とvalue_１を実行した結果を確認してください。"
   ],
   "metadata": {
    "collapsed": false
   },
   "id": "f0c7e37be3bbd2f7"
  },
  {
   "cell_type": "code",
   "outputs": [],
   "source": [
    "numbers = [1, 2, 3, 2, 4, 3, 5, 4, 6, 57, 57, 6, 18, 7, 9, 8, 10, 9, 0, 0, 10]\n",
    "value_0= 0\n",
    "value_1= 100"
   ],
   "metadata": {
    "collapsed": false
   },
   "id": "261f0ebb1fb2b1fe",
   "execution_count": 3
  },
  {
   "cell_type": "code",
   "outputs": [
    {
     "name": "stdout",
     "output_type": "stream",
     "text": [
      "2\n",
      "Not Exists\n"
     ]
    }
   ],
   "source": [
    "def count_value(numbers, count_value):\n",
    "    count = numbers.count(count_value)\n",
    "    if count:\n",
    "       return print(count)\n",
    "    else:\n",
    "       return print(\"Not Exists\")\n",
    "\n",
    "#value_0の数\n",
    "count_value(numbers, value_0)\n",
    "#value_1の数\n",
    "count_value(numbers, value_1)"
   ],
   "metadata": {
    "collapsed": false
   },
   "id": "e8e3c96599971ab7",
   "execution_count": 5
  },
  {
   "cell_type": "markdown",
   "source": [
    "## 課題3\n",
    "\n",
    "与えられた辞書内の指定したに一致するキーを検索し、そのキーに対応する値をprintしてください。見つからない場合はNot Existsをprintしてください。\n",
    "\n",
    "value_0とvalue_１を実行した結果を確認してください。"
   ],
   "metadata": {
    "collapsed": false
   },
   "id": "b45b82a9fa84b121"
  },
  {
   "cell_type": "code",
   "outputs": [],
   "source": [
    "birth={'Marx': 1818,\n",
    "       'Weber': 1864,\n",
    "       'Durkheim': 1858,\n",
    "       'Parsons': 1902,\n",
    "       'Merton': 1911}\n",
    "\n",
    "value_0= \"Parsons\"\n",
    "value_1= \"Giddens\""
   ],
   "metadata": {
    "collapsed": false
   },
   "id": "a725d45d8eb51a65",
   "execution_count": 9
  },
  {
   "cell_type": "code",
   "outputs": [
    {
     "name": "stdout",
     "output_type": "stream",
     "text": [
      "1902\n",
      "Not Exists\n"
     ]
    }
   ],
   "source": [
    "def find_value(dictionary, key):\n",
    "    if key in dictionary.keys():\n",
    "       return print(dictionary[key])\n",
    "    else:\n",
    "       return print(\"Not Exists\")\n",
    "\n",
    "#value_0の値\n",
    "find_value(birth, value_0)\n",
    "#value_1の値\n",
    "find_value(birth, value_1)"
   ],
   "metadata": {
    "collapsed": false
   },
   "id": "7ab93b8c896259a4",
   "execution_count": 11
  },
  {
   "cell_type": "markdown",
   "source": [
    "## 課題4\n",
    "\n",
    "与えられた辞書の値を新しいリストに格納し、降順にソートしてください。"
   ],
   "metadata": {
    "collapsed": false
   },
   "id": "b73198b61d396d57"
  },
  {
   "cell_type": "code",
   "outputs": [],
   "source": [
    "birth={'Marx': 1818,\n",
    "       'Weber': 1864,\n",
    "       'Durkheim': 1858,\n",
    "       'Parsons': 1902,\n",
    "       'Merton': 1911}"
   ],
   "metadata": {
    "collapsed": false
   },
   "id": "be0b5dce310c7277",
   "execution_count": 13
  },
  {
   "cell_type": "code",
   "outputs": [
    {
     "name": "stdout",
     "output_type": "stream",
     "text": [
      "[1911, 1902, 1864, 1858, 1818]\n"
     ]
    }
   ],
   "source": [
    "def dict_sort(dictionary):\n",
    "    temp = list(dictionary.values())\n",
    "    temp.sort(reverse=True)\n",
    "    return print(temp)\n",
    "dict_sort(birth)"
   ],
   "metadata": {
    "collapsed": false
   },
   "id": "7864991dc7cf2d6d",
   "execution_count": 24
  },
  {
   "cell_type": "markdown",
   "source": [
    "# 以下は授業内練習課題"
   ],
   "metadata": {
    "collapsed": false
   },
   "id": "d43c3efbb3698abe"
  },
  {
   "cell_type": "code",
   "outputs": [
    {
     "name": "stdout",
     "output_type": "stream",
     "text": [
      "一日は86400秒です\n"
     ]
    }
   ],
   "source": [
    "#練習1\n",
    "print(\"一日は{}秒です\".format(60*60*24))"
   ],
   "metadata": {
    "collapsed": false
   },
   "id": "fbd8688e001ad1a3",
   "execution_count": 6
  },
  {
   "cell_type": "code",
   "outputs": [
    {
     "name": "stdout",
     "output_type": "stream",
     "text": [
      "一年は525949.0分12.0秒です\n"
     ]
    }
   ],
   "source": [
    "#練習2\n",
    "print(\"一年は{}分{}秒です\".format(60*60*24*365.2425//60, 60*60*24*365.2425%60))"
   ],
   "metadata": {
    "collapsed": false
   },
   "id": "900b86f5d04750b1",
   "execution_count": 8
  },
  {
   "cell_type": "code",
   "outputs": [
    {
     "name": "stdout",
     "output_type": "stream",
     "text": [
      "{'Marx': 1883, 'Weber': 1864, 'Durkheim': 1917}\n",
      "{'Marx': 1883, 'Weber': 1864, 'Durkheim': 1917, 'Merton': 2003}\n",
      "Marx died when he was 65 years old.\n"
     ]
    }
   ],
   "source": [
    "#練習3\n",
    "birth = {'Marx': 1818,\n",
    " 'Weber': 1864,\n",
    " 'Durkheim': 1858,\n",
    " 'Parsons': 1902,\n",
    " 'Merton': 1911}\n",
    "old_age = dict(Marx=1883, Weber=1920, Durkheim=1917)\n",
    "print(old_age)\n",
    "old_age[\"Merton\"]=2003\n",
    "print(old_age)\n",
    "age = old_age[\"Marx\"] - birth[\"Marx\"]\n",
    "print(\"Marx died when he was {} years old.\".format(age))"
   ],
   "metadata": {
    "collapsed": false
   },
   "id": "4e8727f78e36663d",
   "execution_count": 7
  },
  {
   "cell_type": "markdown",
   "source": [
    "## 分岐"
   ],
   "metadata": {
    "collapsed": false
   },
   "id": "51f0668418e2bfee"
  },
  {
   "cell_type": "code",
   "outputs": [
    {
     "name": "stdout",
     "output_type": "stream",
     "text": [
      "81\n"
     ]
    }
   ],
   "source": [
    "#練習1\n",
    "def calc(x):\n",
    "    if x<0:\n",
    "        return print(x+5)\n",
    "    elif x==0:\n",
    "        return print(x)\n",
    "    else:\n",
    "        return print(x**2)\n",
    "calc(9)"
   ],
   "metadata": {
    "collapsed": false
   },
   "id": "ff6a3db8acf0d883",
   "execution_count": 14
  },
  {
   "cell_type": "code",
   "outputs": [
    {
     "name": "stdout",
     "output_type": "stream",
     "text": [
      "500\n"
     ]
    }
   ],
   "source": [
    "#練習2\n",
    "def fee(age):\n",
    "    if age>=13:\n",
    "       return 1000\n",
    "    elif age>=4 and age<13:\n",
    "       return 500\n",
    "    else:\n",
    "       return 0\n",
    "age = 10\n",
    "print(fee(age))"
   ],
   "metadata": {
    "collapsed": false
   },
   "id": "974055a6a38f91de",
   "execution_count": 15
  },
  {
   "cell_type": "code",
   "outputs": [
    {
     "name": "stdout",
     "output_type": "stream",
     "text": [
      "サポートされている言語です\n"
     ]
    }
   ],
   "source": [
    "def find_language(lang):\n",
    "    languages = [\"Python\", \"Java\", \"C++\", \"JavaScript\"]\n",
    "    supported_languages = [\"Ruby\", \"Go\", \"PHP\"]\n",
    "    if lang in languages:\n",
    "       print(\"サポートされている言語です\")\n",
    "    elif lang in supported_languages:\n",
    "       print(\"他の言語でもサポートされています\")\n",
    "    else:\n",
    "       print(\"サポートされていない言語です\")\n",
    "user_language = \"Python\" # user_languageを変えてみよう\n",
    "find_language(user_language)"
   ],
   "metadata": {
    "collapsed": false
   },
   "id": "a4ba881c2f932779",
   "execution_count": 16
  },
  {
   "cell_type": "markdown",
   "source": [
    "## 練習課題"
   ],
   "metadata": {
    "collapsed": false
   },
   "id": "6e6d98d3933f43c1"
  },
  {
   "cell_type": "code",
   "outputs": [],
   "source": [
    "#練習課題1\n",
    "def check_palindrome(my_str):\n",
    "    if my_str == my_str[::-1]:\n",
    "        print(\"The string is a palindrome\")\n",
    "    else:\n",
    "        print(\"The string is not a palindrome\")\n",
    "\n",
    "my_str = 'aibohphobia'\n",
    "check_palindrome(my_str)\n",
    "my_str2 = 'たけやぶやけた'\n",
    "check_palindrome(my_str2)\n",
    "my_str3 = 'Tohoku'\n",
    "check_palindrome(my_str3)"
   ],
   "metadata": {
    "collapsed": false
   },
   "id": "b364385542039499"
  },
  {
   "cell_type": "code",
   "outputs": [
    {
     "data": {
      "text/plain": "'Computational Social Science'"
     },
     "execution_count": 27,
     "metadata": {},
     "output_type": "execute_result"
    }
   ],
   "source": [
    "#練習課題2\n",
    "def capital_upper(my_str:str):\n",
    "    #文頭は大文字\n",
    "    #文字列を一度リストに変換してあげる必要がある\n",
    "    chars = list(my_str)\n",
    "    chars[0] = chars[0].upper()\n",
    "    for i in range(1, len(my_str)):\n",
    "        if chars[i-1] == \" \":\n",
    "            chars[i] = chars[i].upper()\n",
    "    return ''.join(chars)\n",
    "my_string = \"computational social science\"\n",
    "result = capital_upper(my_string)\n",
    "capital_upper(result)"
   ],
   "metadata": {
    "collapsed": false
   },
   "id": "9114458a365275ba",
   "execution_count": 27
  },
  {
   "cell_type": "code",
   "outputs": [
    {
     "name": "stdout",
     "output_type": "stream",
     "text": [
      "[1, 3, 1, 6]\n"
     ]
    }
   ],
   "source": [
    "#練習課題3\n",
    "list_1 = [1, 3, 1, 6, 9]\n",
    "list_2 = [7, 5, 2, 8]\n",
    "for n in list_1:\n",
    "    if n in list_2:\n",
    "        list_1.remove(n)\n",
    "print(list_1)"
   ],
   "metadata": {
    "collapsed": false
   },
   "id": "a9bc486c44533998",
   "execution_count": 29
  },
  {
   "cell_type": "markdown",
   "source": [],
   "metadata": {
    "collapsed": false
   },
   "id": "ed33005ab341076"
  }
 ],
 "metadata": {
  "kernelspec": {
   "display_name": "Python 3",
   "language": "python",
   "name": "python3"
  },
  "language_info": {
   "codemirror_mode": {
    "name": "ipython",
    "version": 2
   },
   "file_extension": ".py",
   "mimetype": "text/x-python",
   "name": "python",
   "nbconvert_exporter": "python",
   "pygments_lexer": "ipython2",
   "version": "2.7.6"
  }
 },
 "nbformat": 4,
 "nbformat_minor": 5
}
