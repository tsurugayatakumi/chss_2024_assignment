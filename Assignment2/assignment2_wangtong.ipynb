{
 "cells": [
  {
   "cell_type": "markdown",
   "metadata": {},
   "source": [
    "# 第二回の課題\n",
    "\n",
    "課題ファイルを複製し、ファイル名を```assignment_{自分の名前}.ipynb```に変更してから課題を回答してください。"
   ]
  },
  {
   "cell_type": "markdown",
   "metadata": {},
   "source": [
    "## 課題1\n",
    "\n",
    "与えられたリスト内重複な値を削除してください。"
   ]
  },
  {
   "cell_type": "code",
<<<<<<< HEAD:Assignment2/assignment2_wangtong.ipynb
   "execution_count": 1,
=======
   "execution_count": null,
>>>>>>> main:Assignment2/assignment2.ipynb
   "metadata": {},
   "outputs": [
    {
     "name": "stdout",
     "output_type": "stream",
     "text": [
      "[0, 1, 2, 3, 4, 5, 6, 7, 8, 9, 10, 18, 57]\n"
     ]
    }
   ],
   "source": [
<<<<<<< HEAD:Assignment2/assignment2_wangtong.ipynb
    "numbers = [1, 2, 3, 2, 4, 3, 5, 4, 6, 57, 57, 6, 18, 7, 9, 8, 10, 9, 0, 0, 10]\n",
    "numbers = list(set(numbers))\n",
    "print(numbers)\n",
    "\n"
=======
    "numbers = [1, 2, 3, 2, 4, 3, 5, 4, 6, 57, 57, 6, 18, 7, 9, 8, 10, 9, 0, 0, 10]\n"
>>>>>>> main:Assignment2/assignment2.ipynb
   ]
  },
  {
   "cell_type": "markdown",
   "metadata": {},
   "source": [
    "## 課題2\n",
    "\n",
    "与えられたリスト内の指定した値を検索し、値の出現回数をprintしてください。見つからない場合はNot Existsをprintしてください。\n",
    "\n",
    "value_0とvalue_１を実行した結果を確認してください。"
   ]
  },
  {
   "cell_type": "code",
<<<<<<< HEAD:Assignment2/assignment2_wangtong.ipynb
   "execution_count": 2,
=======
   "execution_count": null,
>>>>>>> main:Assignment2/assignment2.ipynb
   "metadata": {},
   "outputs": [
    {
     "name": "stdout",
     "output_type": "stream",
     "text": [
      "value_0 :2\n",
      "value_1 Not Exists\n"
     ]
    }
   ],
   "source": [
    "numbers = [1, 2, 3, 2, 4, 3, 5, 4, 6, 57, 57, 6, 18, 7, 9, 8, 10, 9, 0, 0, 10]\n",
    "value_0= 0\n",
    "value_1= 100\n",
    "if numbers.count(value_0) > 0:\n",
    "   print(f\"value_0 :{numbers.count(value_0)}\")\n",
    "else:\n",
    "   print(\"value_0 Not Exists\")\n",
    "if numbers.count(value_1) > 0:\n",
    "   print(f\"value_1 :{numbers.count(value_1)}\")\n",
    "else:\n",
    "   print(\"value_1 Not Exists\")\n",
    "\n"
   ]
  },
  {
   "cell_type": "markdown",
   "metadata": {},
   "source": [
    "## 課題3\n",
    "\n",
    "与えられた辞書内の指定したに一致するキーを検索し、そのキーに対応する値をprintしてください。見つからない場合はNot Existsをprintしてください。\n",
    "\n",
    "value_0とvalue_１を実行した結果を確認してください。"
   ]
  },
  {
   "cell_type": "code",
<<<<<<< HEAD:Assignment2/assignment2_wangtong.ipynb
   "execution_count": 3,
=======
   "execution_count": null,
>>>>>>> main:Assignment2/assignment2.ipynb
   "metadata": {},
   "outputs": [
    {
     "name": "stdout",
     "output_type": "stream",
     "text": [
      "1902\n",
      "Not Exists\n"
     ]
    }
   ],
   "source": [
    "birth={'Marx': 1818,\n",
    "       'Weber': 1864,\n",
    "       'Durkheim': 1858,\n",
    "       'Parsons': 1902,\n",
    "       'Merton': 1911}\n",
    "\n",
    "value_0= \"Parsons\"\n",
    "value_1= \"Giddens\"\n",
    "print(birth.get(value_0, \"Not Exists\"))\n",
    "print(birth.get(value_1, \"Not Exists\"))\n"
   ]
  },
  {
   "cell_type": "markdown",
   "metadata": {},
   "source": [
    "## 課題4\n",
    "\n",
    "与えられた辞書の値を新しいリストに格納し、降順にソートしてください。"
   ]
  },
  {
   "cell_type": "code",
<<<<<<< HEAD:Assignment2/assignment2_wangtong.ipynb
   "execution_count": 4,
=======
   "execution_count": null,
>>>>>>> main:Assignment2/assignment2.ipynb
   "metadata": {},
   "outputs": [
    {
     "name": "stdout",
     "output_type": "stream",
     "text": [
      "[1911, 1902, 1864, 1858, 1818]\n"
     ]
    }
   ],
   "source": [
    "birth={'Marx': 1818,\n",
    "       'Weber': 1864,\n",
    "       'Durkheim': 1858,\n",
    "       'Parsons': 1902,\n",
    "       'Merton': 1911}\n",
    "sorted_birth = sorted(list(birth.values()), reverse=True)\n",
    "\n",
    "print(sorted_birth)"
   ]
  }
 ],
 "metadata": {
  "kernelspec": {
   "display_name": "base",
   "language": "python",
   "name": "python3"
  },
  "language_info": {
   "codemirror_mode": {
    "name": "ipython",
    "version": 3
   },
   "file_extension": ".py",
   "mimetype": "text/x-python",
   "name": "python",
   "nbconvert_exporter": "python",
   "pygments_lexer": "ipython3",
   "version": "3.12.3"
  }
 },
 "nbformat": 4,
 "nbformat_minor": 2
}
