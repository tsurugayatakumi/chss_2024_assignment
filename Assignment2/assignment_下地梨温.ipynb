{
 "cells": [
  {
   "cell_type": "markdown",
   "metadata": {},
   "source": [
    "# 第二回の課題\n",
    "\n",
    "課題ファイルを複製し、ファイル名を```assignment_{自分の名前}.ipynb```に変更してから課題を回答してください。"
   ]
  },
  {
   "cell_type": "markdown",
   "metadata": {},
   "source": [
    "## 課題1\n",
    "\n",
    "与えられたリスト内重複な値を削除してください。"
   ]
  },
  {
   "cell_type": "code",
   "execution_count": null,
   "metadata": {},
   "outputs": [
    {
     "ename": "",
     "evalue": "",
     "output_type": "error",
     "traceback": [
      "\u001b[1;31mカーネルを起動できませんでした。 \n",
      "\u001b[1;31mBad file descriptor (C:\\Users\\runneradmin\\AppData\\Local\\Temp\\tmpw8fxpxar\\build\\_deps\\bundled_libzmq-src\\src\\epoll.cpp:73). \n",
      "\u001b[1;31m詳細については、Jupyter [ログ] (command:jupyter.viewOutput) を参照してください。"
     ]
    }
   ],
   "source": [
    "numbers = [1, 2, 3, 2, 4, 3, 5, 4, 6, 57, 57, 6, 18, 7, 9, 8, 10, 9, 0, 0, 10]\n",
    "numbers2=list(set(numbers))\n",
    "print(numbers2)"
   ]
  },
  {
   "cell_type": "markdown",
   "metadata": {},
   "source": [
    "## 課題2\n",
    "\n",
    "与えられたリスト内の指定した値を検索し、値の出現回数をprintしてください。見つからない場合はNot Existsをprintしてください。\n",
    "\n",
    "value_0とvalue_１を実行した結果を確認してください。"
   ]
  },
  {
   "cell_type": "code",
   "execution_count": null,
   "metadata": {},
   "outputs": [
    {
     "ename": "",
     "evalue": "",
     "output_type": "error",
     "traceback": [
      "\u001b[1;31mカーネルを起動できませんでした。 \n",
      "\u001b[1;31mBad file descriptor (C:\\Users\\runneradmin\\AppData\\Local\\Temp\\tmpw8fxpxar\\build\\_deps\\bundled_libzmq-src\\src\\epoll.cpp:73). \n",
      "\u001b[1;31m詳細については、Jupyter [ログ] (command:jupyter.viewOutput) を参照してください。"
     ]
    }
   ],
   "source": [
    "numbers = [1, 2, 3, 2, 4, 3, 5, 4, 6, 57, 57, 6, 18, 7, 9, 8, 10, 9, 0, 0, 10]\n",
    "value_0= 0\n",
    "value_1= 100\n",
    "if numbers.count(value_0)==0:\n",
    "    print('Not Exists')\n",
    "else:\n",
    "    print(numbers.count(value_0))\n",
    "if numbers.count(value_1)==0:\n",
    "    print('Not Exists')\n",
    "else:\n",
    "    print(numbers.count(value_1))"
   ]
  },
  {
   "cell_type": "markdown",
   "metadata": {},
   "source": [
    "## 課題3\n",
    "\n",
    "与えられた辞書内の指定したに一致するキーを検索し、そのキーに対応する値をprintしてください。見つからない場合はNot Existsをprintしてください。\n",
    "\n",
    "value_0とvalue_１を実行した結果を確認してください。"
   ]
  },
  {
   "cell_type": "code",
   "execution_count": 7,
   "metadata": {},
   "outputs": [],
   "source": [
    "birth={'Marx': 1818,\n",
    "       'Weber': 1864,\n",
    "       'Durkheim': 1858,\n",
    "       'Parsons': 1902,\n",
    "       'Merton': 1911}\n",
    "\n",
    "value_0= \"Parsons\"\n",
    "value_1= \"Giddens\"\n",
    "if value_0 in birth :\n",
    "    print(birth[value_0])\n",
    "else:\n",
    "    print('Not Exists')\n",
    "if value_1 in birth :\n",
    "    print(birth[value_1])\n",
    "else:\n",
    "    print('Not Exists')   \n"
   ]
  },
  {
   "cell_type": "markdown",
   "metadata": {},
   "source": [
    "## 課題4\n",
    "\n",
    "与えられた辞書の値を新しいリストに格納し、降順にソートしてください。"
   ]
  },
  {
   "cell_type": "code",
   "execution_count": 8,
   "metadata": {},
   "outputs": [],
   "source": [
    "birth={'Marx': 1818,\n",
    "       'Weber': 1864,\n",
    "       'Durkheim': 1858,\n",
    "       'Parsons': 1902,\n",
    "       'Merton': 1911}"
   ]
  },
  {
   "cell_type": "markdown",
   "metadata": {},
   "source": []
  },
  {
   "cell_type": "markdown",
   "metadata": {},
   "source": []
  }
 ],
 "metadata": {
  "kernelspec": {
   "display_name": "Python 3",
   "language": "python",
   "name": "python3"
  },
  "language_info": {
   "codemirror_mode": {
    "name": "ipython",
    "version": 3
   },
   "file_extension": ".py",
   "mimetype": "text/x-python",
   "name": "python",
   "nbconvert_exporter": "python",
   "pygments_lexer": "ipython3",
   "version": "3.11.9"
  }
 },
 "nbformat": 4,
 "nbformat_minor": 2
}
