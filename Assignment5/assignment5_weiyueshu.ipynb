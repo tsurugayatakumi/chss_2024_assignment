{
 "cells": [
  {
   "attachments": {},
   "cell_type": "markdown",
   "metadata": {},
   "source": [
    "# 課題0621\n",
    "\n",
    "そのまま課題ファイルで編集しないでください。課題ファイルを複製してから課題を回答してください。"
   ]
  },
  {
   "attachments": {},
   "cell_type": "markdown",
   "metadata": {},
   "source": [
    "## 課題1\n",
    "\n",
    "```Person.py```から```Person```クラスと```Address```クラスをインポートしてください。"
   ]
  },
  {
   "cell_type": "code",
   "execution_count": 1,
   "metadata": {},
   "outputs": [],
   "source": [
    "from Person import Person, Address"
   ]
  },
  {
   "cell_type": "markdown",
   "metadata": {},
   "source": []
  },
  {
   "attachments": {},
   "cell_type": "markdown",
   "metadata": {},
   "source": [
    "## 課題2\n",
    "\n",
    "Jupyter Notebookで```Person.py```を実行してください。"
   ]
  },
  {
   "cell_type": "code",
   "execution_count": 5,
   "metadata": {},
   "outputs": [
    {
     "name": "stdout",
     "output_type": "stream",
     "text": [
      "Hello, my name is John Doe\n",
      "Hello, my name is Jane Smith\n"
     ]
    }
   ],
   "source": [
    "%run Person.py"
   ]
  },
  {
   "attachments": {},
   "cell_type": "markdown",
   "metadata": {},
   "source": [
    "## 課題3\n",
    "\n",
    "以下の指示に従って、```Person```クラスを継承する```Employee```というクラスを作成してください。\n",
    "\n",
    "- ```Employee```クラスでは、```Person```クラスから継承した```name```と```age```の属性に加えて、```employee_id```という属性が追加されています。\n",
    "- ```Employee```クラスに```Address```クラスに関するインスタントを集約してください。(適当な値を渡してください)\n",
    "- ```name```、```age```、```employee_id```と```Address```などの属性をプリントする```display_employee_info()```というメソッドを```Employee```クラスに追加してください。\n",
    "- ```Employee```をインスタント化にして、```display_employee_info()```メソッドを呼び出し、テストしてください。"
   ]
  },
  {
   "cell_type": "code",
   "execution_count": 11,
   "metadata": {},
   "outputs": [
    {
     "name": "stdout",
     "output_type": "stream",
     "text": [
      "Name: jack ma\n",
      "Age: 1993\n",
      "Employee ID: E12345\n",
      "Address: Main St, chengdu\n",
      "Address: ('China', 'chengdu', 'Main St')\n"
     ]
    }
   ],
   "source": [
    "class Employee(Person):\n",
    "    def __init__(self, name, age, employee_id, address):\n",
    "        super().__init__(name, age)\n",
    "        self.employee_id = employee_id\n",
    "        self.address = address\n",
    "\n",
    "    def display_employee_info(self):\n",
    "        print(f\"Name: {self.name}\")\n",
    "        print(f\"Age: {self.age()}\")\n",
    "        print(f\"Employee ID: {self.employee_id}\")\n",
    "        print(f\"Address: {self.address.street}, {self.address.city}\")\n",
    "        print(f\"Address: {self.address.get_full_address()}\")\n",
    "\n",
    "\n",
    "address = Address(\"China\", \"chengdu\", \"Main St\")\n",
    "\n",
    "employee = Employee(\"jack ma\", 30, \"E12345\", address)\n",
    "\n",
    "employee.display_employee_info()\n"
   ]
  },
  {
   "attachments": {},
   "cell_type": "markdown",
   "metadata": {},
   "source": []
  }
 ],
 "metadata": {
  "kernelspec": {
   "display_name": "base",
   "language": "python",
   "name": "python3"
  },
  "language_info": {
   "codemirror_mode": {
    "name": "ipython",
    "version": 3
   },
   "file_extension": ".py",
   "mimetype": "text/x-python",
   "name": "python",
   "nbconvert_exporter": "python",
   "pygments_lexer": "ipython3",
   "version": "3.12.2"
  },
  "orig_nbformat": 4
 },
 "nbformat": 4,
 "nbformat_minor": 2
}
