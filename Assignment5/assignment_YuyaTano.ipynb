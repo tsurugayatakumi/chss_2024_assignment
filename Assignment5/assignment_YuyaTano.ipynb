{
 "cells": [
  {
   "attachments": {},
   "cell_type": "markdown",
   "metadata": {},
   "source": [
    "# 課題0621\n",
    "\n",
    "そのまま課題ファイルで編集しないでください。課題ファイルを複製してから課題を回答してください。"
   ]
  },
  {
   "attachments": {},
   "cell_type": "markdown",
   "metadata": {},
   "source": [
    "## 課題1\n",
    "\n",
    "```Person.py```から```Person```クラスと```Address```クラスをインポートしてください。"
   ]
  },
  {
   "cell_type": "markdown",
   "metadata": {},
   "source": []
  },
  {
   "cell_type": "code",
   "execution_count": 10,
   "metadata": {},
   "outputs": [],
   "source": [
    "from Person import Person\n",
    "from Person import Address"
   ]
  },
  {
   "attachments": {},
   "cell_type": "markdown",
   "metadata": {},
   "source": [
    "## 課題2\n",
    "\n",
    "Jupyter Notebookで```Person.py```を実行してください。"
   ]
  },
  {
   "cell_type": "code",
   "execution_count": 11,
   "metadata": {},
   "outputs": [
    {
     "name": "stdout",
     "output_type": "stream",
     "text": [
      "Hello, my name is John Doe\n",
      "Hello, my name is Jane Smith\n"
     ]
    }
   ],
   "source": [
    "run Person.py #なぜか実行できたり出来なかったりする。"
   ]
  },
  {
   "cell_type": "code",
   "execution_count": 12,
   "metadata": {},
   "outputs": [],
   "source": [
    "#こっちでもいけるはず。ただし課題3のコードがバグる。\n",
    "#import Person\n",
    "#Person.main()"
   ]
  },
  {
   "attachments": {},
   "cell_type": "markdown",
   "metadata": {},
   "source": [
    "## 課題3\n",
    "\n",
    "以下の指示に従って、```Person```クラスを継承する```Employee```というクラスを作成してください。\n",
    "\n",
    "- ```Employee```クラスでは、```Person```クラスから継承した```name```と```age```の属性に加えて、```employee_id```という属性が追加されています。\n",
    "- ```Employee```クラスに```Address```クラスに関するインスタントを集約してください。(適当な値を渡してください)\n",
    "- ```name```、```age```、```employee_id```と```Address```などの属性をプリントする```display_employee_info()```というメソッドを```Employee```クラスに追加してください。\n",
    "- ```Employee```をインスタント化にして、```display_employee_info()```メソッドを呼び出し、テストしてください。"
   ]
  },
  {
   "cell_type": "code",
   "execution_count": 13,
   "metadata": {},
   "outputs": [],
   "source": [
    "class Employee(Person):\n",
    "\tdef __init__(self, name, birth, employee_id, address=None):\n",
    "\t\tsuper().__init__(name, birth)\n",
    "\t\tself.employee_id = employee_id\n",
    "\t\tself.address = address\n",
    "\n",
    "\tdef display_employee_info(self):\n",
    "\t\tprint(\"Name:{}, Age:{}\".format(self.name, super().age()))\n",
    "\t\t#print(f\"Name: {self.name}\")\n",
    "\t\t#print(\"Age: \", super().age())\n",
    "\t\tprint(\"Employee ID:\", self.employee_id)\n",
    "\t\tprint(\"Address:\", self.address.get_full_address())"
   ]
  },
  {
   "cell_type": "code",
   "execution_count": 14,
   "metadata": {},
   "outputs": [
    {
     "name": "stdout",
     "output_type": "stream",
     "text": [
      "Name:Yuya, Age:20\n",
      "Employee ID: C2LB\n",
      "Address: ('Miyagi-ken', 'Aoba-ku', 'Sanjo-machi')\n"
     ]
    }
   ],
   "source": [
    "address = Address(\"Miyagi-ken\", \"Aoba-ku\", \"Sanjo-machi\")\n",
    "employee = Employee(\"Yuya\", 2003, \"C2LB\", address)\n",
    "employee.display_employee_info()"
   ]
  },
  {
   "attachments": {},
   "cell_type": "markdown",
   "metadata": {},
   "source": []
  }
 ],
 "metadata": {
  "kernelspec": {
   "display_name": "base",
   "language": "python",
   "name": "python3"
  },
  "language_info": {
   "codemirror_mode": {
    "name": "ipython",
    "version": 3
   },
   "file_extension": ".py",
   "mimetype": "text/x-python",
   "name": "python",
   "nbconvert_exporter": "python",
   "pygments_lexer": "ipython3",
   "version": "3.11.7"
  },
  "orig_nbformat": 4
 },
 "nbformat": 4,
 "nbformat_minor": 2
}
