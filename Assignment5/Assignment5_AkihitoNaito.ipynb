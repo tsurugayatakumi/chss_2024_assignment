{
 "cells": [
  {
   "cell_type": "markdown",
   "source": [],
   "metadata": {
    "collapsed": false
   },
   "id": "e4cfec1ed5489951"
  },
  {
   "cell_type": "markdown",
   "source": [
    "# 課題0621\n",
    "\n",
    "そのまま課題ファイルで編集しないでください。課題ファイルを複製してから課題を回答してください。"
   ],
   "metadata": {
    "collapsed": false
   },
   "id": "4336b99d993bee2e"
  },
  {
   "cell_type": "markdown",
   "source": [
    "## 課題1\n",
    "\n",
    "```Person.py```から```Person```クラスと```Address```クラスをインポートしてください。"
   ],
   "metadata": {
    "collapsed": false
   },
   "id": "b5f2a1f3785897ef"
  },
  {
   "cell_type": "code",
   "outputs": [],
   "source": [
    "from Person import Person\n",
    "from Person import Address"
   ],
   "metadata": {
    "collapsed": false,
    "ExecuteTime": {
     "end_time": "2024-06-12T06:03:49.497687Z",
     "start_time": "2024-06-12T06:03:49.494113Z"
    }
   },
   "id": "a4f9ef259f4457bf",
   "execution_count": 24
  },
  {
   "cell_type": "markdown",
   "source": [
    "## 課題2\n",
    "\n",
    "Jupyter Notebookで```Person.py```を実行してください。"
   ],
   "metadata": {
    "collapsed": false
   },
   "id": "c3d9afcbd28f9bf3"
  },
  {
   "cell_type": "code",
   "outputs": [
    {
     "name": "stdout",
     "output_type": "stream",
     "text": [
      "Hello, my name is John Doe\n",
      "Hello, my name is Jane Smith\n"
     ]
    }
   ],
   "source": [
    "%run Person.py"
   ],
   "metadata": {
    "collapsed": false,
    "ExecuteTime": {
     "end_time": "2024-06-12T06:03:51.477562Z",
     "start_time": "2024-06-12T06:03:51.472376Z"
    }
   },
   "id": "1b41bb25cf8a711e",
   "execution_count": 25
  },
  {
   "cell_type": "markdown",
   "source": [
    "## 課題3\n",
    "\n",
    "以下の指示に従って、```Person```クラスを継承する```Employee```というクラスを作成してください。\n",
    "\n",
    "- ```Employee```クラスでは、```Person```クラスから継承した```name```と```age```の属性に加えて、```employee_id```という属性が追加されています。\n",
    "- ```Employee```クラスに```Address```クラスに関するインスタントを集約してください。(適当な値を渡してください)\n",
    "- ```name```、```age```、```employee_id```と```Address```などの属性をプリントする```display_employee_info()```というメソッドを```Employee```クラスに追加してください。\n",
    "- ```Employee```をインスタント化にして、```display_employee_info()```メソッドを呼び出し、テストしてください。"
   ],
   "metadata": {
    "collapsed": false
   },
   "id": "db3e90415c769e8f"
  },
  {
   "cell_type": "code",
   "outputs": [
    {
     "name": "stdout",
     "output_type": "stream",
     "text": [
      "Name: Conor\n",
      "Age: -14\n",
      "EmployeeID: RK800\n",
      "Address: ('Michigan', 'Detroit', 'West Torrance Avenue')\n"
     ]
    }
   ],
   "source": [
    "class Employee(Person):\n",
    "    def __init__(self, name, birth, employee_id, address=None):\n",
    "        super().__init__(name, birth, 2024)\n",
    "        self.employee_id = employee_id\n",
    "        \n",
    "    def display_employee_info(self):\n",
    "        print(\"Name:\", self.name)\n",
    "        print(\"Age:\", str(super().age()))\n",
    "        print(\"EmployeeID:\", str(self.employee_id))\n",
    "        print(\"Address:\", address.get_full_address())\n",
    "\n",
    "address = Address(\"Michigan\", \"Detroit\", \"West Torrance Avenue\")\n",
    "emp1 = Employee(\"Conor\", 2038, \"RK800\", address)\n",
    "emp1.display_employee_info()"
   ],
   "metadata": {
    "collapsed": false,
    "ExecuteTime": {
     "end_time": "2024-06-12T06:03:55.193378Z",
     "start_time": "2024-06-12T06:03:55.187034Z"
    }
   },
   "id": "b7d4075f7762de1",
   "execution_count": 26
  },
  {
   "cell_type": "markdown",
   "source": [
    "# 以下、授業内課題\n",
    "Personクラスにcurrent_yearという属性を追加してください。deathで没年を受け取って、print_death()メソッドを追加する。"
   ],
   "metadata": {
    "collapsed": false
   },
   "id": "31b148bad6531c32"
  },
  {
   "cell_type": "code",
   "execution_count": 1,
   "id": "initial_id",
   "metadata": {
    "collapsed": true,
    "ExecuteTime": {
     "end_time": "2024-06-12T04:15:38.822901Z",
     "start_time": "2024-06-12T04:15:38.811630Z"
    }
   },
   "outputs": [],
   "source": [
    "class Person:\n",
    "    def __init__(self, name, birth, current_year):\n",
    "        self.name = name\n",
    "        self.birth = birth\n",
    "        self.current_year = current_year\n",
    "\n",
    "    def say_hello(self):\n",
    "        print(\"Hello, my name is\", self.name)\n",
    "    \n",
    "    def print_birth(self):\n",
    "        print(\"{} was born in {}\".format(self.name,self.birth))\n",
    "    \n",
    "    def print_death(self, death):\n",
    "        print(\"{} was died at the age of {}\".format(self.name,death-self.birth))\n",
    "    \n",
    "    def print_age(self):\n",
    "        print(\"{} is {} years old\".format(self.name, self.current_year - self.birth))"
   ]
  },
  {
   "cell_type": "code",
   "outputs": [
    {
     "name": "stdout",
     "output_type": "stream",
     "text": [
      "Naito was born in 2001\n",
      "Naito is 23 years old\n"
     ]
    }
   ],
   "source": [
    "Naito = Person(\"Naito\", 2001, 2024)\n",
    "Naito.print_birth()\n",
    "Naito.print_age()"
   ],
   "metadata": {
    "collapsed": false,
    "ExecuteTime": {
     "end_time": "2024-06-12T04:15:38.831901Z",
     "start_time": "2024-06-12T04:15:38.824905Z"
    }
   },
   "id": "72ea9e68e92e0ebb",
   "execution_count": 2
  },
  {
   "cell_type": "markdown",
   "source": [
    "## 練習課題1\n",
    "以下の指示に従って、Sphereというクラスを作成しなさい。\n",
    "* インスタンス化時に`radius`という値を受け取る\n",
    "* surface_areaというメソッドで表面積を計算する\n",
    "$$ S = 4 \\pi r^2 $$\n",
    "* volumeというメソッドで体積を計算する\n",
    "$$ V = \\frac{4}{3} \\pi r^3 $$"
   ],
   "metadata": {
    "collapsed": false
   },
   "id": "6f880057f59ea7d1"
  },
  {
   "cell_type": "code",
   "outputs": [],
   "source": [
    "class Sphere:\n",
    "    def __init__(self, radius:float):\n",
    "        self.radius = radius\n",
    "        self.pi = 3.14\n",
    "    def surface_area(self):\n",
    "        return 4*self.pi*self.radius**2\n",
    "    def volume(self):\n",
    "        return 4/3*self.pi*self.radius**3"
   ],
   "metadata": {
    "collapsed": false,
    "ExecuteTime": {
     "end_time": "2024-06-12T04:15:38.838570Z",
     "start_time": "2024-06-12T04:15:38.833221Z"
    }
   },
   "id": "bec36091df298f4d",
   "execution_count": 3
  },
  {
   "cell_type": "code",
   "outputs": [
    {
     "data": {
      "text/plain": "4.1866666666666665"
     },
     "execution_count": 4,
     "metadata": {},
     "output_type": "execute_result"
    }
   ],
   "source": [
    "s = Sphere(1)\n",
    "s.surface_area()\n",
    "s.volume()"
   ],
   "metadata": {
    "collapsed": false,
    "ExecuteTime": {
     "end_time": "2024-06-12T04:15:38.848297Z",
     "start_time": "2024-06-12T04:15:38.839929Z"
    }
   },
   "id": "640e0973178b43c2",
   "execution_count": 4
  },
  {
   "cell_type": "markdown",
   "source": [
    "## 課題2\n",
    "「スイカ割りゲーム」のプログラムをクラスの形に整理してください。"
   ],
   "metadata": {
    "collapsed": false
   },
   "id": "3464d1f78937dccc"
  },
  {
   "cell_type": "code",
   "outputs": [
    {
     "name": "stdout",
     "output_type": "stream",
     "text": [
      "プレイヤーが移動しました: (1, 2)\n",
      "プレイヤーが移動しました: (2, 2)\n",
      "スイカを見つけました！\n"
     ]
    }
   ],
   "source": [
    "import random\n",
    "import math\n",
    "\n",
    "BOARD_SIZE = 5  # ボードサイズを定義\n",
    "\n",
    "def generate_position(board_size):\n",
    "    # スイカとプレイヤーの初期位置をランダムに生成\n",
    "    return (random.randrange(0, board_size), random.randrange(0, board_size))\n",
    "\n",
    "def determine_move(player_pos, target_pos):\n",
    "    # スイカに向かってプレイヤーを移動させる方向を決定\n",
    "    current_x, current_y = player_pos\n",
    "    target_x, target_y = target_pos\n",
    "\n",
    "    move_x = 1 if current_x < target_x else -1 if current_x > target_x else 0\n",
    "    move_y = 1 if current_y < target_y else -1 if current_y > target_y else 0\n",
    "\n",
    "    return (move_x, move_y)\n",
    "\n",
    "def move_player(player_pos, move_x, move_y):\n",
    "    # プレイヤーの位置を更新\n",
    "    new_x = player_pos[0] + move_x\n",
    "    new_y = player_pos[1] + move_y\n",
    "    return (new_x, new_y)\n",
    "\n",
    "def play_game(board_size):\n",
    "    suika_pos = generate_position(board_size)\n",
    "    player_pos = generate_position(board_size)\n",
    "\n",
    "    while suika_pos != player_pos:\n",
    "        move_x, move_y = determine_move(player_pos, suika_pos)\n",
    "        player_pos = move_player(player_pos, move_x, move_y)\n",
    "        print(\"プレイヤーが移動しました:\", player_pos)\n",
    "\n",
    "    print(\"スイカを見つけました！\")\n",
    "\n",
    "# ゲームを開始\n",
    "play_game(BOARD_SIZE)"
   ],
   "metadata": {
    "collapsed": false,
    "ExecuteTime": {
     "end_time": "2024-06-12T04:15:38.858286Z",
     "start_time": "2024-06-12T04:15:38.849545Z"
    }
   },
   "id": "9bfc9e23f8bac1ea",
   "execution_count": 5
  },
  {
   "cell_type": "markdown",
   "source": [
    "複数のプレイヤーが参加し、最初にスイカに到達したプレイヤーが勝つゲームを想定してください。\n",
    "各プレイヤーはそれぞれ独立してスイカに向かって移動し、ゲームの進行は各ターンで全プレイヤーが一度ずつ移動する。\n",
    "あるプレイヤーがスイカに到達したら、ゲームは終了します。\n",
    "このようなシナリオを実装してください。"
   ],
   "metadata": {
    "collapsed": false
   },
   "id": "36033c31912da842"
  },
  {
   "cell_type": "code",
   "outputs": [],
   "source": [
    "import random\n",
    "import math\n",
    "\n",
    "class WatermelonHunt:\n",
    "    def __init__(self, board_size, player_num):\n",
    "        self.board_size = board_size\n",
    "        self.suika_pos = (random.randrange(0, board_size), random.randrange(0, board_size))\n",
    "        self.player_pos = {}\n",
    "        for n in range(player_num):\n",
    "            self.player_pos[n] = (random.randrange(0, BOARD_SIZE), random.randrange(0, BOARD_SIZE))\n",
    "        print(\"スイカの位置{}\".format(self.suika_pos))\n",
    "        \n",
    "    def calc_distance(self, pos1, pos2):\n",
    "        diff_x = pos1[0] - pos2[0]\n",
    "        diff_y = pos1[1] - pos2[0]\n",
    "        return math.sqrt(diff_x**2 + diff_y**2)\n",
    "        \n",
    "        \n",
    "    def determine_move(self, player_pos, target_pos):\n",
    "        # スイカに向かってプレイヤーを移動させる方向を決定\n",
    "        current_x, current_y = player_pos\n",
    "        target_x, target_y = target_pos\n",
    "    \n",
    "        move_x = 1 if current_x < target_x else -1 if current_x > target_x else 0\n",
    "        move_y = 1 if current_y < target_y else -1 if current_y > target_y else 0\n",
    "\n",
    "        return move_x, move_y   \n",
    "    \n",
    "    def move_player(self, player_pos, move_x, move_y):\n",
    "        # プレイヤーの位置を更新\n",
    "        new_x = player_pos[0] + move_x\n",
    "        new_y = player_pos[1] + move_y\n",
    "        return new_x, new_y\n",
    "    \n",
    "    def play_game(self):\n",
    "        suika_pos = self.suika_pos\n",
    "        player_pos = self.player_pos\n",
    "    \n",
    "        while suika_pos != player_pos:\n",
    "            move_x, move_y = determine_move(player_pos, suika_pos)\n",
    "            self.player_pos = move_player(player_pos, move_x, move_y)\n",
    "            print(\"プレイヤーが移動しました:\", player_pos, move_x, move_y)\n",
    "    \n",
    "        print(\"スイカを見つけました！\")"
   ],
   "metadata": {
    "collapsed": false,
    "ExecuteTime": {
     "end_time": "2024-06-12T04:15:38.869032Z",
     "start_time": "2024-06-12T04:15:38.859328Z"
    }
   },
   "id": "a63a6c6de647a896",
   "execution_count": 6
  },
  {
   "cell_type": "code",
   "outputs": [
    {
     "ename": "TypeError",
     "evalue": "WatermelonHunt.play_game() missing 1 required positional argument: 'self'",
     "output_type": "error",
     "traceback": [
      "\u001B[1;31m---------------------------------------------------------------------------\u001B[0m",
      "\u001B[1;31mTypeError\u001B[0m                                 Traceback (most recent call last)",
      "Cell \u001B[1;32mIn[7], line 2\u001B[0m\n\u001B[0;32m      1\u001B[0m A \u001B[38;5;241m=\u001B[39m WatermelonHunt(\u001B[38;5;241m5\u001B[39m)\n\u001B[1;32m----> 2\u001B[0m \u001B[43mWatermelonHunt\u001B[49m\u001B[38;5;241;43m.\u001B[39;49m\u001B[43mplay_game\u001B[49m\u001B[43m(\u001B[49m\u001B[43m)\u001B[49m\n",
      "\u001B[1;31mTypeError\u001B[0m: WatermelonHunt.play_game() missing 1 required positional argument: 'self'"
     ]
    }
   ],
   "source": [
    "A = WatermelonHunt(5)\n",
    "WatermelonHunt.play_game()"
   ],
   "metadata": {
    "collapsed": false,
    "ExecuteTime": {
     "end_time": "2024-06-12T04:15:39.142175Z",
     "start_time": "2024-06-12T04:15:38.870553Z"
    }
   },
   "id": "c0bba879bbdeaa30",
   "execution_count": 7
  },
  {
   "cell_type": "markdown",
   "source": [
    "## 親クラスの継承\n",
    "* `Student`クラスが`Person`クラスを継承する際、`current_year`という属性も継承してくだい。\n",
    "* `Student`クラスに`print_age()`というメソッドを追加してくだい。\n",
    "    * `print_age()`は、親クラスで定義された`age()`メソッドで年齢を計算し、`{name} is {age} years old`という形でプリントしてください。\n",
    "    * 例えば、名前はsato, 年齢は23の場合、`sato is 23 years old`が表示されるようにしてください。"
   ],
   "metadata": {
    "collapsed": false
   },
   "id": "81f17f12e285d973"
  },
  {
   "cell_type": "code",
   "outputs": [
    {
     "name": "stdout",
     "output_type": "stream",
     "text": [
      "Naito is 23 years old\n"
     ]
    }
   ],
   "source": [
    "from Person import Person\n",
    "\n",
    "class Student(Person):\n",
    "    def __init__(self, name, birth, current_year=2024):\n",
    "        super().__init__(name, birth, current_year)\n",
    "    def print_age(self):\n",
    "        age = super().age()\n",
    "        print(\"{} is {} years old\".format(self.name, age))\n",
    "\n",
    "s = Student(\"Naito\", 2001)\n",
    "s.print_age()"
   ],
   "metadata": {
    "collapsed": false,
    "ExecuteTime": {
     "end_time": "2024-06-12T04:44:42.303032Z",
     "start_time": "2024-06-12T04:44:42.296357Z"
    }
   },
   "id": "c5a00c0413fb2453",
   "execution_count": 13
  },
  {
   "cell_type": "markdown",
   "source": [
    "## クラスの集約\n",
    "1. Majorというクラスを作成し、専門分野に関する情報を保持する。\n",
    "2. Majorクラスには専攻名（major）、所属学部（department）、入学年（duration）が含まれている。\n",
    "3. StudentクラスがPersonクラスを継承する。\n",
    "    * その際、Majorのインスタンスを渡す\n",
    "    * 入学年（duration）と現在の年(current_year)で学年を計算するメソッドを定義する\n",
    "5. Studentクラスをインスタンス化して、学年を計算してください。"
   ],
   "metadata": {
    "collapsed": false
   },
   "id": "a285690a9ec478e0"
  },
  {
   "cell_type": "code",
   "outputs": [
    {
     "name": "stdout",
     "output_type": "stream",
     "text": [
      "Naito's grade is 1\n"
     ]
    }
   ],
   "source": [
    "from Person import Person\n",
    "\n",
    "class Major():\n",
    "    def __init__(self, major, department, duration):\n",
    "        self.major = major\n",
    "        self.department = department\n",
    "        self.duration = duration\n",
    "\n",
    "class Student(Person):\n",
    "    def __init__(self, name, birth, current_year=2024, Major=None):\n",
    "        super().__init__(name, birth, current_year)\n",
    "        \n",
    "    def print_grade(self, Major):\n",
    "        grade = self.current_year - Major.duration + 1\n",
    "        print(\"{}'s grade is {}\".format(self.name, grade))\n",
    "\n",
    "major = Major(\"Behavior science\", \"Literature\", 2024)\n",
    "s = Student(\"Naito\", 2001)\n",
    "s.print_grade(major)"
   ],
   "metadata": {
    "collapsed": false,
    "ExecuteTime": {
     "end_time": "2024-06-12T04:59:34.396677Z",
     "start_time": "2024-06-12T04:59:34.388517Z"
    }
   },
   "id": "545c1e8a61b0e672",
   "execution_count": 15
  }
 ],
 "metadata": {
  "kernelspec": {
   "display_name": "Python 3",
   "language": "python",
   "name": "python3"
  },
  "language_info": {
   "codemirror_mode": {
    "name": "ipython",
    "version": 2
   },
   "file_extension": ".py",
   "mimetype": "text/x-python",
   "name": "python",
   "nbconvert_exporter": "python",
   "pygments_lexer": "ipython2",
   "version": "2.7.6"
  }
 },
 "nbformat": 4,
 "nbformat_minor": 5
}
