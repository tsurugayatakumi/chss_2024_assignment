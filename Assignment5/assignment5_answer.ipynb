{
 "cells": [
  {
   "attachments": {},
   "cell_type": "markdown",
   "metadata": {},
   "source": [
    "# 課題0621\n",
    "\n",
    "そのまま課題ファイルで編集しないでください。課題ファイルを複製してから課題を回答してください。"
   ]
  },
  {
   "attachments": {},
   "cell_type": "markdown",
   "metadata": {},
   "source": [
    "## 課題1\n",
    "\n",
    "```Person.py```から```Person```クラスと```Address```クラスをインポートしてください。"
   ]
  },
  {
   "cell_type": "code",
   "execution_count": 1,
   "metadata": {},
   "outputs": [],
   "source": [
    "from Person import Person, Address"
   ]
  },
  {
   "attachments": {},
   "cell_type": "markdown",
   "metadata": {},
   "source": [
    "## 課題2\n",
    "\n",
    "Jupyter Notebookで```Person.py```を実行してください。"
   ]
  },
  {
   "cell_type": "code",
   "execution_count": 3,
   "metadata": {},
   "outputs": [
    {
     "name": "stdout",
     "output_type": "stream",
     "text": [
      "Assignment5_AkihitoNaito.ipynb     assignment5_fuiku.ipynb\n",
      "Person.py                          assignment5_name.ipynb\n",
      "\u001b[34m__pycache__\u001b[m\u001b[m                        assignment5_peiqiheng.ipynb\n",
      "assignment5_Akama_Yuto.ipynb       assignment5_wangtong  .ipynb\n",
      "assignment5_DongxinYan.ipynb       assignment5_weiyueshu.ipynb\n",
      "assignment5_HarukaMomma copy.ipynb assignment5_{OkamotoRuka}.ipynb\n",
      "assignment5_HiyoriOtaka.ipynb      assignment_YuyaTano.ipynb\n",
      "assignment5_answer.ipynb           assignment_百束綾乃.ipynb\n"
     ]
    }
   ],
   "source": [
    "!ls"
   ]
  },
  {
   "cell_type": "code",
   "execution_count": 5,
   "metadata": {},
   "outputs": [
    {
     "data": {
      "text/plain": [
       "['assignment5_HarukaMomma copy.ipynb',\n",
       " 'assignment_YuyaTano.ipynb',\n",
       " 'Person.py',\n",
       " 'assignment5_peiqiheng.ipynb',\n",
       " 'assignment5_{OkamotoRuka}.ipynb',\n",
       " 'Assignment5_AkihitoNaito.ipynb',\n",
       " 'assignment5_weiyueshu.ipynb',\n",
       " 'assignment5_answer.ipynb',\n",
       " '__pycache__',\n",
       " 'assignment5_fuiku.ipynb',\n",
       " 'assignment5_HiyoriOtaka.ipynb',\n",
       " 'assignment5_Akama_Yuto.ipynb',\n",
       " 'assignment5_name.ipynb',\n",
       " 'assignment5_wangtong  .ipynb',\n",
       " 'assignment5_DongxinYan.ipynb',\n",
       " 'assignment_百束綾乃.ipynb']"
      ]
     },
     "execution_count": 5,
     "metadata": {},
     "output_type": "execute_result"
    }
   ],
   "source": [
    "import os\n",
    "os.listdir(\"./\")"
   ]
  },
  {
   "cell_type": "code",
   "execution_count": 2,
   "metadata": {},
   "outputs": [
    {
     "name": "stdout",
     "output_type": "stream",
     "text": [
      "Hello, my name is John Doe\n",
      "Hello, my name is Jane Smith\n"
     ]
    }
   ],
   "source": [
    "!python3 Person.py"
   ]
  },
  {
   "cell_type": "code",
   "execution_count": 6,
   "metadata": {},
   "outputs": [
    {
     "name": "stdout",
     "output_type": "stream",
     "text": [
      "Hello, my name is John Doe\n",
      "Hello, my name is Jane Smith\n"
     ]
    }
   ],
   "source": [
    "!python3 /Users/ryozawau/chss_2024_assignment/Assignment5/Person.py"
   ]
  },
  {
   "attachments": {},
   "cell_type": "markdown",
   "metadata": {},
   "source": [
    "## 課題3\n",
    "\n",
    "以下の指示に従って、```Person```クラスを継承する```Employee```というクラスを作成してください。\n",
    "\n",
    "- ```Employee```クラスでは、```Person```クラスから継承した```name```と```age```の属性に加えて、```employee_id```という属性が追加されています。\n",
    "- ```Employee```クラスに```Address```クラスに関するインスタントを集約してください。(適当な値を渡してください)\n",
    "- ```name```、```age```、```employee_id```と```Address```などの属性をプリントする```display_employee_info()```というメソッドを```Employee```クラスに追加してください。\n",
    "- ```Employee```をインスタント化にして、```display_employee_info()```メソッドを呼び出し、テストしてください。"
   ]
  },
  {
   "cell_type": "code",
   "execution_count": 7,
   "metadata": {},
   "outputs": [],
   "source": [
    "class Employee(Person):\n",
    "    def __init__(self, name, birth, employee_id, address = None):\n",
    "        super().__init__(name, birth)\n",
    "        self.employee_id = employee_id\n",
    "        self.address = address\n",
    "    \n",
    "    def get_address(self):\n",
    "        return \"\".join(self.address.get_full_address())\n",
    "        \n",
    "    def display_employee_info(self):\n",
    "          print(\n",
    "               f\"Name: {self.name}, Age: {super().age()}, Employee_ID: {self.employee_id}, Address: {self.get_address()}\"\n",
    "          )"
   ]
  },
  {
   "cell_type": "code",
   "execution_count": 8,
   "metadata": {},
   "outputs": [
    {
     "name": "stdout",
     "output_type": "stream",
     "text": [
      "Name: 青葉太郎, Age: 23, Employee_ID: 123456, Address: 宮城県仙台市川内27-1\n"
     ]
    }
   ],
   "source": [
    "address = Address(\"宮城県\",\"仙台市\",\"川内27-1\")\n",
    "\n",
    "# インスタンス化\n",
    "p = Employee(\"青葉太郎\", 2000, 123456, address)\n",
    "p.display_employee_info()"
   ]
  },
  {
   "cell_type": "code",
   "execution_count": 9,
   "metadata": {},
   "outputs": [
    {
     "name": "stdout",
     "output_type": "stream",
     "text": [
      "Name: 青葉太郎, Age: 23, Employee_ID: 123456, Address: 宮城県仙台市川内27-1\n"
     ]
    }
   ],
   "source": [
    "address = Address(\"宮城県\",\"仙台市\",\"川内27-1\")\n",
    "\n",
    "# インスタンス化\n",
    "p = Employee(\"青葉太郎\", 2000, 123456, address)\n",
    "p.display_employee_info()"
   ]
  },
  {
   "attachments": {},
   "cell_type": "markdown",
   "metadata": {},
   "source": []
  }
 ],
 "metadata": {
  "kernelspec": {
   "display_name": "base",
   "language": "python",
   "name": "python3"
  },
  "language_info": {
   "codemirror_mode": {
    "name": "ipython",
    "version": 3
   },
   "file_extension": ".py",
   "mimetype": "text/x-python",
   "name": "python",
   "nbconvert_exporter": "python",
   "pygments_lexer": "ipython3",
   "version": "3.1.-1"
  },
  "orig_nbformat": 4
 },
 "nbformat": 4,
 "nbformat_minor": 2
}
