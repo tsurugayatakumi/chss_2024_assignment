{
 "cells": [
  {
   "attachments": {},
   "cell_type": "markdown",
   "metadata": {},
   "source": [
    "# 課題0621\n",
    "\n",
    "そのまま課題ファイルで編集しないでください。課題ファイルを複製してから課題を回答してください。"
   ]
  },
  {
   "attachments": {},
   "cell_type": "markdown",
   "metadata": {},
   "source": [
    "## 課題1\n",
    "\n",
    "```Person.py```から```Person```クラスと```Address```クラスをインポートしてください。"
   ]
  },
  {
   "cell_type": "code",
   "execution_count": 2,
   "metadata": {},
   "outputs": [],
   "source": [
    "from Person import Person, Address"
   ]
  },
  {
   "cell_type": "markdown",
   "metadata": {},
   "source": []
  },
  {
   "attachments": {},
   "cell_type": "markdown",
   "metadata": {},
   "source": [
    "## 課題2\n",
    "\n",
    "Jupyter Notebookで```Person.py```を実行してください。"
   ]
  },
  {
   "cell_type": "code",
   "execution_count": 5,
   "metadata": {},
   "outputs": [
    {
     "data": {
      "text/plain": [
       "23"
      ]
     },
     "execution_count": 5,
     "metadata": {},
     "output_type": "execute_result"
    }
   ],
   "source": [
    "alice = Person(\"Alice\", 2001, 2024)\n",
    "alice.age()"
   ]
  },
  {
   "cell_type": "code",
   "execution_count": 6,
   "metadata": {},
   "outputs": [
    {
     "name": "stdout",
     "output_type": "stream",
     "text": [
      "Hello, my name is John Doe\n",
      "Hello, my name is Jane Smith\n"
     ]
    }
   ],
   "source": [
    "person1 = Person(\"John Doe\", 30)\n",
    "person2 = Person(\"Jane Smith\", 25)\n",
    "\n",
    "person1.say_hello()\n",
    "person2.say_hello()"
   ]
  },
  {
   "attachments": {},
   "cell_type": "markdown",
   "metadata": {},
   "source": [
    "## 課題3\n",
    "\n",
    "以下の指示に従って、```Person```クラスを継承する```Employee```というクラスを作成してください。\n",
    "\n",
    "- ```Employee```クラスでは、```Person```クラスから継承した```name```と```age```の属性に加えて、```employee_id```という属性が追加されています。\n",
    "- ```Employee```クラスに```Address```クラスに関するインスタントを集約してください。(適当な値を渡してください)\n",
    "- ```name```、```age```、```employee_id```と```Address```などの属性をプリントする```display_employee_info()```というメソッドを```Employee```クラスに追加してください。\n",
    "- ```Employee```をインスタント化にして、```display_employee_info()```メソッドを呼び出し、テストしてください。"
   ]
  },
  {
   "cell_type": "code",
   "execution_count": 15,
   "metadata": {},
   "outputs": [
    {
     "ename": "SyntaxError",
     "evalue": "unterminated string literal (detected at line 8) (2882789737.py, line 8)",
     "output_type": "error",
     "traceback": [
      "\u001b[1;36m  Cell \u001b[1;32mIn[15], line 8\u001b[1;36m\u001b[0m\n\u001b[1;33m    print(f\"name={self.name}, age={self.age()}, employee_id={self.employee_id},\u001b[0m\n\u001b[1;37m          ^\u001b[0m\n\u001b[1;31mSyntaxError\u001b[0m\u001b[1;31m:\u001b[0m unterminated string literal (detected at line 8)\n"
     ]
    }
   ],
   "source": [
    "class Employee(Person):\n",
    "\tdef __init__(self, name, birth, employee_id, address):\n",
    "\t\tsuper().__init__(name, birth)\n",
    "\t\tself.employee_id = employee_id\n",
    "\t\tself.address = address\n",
    "\n",
    "\tdef display_employee_info(self):\n",
    "\t\tprint(f\"name={self.name}, age={self.age()}, employee_id={self.employee_id},\n",
    "\t\t address={self.address.state}, {self.address.city}, {self.address.street}\")\n",
    "\t\t"
   ]
  },
  {
   "cell_type": "code",
   "execution_count": 12,
   "metadata": {},
   "outputs": [
    {
     "name": "stdout",
     "output_type": "stream",
     "text": [
      "John 25 C2LB1041 abc acd cda\n"
     ]
    }
   ],
   "source": [
    "employee1 = Employee(\"John\", 1998, \"C2LB1041\", Address(\"abc\", \"acd\", \"cda\"))\n",
    "employee1.display_employee_info()"
   ]
  },
  {
   "attachments": {},
   "cell_type": "markdown",
   "metadata": {},
   "source": []
  }
 ],
 "metadata": {
  "kernelspec": {
   "display_name": "base",
   "language": "python",
   "name": "python3"
  },
  "language_info": {
   "codemirror_mode": {
    "name": "ipython",
    "version": 3
   },
   "file_extension": ".py",
   "mimetype": "text/x-python",
   "name": "python",
   "nbconvert_exporter": "python",
   "pygments_lexer": "ipython3",
   "version": "3.11.7"
  },
  "orig_nbformat": 4
 },
 "nbformat": 4,
 "nbformat_minor": 2
}
