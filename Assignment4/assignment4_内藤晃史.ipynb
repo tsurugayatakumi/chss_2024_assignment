{
 "cells": [
  {
   "cell_type": "markdown",
   "metadata": {},
   "source": [
    "# 第四回の課題\n",
    "\n",
    "課題ファイルを複製し、ファイル名を```assignment_{自分の名前}.ipynb```に変更してから課題を回答してください。"
   ]
  },
  {
   "cell_type": "markdown",
   "metadata": {},
   "source": [
    " ## 課題１\n",
    "\n",
    "ユークリッドの互除法の関数を作成してください。\n",
    "\n",
    "ユークリッドの互除法とは、2つの整数、aとbの最大公約数を求めるアルゴリズムです。例えば、2485と1162の最大公約数を求めたい場合\n",
    "\n",
    "$2485 \\div 1162 = 2 余り 161$ \n",
    "\n",
    "$1162 \\div 161 = 7 余り 35$ \n",
    "\n",
    "$161 \\div 35 = 4 余り 21$ \n",
    "\n",
    "$35 \\div 21 = 1 余り 14$\n",
    "\n",
    "$21 \\div 14 = 1 余り 7$\n",
    "\n",
    "$14 \\div 7 = 2 余り 0$\n",
    "\n",
    "割る数と余りを次回の割られる数と割る数にして、次々と計算し、最後に割り切れたら終わりで、最後の割る数が最大公約数です。\n",
    "\n",
    "\n",
    "- 除数が$0$によるエラーを制御してください。\n",
    "- 引数に渡す値の大小関係を考慮してください。除数が被除数より大きい場合は、自動的に値を入れ替えてください"
   ]
  },
  {
   "cell_type": "code",
   "outputs": [
    {
     "name": "stdout",
     "output_type": "stream",
     "text": [
      "1162と53の最大公約数は1です\n"
     ]
    }
   ],
   "source": [
    "#ユークリッドの互除法\n",
    "def gcd(a,b):\n",
    "    #引数に0が含まれていたらエラー処理を行う\n",
    "    #0と0の最大公約数については、今回の場合は定義できないものとする\n",
    "    if a == 0 or b == 0:\n",
    "        return print(\"引数に0が含まれているため、最大公約数を定義することができません\")\n",
    "    #割る数<割られる数となるように整理\n",
    "    if a < b:\n",
    "        temp = a\n",
    "        a = b\n",
    "        b = temp\n",
    "    warareru = a\n",
    "    waru = b\n",
    "    #ユークリッドの互除法を使って、最大公約数を求める\n",
    "    r = warareru % waru\n",
    "    while r != 0:\n",
    "        warareru = waru\n",
    "        waru = r\n",
    "        r = warareru % waru\n",
    "    return print(\"{}と{}の最大公約数は{}です\".format(a,b,waru))\n",
    "a = 1162\n",
    "b = 53\n",
    "gcd(a,b)"
   ],
   "metadata": {
    "collapsed": false,
    "ExecuteTime": {
     "end_time": "2024-05-29T05:00:52.294938Z",
     "start_time": "2024-05-29T05:00:52.290205Z"
    }
   },
   "execution_count": 22
  },
  {
   "cell_type": "markdown",
   "metadata": {},
   "source": []
  },
  {
   "cell_type": "markdown",
   "metadata": {},
   "source": [
    "## 課題2\n",
    "\n",
    "任意の数の引数を受け取り、それらをすべて掛け合わせた結果を返す関数を作成してください。\n",
    "\n",
    "- 受け取った値を数値形式に転換する\n",
    "- 受け取った値は0の場合はスキップする"
   ]
  },
  {
   "cell_type": "code",
   "execution_count": 16,
   "metadata": {
    "ExecuteTime": {
     "end_time": "2024-05-29T04:53:15.950575Z",
     "start_time": "2024-05-29T04:53:15.936502Z"
    }
   },
   "outputs": [],
   "source": [
    "def multiply(*args):\n",
    "    result = 1\n",
    "    for i in args:\n",
    "        if type(i) == str:\n",
    "            temp = int(i)\n",
    "        else:\n",
    "            temp = i\n",
    "        if temp == 0:\n",
    "            continue\n",
    "        result = result * temp\n",
    "    return result"
   ]
  },
  {
   "cell_type": "code",
   "execution_count": 17,
   "metadata": {
    "ExecuteTime": {
     "end_time": "2024-05-29T04:53:17.799089Z",
     "start_time": "2024-05-29T04:53:17.794734Z"
    }
   },
   "outputs": [
    {
     "name": "stdout",
     "output_type": "stream",
     "text": [
      "1152\n"
     ]
    }
   ],
   "source": [
    "# 関数をテストする\n",
    "numbers = (\"0\", 0, 1, 2, 3, \"4\", 6, 8)\n",
    "result = multiply(*numbers)\n",
    "print(result)"
   ]
  },
  {
   "cell_type": "markdown",
   "metadata": {},
   "source": []
  },
  {
   "cell_type": "markdown",
   "metadata": {},
   "source": [
    "## 課題３\n",
    "\n",
    "```generate_sequence()```という関数を作成しなさい。この関数は、数列の類型と要素の数を指定し、該当する数列の最初の$n$個の数をリストとして返します。\n",
    "\n",
    "- ```sequence```という引数で数列の類型を指定する\n",
    "    - ```fibonacci```の場合、フィボナッチ数列を生成する\n",
    "    - ```primes```の場合、素数列を生成する\n",
    "- ```n```という引数で生成する数を指定する\n",
    "\n",
    "\n",
    "### 追加説明\n",
    "\n",
    "#### フィボナッチ数列とは\n",
    "フィボナッチ数列は、各項がその前の2つの項の和となる数列である。\n",
    "$$\n",
    "F_0=0, F_1=1\n",
    "$$\n",
    "\n",
    "$$\n",
    "F_n=F_{n-1}+F_{n-2}  (n \\ge 2)\n",
    "$$\n",
    "\n",
    "最初の10項は次のようになる：　\n",
    "\n",
    "$0, 1, 1, 2, 3, 5, 8, 13, 21, 34$\n",
    "\n",
    "#### 素数列とは\n",
    "\n",
    "素数列は、素数の集まりである。素数とは、1とその数自身以外に約数を持たない自然数のことを指す。\n",
    "\n",
    "最初の10個の素数は次のようになる：\n",
    "\n",
    "$$\n",
    "2, 3, 5, 7, 11, 13, 17, 19, 23, 29\n",
    "$$"
   ]
  },
  {
   "cell_type": "markdown",
   "metadata": {},
   "source": []
  },
  {
   "cell_type": "code",
   "execution_count": 26,
   "metadata": {
    "ExecuteTime": {
     "end_time": "2024-06-03T15:04:20.397352Z",
     "start_time": "2024-06-03T15:04:20.391664Z"
    }
   },
   "outputs": [],
   "source": [
    "def generate_sequence(sequence, n):\n",
    "    #数列の結果を格納する変数\n",
    "    result = []\n",
    "    #0より小さい場合は例外\n",
    "    if n < 0:\n",
    "        return print(\"You must enter a positive number\")\n",
    "    #フィボナッチ数列を出力する場合\n",
    "    if sequence == \"fibonacci\":\n",
    "        #指定した数だけフィボナッチ数を出力する\n",
    "        for i in range(n):\n",
    "            #出力する数列の数が1つの場合は0のみresultに格納\n",
    "            if i == 0:\n",
    "                result.append(0)\n",
    "            #出力する数列の数が2つの場合は1を追加\n",
    "            elif i == 1:\n",
    "                result.append(1)\n",
    "            #出力する数列の数が3つ以上の場合は計算に基づき逐次追加\n",
    "            else:\n",
    "                result.append(result[i-1] + result[i-2])\n",
    "    #素数列を出力する場合\n",
    "    elif sequence == \"primes\":\n",
    "        #指定した数だけ素数を出力する\n",
    "        for i in range(n):\n",
    "            #出力する数列の数が1つの場合は2のみresultに格納\n",
    "            if i == 0:\n",
    "                result.append(2)\n",
    "            #出力する数列の数が2つ以上の場合は逐次追加\n",
    "            else:\n",
    "                a = 1\n",
    "                #指定した数だけ素数を求められるまで繰り返す\n",
    "                while len(result) < n:\n",
    "                    #aが素数であるかどうかの判定フラグ\n",
    "                    flag = True\n",
    "                    a += 2\n",
    "                    for r in result:\n",
    "                        #既に求めた素数で割ることができれば、フラグをFalseにしてループを抜ける\n",
    "                        if a % r == 0:\n",
    "                            flag = False\n",
    "                            break\n",
    "                    #もしもフラグがTrueのままであれば、それは素数といえる\n",
    "                    if flag:\n",
    "                        result.append(a)    \n",
    "    else:\n",
    "        pass    \n",
    "    return print(result)"
   ]
  },
  {
   "cell_type": "code",
   "execution_count": 27,
   "metadata": {
    "ExecuteTime": {
     "end_time": "2024-06-03T15:04:23.107345Z",
     "start_time": "2024-06-03T15:04:23.103919Z"
    }
   },
   "outputs": [
    {
     "name": "stdout",
     "output_type": "stream",
     "text": [
      "[0, 1, 1, 2, 3, 5, 8, 13, 21, 34]\n",
      "[2, 3, 5, 7, 11, 13, 17, 19, 23, 29]\n"
     ]
    }
   ],
   "source": [
    "fibonacci_sequence = generate_sequence(\"fibonacci\", 10)\n",
    "prime_sequence = generate_sequence(\"primes\", 10)"
   ]
  },
  {
   "cell_type": "markdown",
   "source": [
    "# 授業内課題"
   ],
   "metadata": {
    "collapsed": false
   }
  },
  {
   "cell_type": "markdown",
   "source": [
    "## 演習課題2\n",
    "### 複数の商品とその価格を受け取り、価格の合計を計算する関数を作成してください。"
   ],
   "metadata": {
    "collapsed": false
   }
  },
  {
   "cell_type": "code",
   "outputs": [
    {
     "data": {
      "text/plain": "800"
     },
     "execution_count": 19,
     "metadata": {},
     "output_type": "execute_result"
    }
   ],
   "source": [
    "def calculate_total(**kwargs):\n",
    "    total = 0\n",
    "    #入力された値の合計金額を求める\n",
    "    for value in kwargs.values():\n",
    "        total = total + value\n",
    "    return total\n",
    "calculate_total(apple=300, orange=400, banana=100)\n"
   ],
   "metadata": {
    "collapsed": false,
    "ExecuteTime": {
     "end_time": "2024-05-29T05:00:06.660975Z",
     "start_time": "2024-05-29T05:00:06.654845Z"
    }
   },
   "execution_count": 19
  },
  {
   "cell_type": "markdown",
   "source": [
    "## 演習課題3\n",
    "### 整数のリストが与えられたとき、そのリストから偶数の要素のみをフィルタリングするラムダ関数を作成してください。\n"
   ],
   "metadata": {
    "collapsed": false
   }
  },
  {
   "cell_type": "code",
   "outputs": [
    {
     "ename": "TypeError",
     "evalue": "unsupported operand type(s) for %: 'tuple' and 'int'",
     "output_type": "error",
     "traceback": [
      "\u001B[1;31m---------------------------------------------------------------------------\u001B[0m",
      "\u001B[1;31mTypeError\u001B[0m                                 Traceback (most recent call last)",
      "Cell \u001B[1;32mIn[26], line 2\u001B[0m\n\u001B[0;32m      1\u001B[0m is_even \u001B[38;5;241m=\u001B[39m \u001B[38;5;28;01mlambda\u001B[39;00m \u001B[38;5;241m*\u001B[39mnum: num \u001B[38;5;241m%\u001B[39m \u001B[38;5;241m2\u001B[39m \u001B[38;5;241m==\u001B[39m \u001B[38;5;241m0\u001B[39m\n\u001B[1;32m----> 2\u001B[0m \u001B[38;5;28mprint\u001B[39m(\u001B[43mis_even\u001B[49m\u001B[43m(\u001B[49m\u001B[38;5;241;43m1\u001B[39;49m\u001B[43m,\u001B[49m\u001B[38;5;241;43m2\u001B[39;49m\u001B[43m,\u001B[49m\u001B[38;5;241;43m3\u001B[39;49m\u001B[43m,\u001B[49m\u001B[38;5;241;43m4\u001B[39;49m\u001B[43m)\u001B[49m)  \u001B[38;5;66;03m# 出力: True\u001B[39;00m\n\u001B[0;32m      3\u001B[0m \u001B[38;5;28mprint\u001B[39m(is_even(\u001B[38;5;241m7\u001B[39m))  \u001B[38;5;66;03m# 出力: False\u001B[39;00m\n",
      "Cell \u001B[1;32mIn[26], line 1\u001B[0m, in \u001B[0;36m<lambda>\u001B[1;34m(*num)\u001B[0m\n\u001B[1;32m----> 1\u001B[0m is_even \u001B[38;5;241m=\u001B[39m \u001B[38;5;28;01mlambda\u001B[39;00m \u001B[38;5;241m*\u001B[39mnum: \u001B[43mnum\u001B[49m\u001B[43m \u001B[49m\u001B[38;5;241;43m%\u001B[39;49m\u001B[43m \u001B[49m\u001B[38;5;241;43m2\u001B[39;49m \u001B[38;5;241m==\u001B[39m \u001B[38;5;241m0\u001B[39m\n\u001B[0;32m      2\u001B[0m \u001B[38;5;28mprint\u001B[39m(is_even(\u001B[38;5;241m1\u001B[39m,\u001B[38;5;241m2\u001B[39m,\u001B[38;5;241m3\u001B[39m,\u001B[38;5;241m4\u001B[39m))  \u001B[38;5;66;03m# 出力: True\u001B[39;00m\n\u001B[0;32m      3\u001B[0m \u001B[38;5;28mprint\u001B[39m(is_even(\u001B[38;5;241m7\u001B[39m))  \u001B[38;5;66;03m# 出力: False\u001B[39;00m\n",
      "\u001B[1;31mTypeError\u001B[0m: unsupported operand type(s) for %: 'tuple' and 'int'"
     ]
    }
   ],
   "source": [
    "is_even = lambda *num: num % 2 == 0\n",
    "print(is_even(1,2,3,4))  # 出力: True\n",
    "print(is_even(7))  # 出力: False"
   ],
   "metadata": {
    "collapsed": false,
    "ExecuteTime": {
     "end_time": "2024-05-29T05:15:52.812017Z",
     "start_time": "2024-05-29T05:15:52.783340Z"
    }
   },
   "execution_count": 26
  },
  {
   "cell_type": "markdown",
   "source": [
    "# 練習問題\n",
    "## 課題1\n",
    "### 「スイカ割りゲーム」のプログラムを作成する。\n",
    "* スイカとプレイヤーの初期位置をランダムに設定\n",
    "* プレイヤーがスイカの位置に到達するまでに移動を続けて、移動する度にプレイヤーとスイカの距離を計算する\n",
    "* スイカに向かってプレイヤーを移動させる方向を決定する"
   ],
   "metadata": {
    "collapsed": false
   }
  },
  {
   "cell_type": "code",
   "outputs": [],
   "source": [
    "import random\n",
    "import math\n",
    "\n",
    "BOARD_SIZE = 5  # ボードサイズを定義\n",
    "\n",
    "def calc_distance(pos1, pos2):\n",
    "    # 二点間のユークリッド距離を計算\n",
    "    diff_x = pos1[0] - pos2[0]\n",
    "    diff_y = pos1[1] - pos2[1]\n",
    "    return math.sqrt(diff_x**2 + diff_y**2)\n",
    "\n",
    "# スイカとプレイヤーの初期位置をランダムに設定\n",
    "suika_pos = (random.randrange(0, BOARD_SIZE), random.randrange(0, BOARD_SIZE))\n",
    "player_pos = (random.randrange(0, BOARD_SIZE), random.randrange(0, BOARD_SIZE))\n",
    "\n",
    "# プレイヤーがスイカの位置に到達するまで処理を続ける\n",
    "while (suika_pos != player_pos):\n",
    "    # スイカまでの距離を表示\n",
    "    distance = calc_distance(suika_pos, player_pos)\n",
    "    print(\"スイカまでの距離:\", distance)\n",
    "\n",
    "    # スイカに向かってプレイヤーを移動させる方向を決定\n",
    "    current_x, current_y = player_pos\n",
    "    target_x, target_y = suika_pos\n",
    "\n",
    "    if current_x < target_x:\n",
    "        current_x += 1\n",
    "    elif current_x > target_x:\n",
    "        current_x -= 1\n",
    "\n",
    "    if current_y < target_y:\n",
    "        current_y += 1\n",
    "    elif current_y > target_y:\n",
    "        current_y -= 1\n",
    "\n",
    "    # プレイヤーの位置を更新\n",
    "    player_pos = (current_x, current_y)\n",
    "    print(\"プレイヤーが移動しました:\", player_pos)\n",
    "\n",
    "print(\"スイカを見つけました！\")"
   ],
   "metadata": {
    "collapsed": false
   }
  },
  {
   "cell_type": "markdown",
   "source": [
    "このプログラムを関数で分割して、再作成してください。\n",
    "* 初期位置の作成の関数`generate_position()`\n",
    "* 移動先を決める関数\n",
    "* 移動処理の関数`move_player()`\n",
    "* ゲームの主なループを実行する関数`play_game()`"
   ],
   "metadata": {
    "collapsed": false
   }
  },
  {
   "cell_type": "code",
   "outputs": [
    {
     "name": "stdout",
     "output_type": "stream",
     "text": [
      "スイカまでの距離: 4.123105625617661\n",
      "プレイヤーが移動しました: (1, 3)\n",
      "スイカまでの距離: 3.0\n",
      "プレイヤーが移動しました: (2, 3)\n",
      "スイカまでの距離: 2.0\n",
      "プレイヤーが移動しました: (3, 3)\n",
      "スイカまでの距離: 1.0\n",
      "プレイヤーが移動しました: (4, 3)\n",
      "You got a watermelon!\n"
     ]
    }
   ],
   "source": [
    "import random\n",
    "import math\n",
    "\n",
    "BOARD_SIZE = 5  # ボードサイズを定義\n",
    "\n",
    "def generate_position(BOARD_SIZE):\n",
    "    # スイカとプレイヤーの初期位置をランダムに設定\n",
    "    suika_pos = (random.randrange(0, BOARD_SIZE), random.randrange(0, BOARD_SIZE))\n",
    "    player_pos = (random.randrange(0, BOARD_SIZE), random.randrange(0, BOARD_SIZE))\n",
    "    return suika_pos, player_pos\n",
    "\n",
    "def calc_distance(pos1, pos2):\n",
    "    # 二点間のユークリッド距離を計算\n",
    "    diff_x = pos1[0] - pos2[0]\n",
    "    diff_y = pos1[1] - pos2[1]\n",
    "    return math.sqrt(diff_x**2 + diff_y**2)\n",
    "\n",
    "def move_direction(player_pos, suika_pos):\n",
    "    #スイカに向かってプレイヤーを移動させる方向を決定\n",
    "    current_x, current_y = player_pos\n",
    "    target_x, target_y = suika_pos\n",
    "    #x方向の移動させる方向を決定\n",
    "    if current_x < target_x:\n",
    "        current_x += 1\n",
    "    elif current_x > target_x:\n",
    "        current_x -= 1\n",
    "    #y方向の移動させる方向を決定\n",
    "    if current_y < target_y:\n",
    "        current_y += 1\n",
    "    elif current_y > target_y:\n",
    "        current_y -= 1\n",
    "    return current_x, current_y\n",
    "\n",
    "def move_player(current_x, current_y):\n",
    "    # プレイヤーの位置を更新\n",
    "    player_pos = (current_x, current_y)\n",
    "    print(\"プレイヤーが移動しました:\", player_pos)  \n",
    "    return player_pos\n",
    "\n",
    "def play_game(BOARD_SIZE):\n",
    "    #初期化処理\n",
    "    suika_pos, player_pos = generate_position(BOARD_SIZE)\n",
    "    while (suika_pos != player_pos):\n",
    "        # スイカまでの距離を表示\n",
    "        distance = calc_distance(suika_pos, player_pos)\n",
    "        print(\"スイカまでの距離:\", distance)\n",
    "        current_x, current_y = move_direction(player_pos, suika_pos)\n",
    "        player_pos = move_player(current_x, current_y)\n",
    "    return print(\"You got a watermelon!\")    \n",
    "    \n",
    "play_game(5)"
   ],
   "metadata": {
    "collapsed": false,
    "ExecuteTime": {
     "end_time": "2024-06-03T15:08:41.583896Z",
     "start_time": "2024-06-03T15:08:41.577511Z"
    }
   },
   "execution_count": 30
  },
  {
   "cell_type": "markdown",
   "source": [
    "### 課題2\n",
    "複数のプレイヤーが参加し、最初にスイカに到達したプレイヤーが勝つゲームを想定してください。\n",
    "* 各プレイヤーはそれぞれ独立してスイカに向かって移動し、ゲームの進行は各ターンで全プレイヤーが一度ずつ移動する。\n",
    "* あるプレイヤーがスイカに到達したら、ゲームは終了します。このようなシナリオを実装してください。"
   ],
   "metadata": {
    "collapsed": false
   }
  },
  {
   "cell_type": "code",
   "outputs": [
    {
     "name": "stdout",
     "output_type": "stream",
     "text": [
      "スイカの位置(0, 0)\n",
      "プレイヤーが0移動しました:[2, 0]\n",
      "スイカまでの距離: 2.0\n",
      "プレイヤーが1移動しました:[0, 2]\n",
      "スイカまでの距離: 2.0\n",
      "プレイヤーが2移動しました:[0, 2]\n",
      "スイカまでの距離: 2.0\n",
      "プレイヤーが0移動しました:[1, 0]\n",
      "スイカまでの距離: 1.0\n",
      "プレイヤーが1移動しました:[0, 1]\n",
      "スイカまでの距離: 1.0\n",
      "プレイヤーが2移動しました:[0, 1]\n",
      "スイカまでの距離: 1.0\n",
      "プレイヤーが0移動しました:[0, 0]\n",
      "スイカまでの距離: 0.0\n",
      "Player0 got a watermelon!\n"
     ]
    }
   ],
   "source": [
    "def initialization(BOARD_SIZE, player_num):\n",
    "    # スイカとプレイヤーの初期位置をランダムに設定\n",
    "    suika_pos = (random.randrange(0, BOARD_SIZE), random.randrange(0, BOARD_SIZE))\n",
    "    players_pos = {}\n",
    "    for n in range(player_num):\n",
    "        players_pos[n] = (random.randrange(0, BOARD_SIZE), random.randrange(0, BOARD_SIZE))\n",
    "    print(\"スイカの位置{}\".format(suika_pos))\n",
    "    return suika_pos, players_pos\n",
    "\n",
    "def calc_distance(pos1, pos2):\n",
    "    # 二点間のユークリッド距離を計算\n",
    "    diff_x = pos1[0] - pos2[0]\n",
    "    diff_y = pos1[1] - pos2[1]\n",
    "    return math.sqrt(diff_x**2 + diff_y**2)\n",
    "\n",
    "def move_direction(player_pos, suika_pos):\n",
    "    #スイカに向かってプレイヤーを移動させる方向を決定\n",
    "    current_x, current_y = player_pos[0], player_pos[1]\n",
    "    target_x, target_y = suika_pos\n",
    "    #x方向の移動させる方向を決定\n",
    "    if current_x < target_x:\n",
    "        current_x += 1\n",
    "    elif current_x > target_x:\n",
    "        current_x -= 1\n",
    "    #y方向の移動させる方向を決定\n",
    "    if current_y < target_y:\n",
    "        current_y += 1\n",
    "    elif current_y > target_y:\n",
    "        current_y -= 1\n",
    "    return current_x, current_y\n",
    "\n",
    "def move_player(current_x, current_y, player_num):\n",
    "    # プレイヤーの位置を更新\n",
    "    player_pos = [current_x, current_y]\n",
    "    print(\"プレイヤーが{}移動しました:{}\".format(player_num, player_pos))  \n",
    "    return player_pos\n",
    "\n",
    "def play_game(BOARD_SIZE, player_num):\n",
    "    #初期化処理\n",
    "    suika_pos, players_pos = initialization(BOARD_SIZE, player_num)\n",
    "    #プレイヤーの誰かがスイカを取ったかどうか確認するフラグ\n",
    "    flag = True\n",
    "    while flag:\n",
    "        for key in players_pos.keys():\n",
    "            #各プレイヤーのスイカまでの距離を表示\n",
    "            current_x, current_y = move_direction(players_pos[key], suika_pos)\n",
    "            players_pos[key] = move_player(current_x, current_y, key)\n",
    "            distance = calc_distance(suika_pos, players_pos[key])\n",
    "            print(\"スイカまでの距離:\", distance)\n",
    "            if distance == 0:\n",
    "                flag = False\n",
    "                break\n",
    "        if flag == False:\n",
    "            break\n",
    "        \n",
    "    return print(\"Player{} got a watermelon!\".format(key))    \n",
    "    \n",
    "play_game(5,3)"
   ],
   "metadata": {
    "collapsed": false,
    "ExecuteTime": {
     "end_time": "2024-06-03T15:32:57.383476Z",
     "start_time": "2024-06-03T15:32:57.375305Z"
    }
   },
   "execution_count": 57
  }
 ],
 "metadata": {
  "kernelspec": {
   "display_name": "base",
   "language": "python",
   "name": "python3"
  },
  "language_info": {
   "codemirror_mode": {
    "name": "ipython",
    "version": 3
   },
   "file_extension": ".py",
   "mimetype": "text/x-python",
   "name": "python",
   "nbconvert_exporter": "python",
   "pygments_lexer": "ipython3",
   "version": "3.9.13"
  }
 },
 "nbformat": 4,
 "nbformat_minor": 2
}
