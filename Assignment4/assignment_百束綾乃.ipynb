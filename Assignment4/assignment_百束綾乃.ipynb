{
 "cells": [
  {
   "cell_type": "markdown",
   "metadata": {},
   "source": [
    "# 第四回の課題\n",
    "\n",
    "課題ファイルを複製し、ファイル名を```assignment_{自分の名前}.ipynb```に変更してから課題を回答してください。"
   ]
  },
  {
   "cell_type": "markdown",
   "metadata": {},
   "source": [
    " ## 課題１\n",
    "\n",
    "ユークリッドの互除法の関数を作成してください。\n",
    "\n",
    "ユークリッドの互除法とは、2つの整数、aとbの最大公約数を求めるアルゴリズムです。例えば、2485と1162の最大公約数を求めたい場合\n",
    "\n",
    "$2485 \\div 1162 = 2 余り 161$ \n",
    "\n",
    "$1162 \\div 161 = 7 余り 35$ \n",
    "\n",
    "$161 \\div 35 = 4 余り 21$ \n",
    "\n",
    "$35 \\div 21 = 1 余り 14$\n",
    "\n",
    "$21 \\div 14 = 1 余り 7$\n",
    "\n",
    "$14 \\div 7 = 2 余り 0$\n",
    "\n",
    "割る数と余りを次回の割られる数と割る数にして、次々と計算し、最後に割り切れたら終わりで、最後の割る数が最大公約数です。\n",
    "\n",
    "\n",
    "- 除数が$0$によるエラーを制御してください。\n",
    "- 引数に渡す値の大小関係を考慮してください。除数が被除数より大きい場合は、自動的に値を入れ替えてください。\n"
   ]
  },
  {
   "cell_type": "code",
   "execution_count": 8,
   "metadata": {},
   "outputs": [
    {
     "name": "stdout",
     "output_type": "stream",
     "text": [
      "7\n"
     ]
    }
   ],
   "source": [
    "def euc(a, b):\n",
    "\tif a < b:\n",
    "\t\ta,b = b,a\n",
    "\tif b == 0:\n",
    "\t\tprint(\"除数が0なので計算できません。\")\n",
    "\twhile b != 0:\n",
    "\t\ta,b = b,a % b\n",
    "\treturn a\n",
    "print(euc(84,427))"
   ]
  },
  {
   "cell_type": "markdown",
   "metadata": {},
   "source": [
    "## 課題2\n",
    "\n",
    "任意の数の引数を受け取り、それらをすべて掛け合わせた結果を返す関数を作成してください。\n",
    "\n",
    "- 受け取った値を数値形式に転換する\n",
    "- 受け取った値は0の場合はスキップする"
   ]
  },
  {
   "cell_type": "code",
   "execution_count": 38,
   "metadata": {},
   "outputs": [],
   "source": [
    "def multiply(*numbers):\n",
    "    result = 1\n",
    "    for i in numbers:\n",
    "        if int(i) != 0:\n",
    "            print(i)\n",
    "            result *= int(i)\n",
    "        else:\n",
    "            pass\n",
    "            \n",
    "    return result"
   ]
  },
  {
   "cell_type": "code",
   "execution_count": 39,
   "metadata": {},
   "outputs": [
    {
     "name": "stdout",
     "output_type": "stream",
     "text": [
      "1\n",
      "2\n",
      "3\n",
      "4\n",
      "6\n",
      "8\n",
      "1152\n"
     ]
    }
   ],
   "source": [
    "# 関数をテストする\n",
    "numbers = (\"0\", 0, 1, 2, 3, \"4\", 6, 8)\n",
    "result = multiply(*numbers)\n",
    "print(result)"
   ]
  },
  {
   "cell_type": "markdown",
   "metadata": {},
   "source": []
  },
  {
   "cell_type": "markdown",
   "metadata": {},
   "source": [
    "## 課題３\n",
    "\n",
    "```generate_sequence()```という関数を作成しなさい。この関数は、数列の類型と要素の数を指定し、該当する数列の最初の$n$個の数をリストとして返します。\n",
    "\n",
    "- ```sequence```という引数で数列の類型を指定する\n",
    "    - ```fibonacci```の場合、フィボナッチ数列を生成する\n",
    "    - ```primes```の場合、素数列を生成する\n",
    "- ```n```という引数で生成する数を指定する\n",
    "\n",
    "\n",
    "### 追加説明\n",
    "\n",
    "#### フィボナッチ数列とは\n",
    "フィボナッチ数列は、各項がその前の2つの項の和となる数列である。\n",
    "$$\n",
    "F_0=0, F_1=1\n",
    "$$\n",
    "\n",
    "$$\n",
    "F_n=F_{n-1}+F_{n-2}  (n \\ge 2)\n",
    "$$\n",
    "\n",
    "最初の10項は次のようになる：　\n",
    "\n",
    "$0, 1, 1, 2, 3, 5, 8, 13, 21, 34$\n",
    "\n",
    "#### 素数列とは\n",
    "\n",
    "素数列は、素数の集まりである。素数とは、1とその数自身以外に約数を持たない自然数のことを指す。\n",
    "\n",
    "最初の10個の素数は次のようになる：\n",
    "\n",
    "$$\n",
    "2, 3, 5, 7, 11, 13, 17, 19, 23, 29\n",
    "$$"
   ]
  },
  {
   "cell_type": "markdown",
   "metadata": {},
   "source": []
  },
  {
   "cell_type": "code",
   "execution_count": 128,
   "metadata": {},
   "outputs": [],
   "source": [
    "def generate_sequence(sequence,n):\n",
    "    if sequence == \"fibonacci\":\n",
    "        fibonacci = []\n",
    "        fibonacci.append(0)\n",
    "        fibonacci.append(1)\n",
    "        while len(fibonacci) < n:\n",
    "            for i in range(2,n):\n",
    "                fibonacci.append(fibonacci[i-2]+fibonacci[i-1])\n",
    "        return fibonacci\n",
    "    \n",
    "    elif sequence == \"primes\":\n",
    "        primes = []\n",
    "        primes.append(2)\n",
    "        number = 3\n",
    "        while len(primes) < n:\n",
    "            for i in range(2,number):\n",
    "                divnumber = number % i\n",
    "                if divnumber == 0:\n",
    "                    number += 1\n",
    "                    break\n",
    "            else:\n",
    "                primes.append(number)\n",
    "                number += 1\n",
    "        return primes     \n",
    "    else:\n",
    "        pass\n",
    "    return None"
   ]
  },
  {
   "cell_type": "code",
   "execution_count": 129,
   "metadata": {},
   "outputs": [
    {
     "name": "stdout",
     "output_type": "stream",
     "text": [
      "[0, 1, 1, 2, 3, 5, 8, 13, 21, 34]\n",
      "[2, 3, 5, 7, 11, 13, 17, 19, 23, 29]\n"
     ]
    }
   ],
   "source": [
    "fibonacci_sequence = generate_sequence(\"fibonacci\", 10)\n",
    "prime_sequence = generate_sequence(\"primes\", 10)\n",
    "print(fibonacci_sequence)\n",
    "print(prime_sequence)"
   ]
  }
 ],
 "metadata": {
  "kernelspec": {
   "display_name": "base",
   "language": "python",
   "name": "python3"
  },
  "language_info": {
   "codemirror_mode": {
    "name": "ipython",
    "version": 3
   },
   "file_extension": ".py",
   "mimetype": "text/x-python",
   "name": "python",
   "nbconvert_exporter": "python",
   "pygments_lexer": "ipython3",
   "version": "3.11.7"
  }
 },
 "nbformat": 4,
 "nbformat_minor": 2
}
