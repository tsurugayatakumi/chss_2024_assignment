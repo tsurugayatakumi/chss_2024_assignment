{
 "cells": [
  {
   "cell_type": "markdown",
   "metadata": {},
   "source": [
    "# 第四回の課題\n",
    "\n",
    "課題ファイルを複製し、ファイル名を```assignment_{自分の名前}.ipynb```に変更してから課題を回答してください。"
   ]
  },
  {
   "cell_type": "markdown",
   "metadata": {},
   "source": [
    " ## 課題１\n",
    "\n",
    "ユークリッドの互除法の関数を作成してください。\n",
    "\n",
    "ユークリッドの互除法とは、2つの整数、aとbの最大公約数を求めるアルゴリズムです。例えば、2485と1162の最大公約数を求めたい場合\n",
    "\n",
    "$2485 \\div 1162 = 2 余り 161$ \n",
    "\n",
    "$1162 \\div 161 = 7 余り 35$ \n",
    "\n",
    "$161 \\div 35 = 4 余り 21$ \n",
    "\n",
    "$35 \\div 21 = 1 余り 14$\n",
    "\n",
    "$21 \\div 14 = 1 余り 7$\n",
    "\n",
    "$14 \\div 7 = 2 余り 0$\n",
    "\n",
    "割る数と余りを次回の割られる数と割る数にして、次々と計算し、最後に割り切れたら終わりで、最後の割る数が最大公約数です。\n",
    "\n",
    "\n",
    "- 除数が$0$によるエラーを制御してください。\n",
    "- 引数に渡す値の大小関係を考慮してください。除数が被除数より大きい場合は、自動的に値を入れ替えてください。\n"
   ]
  },
  {
   "cell_type": "code",
   "execution_count": 5,
   "metadata": {},
   "outputs": [],
   "source": [
    "def gcd(a, b):\n",
    "    while b != 0:\n",
    "        a, b = b, a % b\n",
    "    return a"
   ]
  },
  {
   "cell_type": "code",
   "execution_count": 6,
   "metadata": {},
   "outputs": [],
   "source": [
    "def euc(a, b):\n",
    "    try:\n",
    "        if a<b:\n",
    "            a,b=b,a\n",
    "            print(gcd(a,b))\n",
    "        else:\n",
    "            print(gcd(a,b))\n",
    "    except:\n",
    "        print(\"error\")"
   ]
  },
  {
   "cell_type": "code",
   "execution_count": 7,
   "metadata": {},
   "outputs": [
    {
     "name": "stdout",
     "output_type": "stream",
     "text": [
      "7\n"
     ]
    }
   ],
   "source": [
    "euc(a=2485,b=1162)"
   ]
  },
  {
   "cell_type": "markdown",
   "metadata": {},
   "source": []
  },
  {
   "cell_type": "markdown",
   "metadata": {},
   "source": [
    "## 課題2\n",
    "\n",
    "任意の数の引数を受け取り、それらをすべて掛け合わせた結果を返す関数を作成してください。\n",
    "\n",
    "- 受け取った値を数値形式に転換する\n",
    "- 受け取った値は0の場合はスキップする"
   ]
  },
  {
   "cell_type": "code",
   "execution_count": 8,
   "metadata": {},
   "outputs": [
    {
     "data": {
      "text/plain": [
       "str"
      ]
     },
     "execution_count": 8,
     "metadata": {},
     "output_type": "execute_result"
    }
   ],
   "source": [
    "type(\"0\")"
   ]
  },
  {
   "cell_type": "code",
   "execution_count": 22,
   "metadata": {},
   "outputs": [],
   "source": [
    "def change(*args):\n",
    "    for arg in args:\n",
    "        if type(arg)==str:\n",
    "            int(arg)\n",
    "        return args"
   ]
  },
  {
   "cell_type": "code",
   "execution_count": 23,
   "metadata": {},
   "outputs": [],
   "source": [
    "def multiply(*args):\n",
    "    result=0\n",
    "    change(*args)\n",
    "    for arg in args:\n",
    "        if arg==0:\n",
    "            pass\n",
    "        else:\n",
    "            result=result*arg\n",
    "    return result\n",
    "        "
   ]
  },
  {
   "cell_type": "code",
   "execution_count": 24,
   "metadata": {},
   "outputs": [
    {
     "ename": "TypeError",
     "evalue": "can't multiply sequence by non-int of type 'str'",
     "output_type": "error",
     "traceback": [
      "\u001b[1;31m---------------------------------------------------------------------------\u001b[0m",
      "\u001b[1;31mTypeError\u001b[0m                                 Traceback (most recent call last)",
      "Cell \u001b[1;32mIn[24], line 3\u001b[0m\n\u001b[0;32m      1\u001b[0m \u001b[38;5;66;03m# 関数をテストする\u001b[39;00m\n\u001b[0;32m      2\u001b[0m numbers \u001b[38;5;241m=\u001b[39m (\u001b[38;5;124m\"\u001b[39m\u001b[38;5;124m0\u001b[39m\u001b[38;5;124m\"\u001b[39m, \u001b[38;5;241m0\u001b[39m, \u001b[38;5;241m1\u001b[39m, \u001b[38;5;241m2\u001b[39m, \u001b[38;5;241m3\u001b[39m, \u001b[38;5;124m\"\u001b[39m\u001b[38;5;124m4\u001b[39m\u001b[38;5;124m\"\u001b[39m, \u001b[38;5;241m6\u001b[39m, \u001b[38;5;241m8\u001b[39m)\n\u001b[1;32m----> 3\u001b[0m result \u001b[38;5;241m=\u001b[39m \u001b[43mmultiply\u001b[49m\u001b[43m(\u001b[49m\u001b[38;5;241;43m*\u001b[39;49m\u001b[43mnumbers\u001b[49m\u001b[43m)\u001b[49m\n\u001b[0;32m      4\u001b[0m \u001b[38;5;28mprint\u001b[39m(result)\n",
      "Cell \u001b[1;32mIn[23], line 8\u001b[0m, in \u001b[0;36mmultiply\u001b[1;34m(*args)\u001b[0m\n\u001b[0;32m      6\u001b[0m         \u001b[38;5;28;01mpass\u001b[39;00m\n\u001b[0;32m      7\u001b[0m     \u001b[38;5;28;01melse\u001b[39;00m:\n\u001b[1;32m----> 8\u001b[0m         result\u001b[38;5;241m=\u001b[39m\u001b[43mresult\u001b[49m\u001b[38;5;241;43m*\u001b[39;49m\u001b[43marg\u001b[49m\n\u001b[0;32m      9\u001b[0m \u001b[38;5;28;01mreturn\u001b[39;00m result\n",
      "\u001b[1;31mTypeError\u001b[0m: can't multiply sequence by non-int of type 'str'"
     ]
    }
   ],
   "source": [
    "# 関数をテストする\n",
    "numbers = (\"0\", 0, 1, 2, 3, \"4\", 6, 8)\n",
    "result = multiply(*numbers)\n",
    "print(result)"
   ]
  },
  {
   "cell_type": "markdown",
   "metadata": {},
   "source": []
  },
  {
   "cell_type": "markdown",
   "metadata": {},
   "source": [
    "## 課題３\n",
    "\n",
    "```generate_sequence()```という関数を作成しなさい。この関数は、数列の類型と要素の数を指定し、該当する数列の最初の$n$個の数をリストとして返します。\n",
    "\n",
    "- ```sequence```という引数で数列の類型を指定する\n",
    "    - ```fibonacci```の場合、フィボナッチ数列を生成する\n",
    "    - ```primes```の場合、素数列を生成する\n",
    "- ```n```という引数で生成する数を指定する\n",
    "\n",
    "\n",
    "### 追加説明\n",
    "\n",
    "#### フィボナッチ数列とは\n",
    "フィボナッチ数列は、各項がその前の2つの項の和となる数列である。\n",
    "$$\n",
    "F_0=0, F_1=1\n",
    "$$\n",
    "\n",
    "$$\n",
    "F_n=F_{n-1}+F_{n-2}  (n \\ge 2)\n",
    "$$\n",
    "\n",
    "最初の10項は次のようになる：　\n",
    "\n",
    "$0, 1, 1, 2, 3, 5, 8, 13, 21, 34$\n",
    "\n",
    "#### 素数列とは\n",
    "\n",
    "素数列は、素数の集まりである。素数とは、1とその数自身以外に約数を持たない自然数のことを指す。\n",
    "\n",
    "最初の10個の素数は次のようになる：\n",
    "\n",
    "$$\n",
    "2, 3, 5, 7, 11, 13, 17, 19, 23, 29\n",
    "$$"
   ]
  },
  {
   "cell_type": "markdown",
   "metadata": {},
   "source": []
  },
  {
   "cell_type": "code",
   "execution_count": 37,
   "metadata": {},
   "outputs": [
    {
     "name": "stdout",
     "output_type": "stream",
     "text": [
      "Collecting sympy\n",
      "  Downloading sympy-1.12.1-py3-none-any.whl.metadata (12 kB)\n",
      "Collecting mpmath<1.4.0,>=1.1.0 (from sympy)\n",
      "  Downloading mpmath-1.3.0-py3-none-any.whl.metadata (8.6 kB)\n",
      "Downloading sympy-1.12.1-py3-none-any.whl (5.7 MB)\n",
      "   ---------------------------------------- 0.0/5.7 MB ? eta -:--:--\n",
      "   - -------------------------------------- 0.2/5.7 MB 7.3 MB/s eta 0:00:01\n",
      "   --- ------------------------------------ 0.5/5.7 MB 5.5 MB/s eta 0:00:01\n",
      "   ---- ----------------------------------- 0.7/5.7 MB 5.0 MB/s eta 0:00:01\n",
      "   ------- -------------------------------- 1.0/5.7 MB 5.0 MB/s eta 0:00:01\n",
      "   -------- ------------------------------- 1.3/5.7 MB 5.0 MB/s eta 0:00:01\n",
      "   ----------- ---------------------------- 1.6/5.7 MB 5.1 MB/s eta 0:00:01\n",
      "   ------------ --------------------------- 1.8/5.7 MB 4.9 MB/s eta 0:00:01\n",
      "   --------------- ------------------------ 2.2/5.7 MB 4.9 MB/s eta 0:00:01\n",
      "   ---------------- ----------------------- 2.4/5.7 MB 4.9 MB/s eta 0:00:01\n",
      "   ------------------ --------------------- 2.7/5.7 MB 4.9 MB/s eta 0:00:01\n",
      "   -------------------- ------------------- 2.9/5.7 MB 4.9 MB/s eta 0:00:01\n",
      "   --------------------- ------------------ 3.1/5.7 MB 4.8 MB/s eta 0:00:01\n",
      "   ----------------------- ---------------- 3.4/5.7 MB 4.7 MB/s eta 0:00:01\n",
      "   ------------------------ --------------- 3.5/5.7 MB 4.6 MB/s eta 0:00:01\n",
      "   ------------------------- -------------- 3.7/5.7 MB 4.6 MB/s eta 0:00:01\n",
      "   --------------------------- ------------ 4.0/5.7 MB 4.6 MB/s eta 0:00:01\n",
      "   ----------------------------- ---------- 4.2/5.7 MB 4.6 MB/s eta 0:00:01\n",
      "   ------------------------------- -------- 4.5/5.7 MB 4.6 MB/s eta 0:00:01\n",
      "   --------------------------------- ------ 4.7/5.7 MB 4.6 MB/s eta 0:00:01\n",
      "   --------------------------------- ------ 4.8/5.7 MB 4.4 MB/s eta 0:00:01\n",
      "   ----------------------------------- ---- 5.2/5.7 MB 4.4 MB/s eta 0:00:01\n",
      "   ------------------------------------- -- 5.4/5.7 MB 4.4 MB/s eta 0:00:01\n",
      "   ------------------------------------- -- 5.4/5.7 MB 4.4 MB/s eta 0:00:01\n",
      "   ---------------------------------------  5.7/5.7 MB 4.4 MB/s eta 0:00:01\n",
      "   ---------------------------------------  5.7/5.7 MB 4.4 MB/s eta 0:00:01\n",
      "   ---------------------------------------  5.7/5.7 MB 4.4 MB/s eta 0:00:01\n",
      "   ---------------------------------------  5.7/5.7 MB 4.4 MB/s eta 0:00:01\n",
      "   ---------------------------------------- 5.7/5.7 MB 3.7 MB/s eta 0:00:00\n",
      "Downloading mpmath-1.3.0-py3-none-any.whl (536 kB)\n",
      "   ---------------------------------------- 0.0/536.2 kB ? eta -:--:--\n",
      "   ---------------------- ----------------- 297.0/536.2 kB 9.2 MB/s eta 0:00:01\n",
      "   --------------------------------- ------ 450.6/536.2 kB 5.6 MB/s eta 0:00:01\n",
      "   ---------------------------------------  532.5/536.2 kB 5.6 MB/s eta 0:00:01\n",
      "   ---------------------------------------- 536.2/536.2 kB 3.4 MB/s eta 0:00:00\n",
      "Installing collected packages: mpmath, sympy\n",
      "Successfully installed mpmath-1.3.0 sympy-1.12.1\n"
     ]
    }
   ],
   "source": [
    "!pip install sympy"
   ]
  },
  {
   "cell_type": "code",
   "execution_count": 66,
   "metadata": {},
   "outputs": [],
   "source": [
    "def generate_sequence(sequence,n):\n",
    "    if sequence==\"fibonacci\":\n",
    "        fib=[0,1,1]\n",
    "        if n>3:\n",
    "            for i in range(0,n-1):\n",
    "                fib.insert(i,fib[i-2]+fib[i-1])\n",
    "            print(fib[:n])\n",
    "        else:\n",
    "            print(fib[:n])\n",
    "\n",
    "    elif sequence==\"primes\":\n",
    "        from sympy import prime\n",
    "        pri=[]\n",
    "        for i in range(0,n):\n",
    "            pri.append(prime(i+1))\n",
    "        print(pri[:(n+1)])\n",
    "\n",
    "    else:\n",
    "        pass"
   ]
  },
  {
   "cell_type": "code",
   "execution_count": 67,
   "metadata": {},
   "outputs": [
    {
     "name": "stdout",
     "output_type": "stream",
     "text": [
      "[2, 3, 5, 8, 13, 21, 34, 55, 89, 0]\n",
      "[2, 3, 5, 7, 11, 13, 17, 19, 23, 29]\n"
     ]
    }
   ],
   "source": [
    "fibonacci_sequence = generate_sequence(\"fibonacci\", 10)\n",
    "prime_sequence = generate_sequence(\"primes\", 10)"
   ]
  }
 ],
 "metadata": {
  "kernelspec": {
   "display_name": "base",
   "language": "python",
   "name": "python3"
  },
  "language_info": {
   "codemirror_mode": {
    "name": "ipython",
    "version": 3
   },
   "file_extension": ".py",
   "mimetype": "text/x-python",
   "name": "python",
   "nbconvert_exporter": "python",
   "pygments_lexer": "ipython3",
   "version": "3.10.14"
  }
 },
 "nbformat": 4,
 "nbformat_minor": 2
}
