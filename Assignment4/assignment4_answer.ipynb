{
 "cells": [
  {
   "cell_type": "markdown",
   "metadata": {},
   "source": [
    "# 第四回の課題\n",
    "\n",
    "課題ファイルを複製し、ファイル名を```assignment_{自分の名前}.ipynb```に変更してから課題を回答してください。"
   ]
  },
  {
   "cell_type": "markdown",
   "metadata": {},
   "source": [
    " ## 課題１\n",
    "\n",
    "ユークリッドの互除法の関数を作成してください。\n",
    "\n",
    "ユークリッドの互除法とは、2つの整数、aとbの最大公約数を求めるアルゴリズムです。例えば、2485と1162の最大公約数を求めたい場合\n",
    "\n",
    "$2485 \\div 1162 = 2 余り 161$ \n",
    "\n",
    "$1162 \\div 161 = 7 余り 35$ \n",
    "\n",
    "$161 \\div 35 = 4 余り 21$ \n",
    "\n",
    "$35 \\div 21 = 1 余り 14$\n",
    "\n",
    "$21 \\div 14 = 1 余り 7$\n",
    "\n",
    "$14 \\div 7 = 2 余り 0$\n",
    "\n",
    "割る数と余りを次回の割られる数と割る数にして、次々と計算し、最後に割り切れたら終わりで、最後の割る数が最大公約数です。\n",
    "\n",
    "\n",
    "- 除数が$0$によるエラーを制御してください。\n",
    "- 引数に渡す値の大小関係を考慮してください。除数が被除数より大きい場合は、自動的に値を入れ替えてください。\n"
   ]
  },
  {
   "cell_type": "code",
   "execution_count": 1,
   "metadata": {},
   "outputs": [],
   "source": [
    "def euclid(a, b):\n",
    "  # 除数が0の場合はエラーを表示して終了\n",
    "  if b == 0:\n",
    "      print(\"除数は0にすることはできません。\")\n",
    "      return None\n",
    "    # aとbの大小関係を確認し、必要に応じて入れ替える\n",
    "  if a < b:\n",
    "      a, b = b, a # 多重代入によるaとbの値を入れ替える\n",
    "\n",
    "  while b != 0:\n",
    "      a, b = b, a % b\n",
    "      \n",
    "  return a"
   ]
  },
  {
   "cell_type": "code",
   "execution_count": 2,
   "metadata": {},
   "outputs": [
    {
     "data": {
      "text/plain": [
       "7"
      ]
     },
     "execution_count": 2,
     "metadata": {},
     "output_type": "execute_result"
    }
   ],
   "source": [
    "#テスト用データ\n",
    "a = 2485\n",
    "b = 1162\n",
    "euclid(a,b)"
   ]
  },
  {
   "cell_type": "code",
   "execution_count": 3,
   "metadata": {},
   "outputs": [
    {
     "name": "stdout",
     "output_type": "stream",
     "text": [
      "除数は0にすることはできません。\n"
     ]
    }
   ],
   "source": [
    "#テスト用データ\n",
    "a = 2485\n",
    "b = 0\n",
    "euclid(a,b)"
   ]
  },
  {
   "cell_type": "code",
   "execution_count": 4,
   "metadata": {},
   "outputs": [
    {
     "data": {
      "text/plain": [
       "7"
      ]
     },
     "execution_count": 4,
     "metadata": {},
     "output_type": "execute_result"
    }
   ],
   "source": [
    "#テスト用データ\n",
    "a = 1162\n",
    "b = 2485\n",
    "euclid(a,b)"
   ]
  },
  {
   "cell_type": "markdown",
   "metadata": {},
   "source": [
    "## 課題2\n",
    "\n",
    "任意の数の引数を受け取り、それらをすべて掛け合わせた結果を返す関数を作成してください。\n",
    "\n",
    "- 受け取った値を数値形式に転換する\n",
    "- 受け取った値は0の場合はスキップする"
   ]
  },
  {
   "cell_type": "code",
   "execution_count": 11,
   "metadata": {},
   "outputs": [],
   "source": [
    "def multiply_num(*args):\n",
    "    result = 1\n",
    "    for arg in args:\n",
    "        try:\n",
    "            num = float(arg)  # 数値形式に変換\n",
    "            if num != 0:\n",
    "                result *= num\n",
    "        except ValueError:\n",
    "            # 数値に変換できない場合はスキップ\n",
    "            continue\n",
    "    return result"
   ]
  },
  {
   "cell_type": "code",
   "execution_count": 12,
   "metadata": {},
   "outputs": [
    {
     "name": "stdout",
     "output_type": "stream",
     "text": [
      "1152.0\n"
     ]
    }
   ],
   "source": [
    "# 関数をテストする\n",
    "numbers = (\"0\", 0, 1, 2, 3, \"4\", 6, 8)\n",
    "result = multiply_num(*numbers)\n",
    "print(result)"
   ]
  },
  {
   "cell_type": "markdown",
   "metadata": {},
   "source": [
    "## 課題３\n",
    "\n",
    "```generate_sequence()```という関数を作成しなさい。この関数は、数列の類型と要素の数を指定し、該当する数列の最初の$n$個の数をリストとして返します。\n",
    "\n",
    "- ```sequence```という引数で数列の類型を指定する\n",
    "    - ```fibonacci```の場合、フィボナッチ数列を生成する\n",
    "    - ```primes```の場合、素数列を生成する\n",
    "- ```n```という引数で生成する数を指定する\n",
    "\n",
    "\n",
    "### 追加説明\n",
    "\n",
    "#### フィボナッチ数列とは\n",
    "フィボナッチ数列は、各項がその前の2つの項の和となる数列である。\n",
    "$$\n",
    "F_0=0, F_1=1\n",
    "$$\n",
    "\n",
    "$$\n",
    "F_n=F_{n-1}+F_{n-2}  (n \\ge 2)\n",
    "$$\n",
    "\n",
    "最初の10項は次のようになる：　\n",
    "\n",
    "$0, 1, 1, 2, 3, 5, 8, 13, 21, 34$\n",
    "\n",
    "#### 素数列とは\n",
    "\n",
    "素数列は、素数の集まりである。素数とは、1とその数自身以外に約数を持たない自然数のことを指す。\n",
    "\n",
    "最初の10個の素数は次のようになる：\n",
    "\n",
    "$$\n",
    "2, 3, 5, 7, 11, 13, 17, 19, 23, 29\n",
    "$$"
   ]
  },
  {
   "cell_type": "markdown",
   "metadata": {},
   "source": []
  },
  {
   "cell_type": "code",
   "execution_count": 13,
   "metadata": {},
   "outputs": [
    {
     "name": "stdout",
     "output_type": "stream",
     "text": [
      "[0, 1, 1, 2, 3, 5, 8, 13, 21, 34]\n"
     ]
    }
   ],
   "source": [
    "def fibonacci_sequence(n):\n",
    "    sequence = [0, 1]\n",
    "    while len(sequence) < n:\n",
    "        sequence.append(sequence[-1] + sequence[-2])\n",
    "    return sequence[:n]\n",
    "print(fibonacci_sequence(10))  # フィボナッチ数列の最初の10個を表示"
   ]
  },
  {
   "cell_type": "code",
   "execution_count": 14,
   "metadata": {},
   "outputs": [],
   "source": [
    "def is_prime(num):\n",
    "    if num < 2:\n",
    "        return False\n",
    "    for i in range(2, int(num**0.5) + 1):\n",
    "        if num % i == 0:\n",
    "            return False\n",
    "    return True"
   ]
  },
  {
   "cell_type": "code",
   "execution_count": 15,
   "metadata": {},
   "outputs": [
    {
     "data": {
      "text/plain": [
       "True"
      ]
     },
     "execution_count": 15,
     "metadata": {},
     "output_type": "execute_result"
    }
   ],
   "source": [
    "is_prime(5)"
   ]
  },
  {
   "cell_type": "code",
   "execution_count": 16,
   "metadata": {},
   "outputs": [],
   "source": [
    "def prime_sequence(n):\n",
    "    sequence = []\n",
    "    num = 2\n",
    "    while len(sequence) < n:\n",
    "        if is_prime(num):\n",
    "            sequence.append(num)\n",
    "        num += 1\n",
    "    return sequence"
   ]
  },
  {
   "cell_type": "code",
   "execution_count": 17,
   "metadata": {},
   "outputs": [
    {
     "name": "stdout",
     "output_type": "stream",
     "text": [
      "[2, 3, 5, 7, 11, 13, 17, 19, 23, 29]\n"
     ]
    }
   ],
   "source": [
    "print(prime_sequence(10))  # 素数列の最初の10個を表示"
   ]
  },
  {
   "cell_type": "code",
   "execution_count": 18,
   "metadata": {},
   "outputs": [
    {
     "name": "stdout",
     "output_type": "stream",
     "text": [
      "[0, 1, 1, 2, 3, 5, 8, 13, 21, 34]\n",
      "[2, 3, 5, 7, 11, 13, 17, 19, 23, 29]\n"
     ]
    }
   ],
   "source": [
    "def generate_sequence(sequence, n):\n",
    "    if sequence == \"fibonacci\":\n",
    "        return fibonacci_sequence(n)\n",
    "    elif sequence == \"primes\":\n",
    "        return prime_sequence(n)\n",
    "    else:\n",
    "        return None\n",
    "\n",
    "# テスト\n",
    "print(generate_sequence(\"fibonacci\", 10))  # フィボナッチ数列の最初の10個を表示\n",
    "print(generate_sequence(\"primes\", 10))     # 素数列の最初の10個を表示"
   ]
  },
  {
   "cell_type": "code",
   "execution_count": null,
   "metadata": {},
   "outputs": [],
   "source": []
  }
 ],
 "metadata": {
  "kernelspec": {
   "display_name": "base",
   "language": "python",
   "name": "python3"
  },
  "language_info": {
   "codemirror_mode": {
    "name": "ipython",
    "version": 3
   },
   "file_extension": ".py",
   "mimetype": "text/x-python",
   "name": "python",
   "nbconvert_exporter": "python",
   "pygments_lexer": "ipython3",
   "version": "3.11.5"
  }
 },
 "nbformat": 4,
 "nbformat_minor": 2
}
