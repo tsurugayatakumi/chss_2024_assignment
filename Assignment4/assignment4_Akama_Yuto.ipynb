{
 "cells": [
  {
   "cell_type": "markdown",
   "metadata": {},
   "source": [
    "# 第四回の課題\n",
    "\n",
    "課題ファイルを複製し、ファイル名を```assignment_{自分の名前}.ipynb```に変更してから課題を回答してください。"
   ]
  },
  {
   "cell_type": "markdown",
   "metadata": {},
   "source": [
    " ## 課題１\n",
    "\n",
    "ユークリッドの互除法の関数を作成してください。\n",
    "\n",
    "ユークリッドの互除法とは、2つの整数、aとbの最大公約数を求めるアルゴリズムです。例えば、2485と1162の最大公約数を求めたい場合\n",
    "\n",
    "$2485 \\div 1162 = 2 余り 161$ \n",
    "\n",
    "$1162 \\div 161 = 7 余り 35$ \n",
    "\n",
    "$161 \\div 35 = 4 余り 21$ \n",
    "\n",
    "$35 \\div 21 = 1 余り 14$\n",
    "\n",
    "$21 \\div 14 = 1 余り 7$\n",
    "\n",
    "$14 \\div 7 = 2 余り 0$\n",
    "\n",
    "割る数と余りを次回の割られる数と割る数にして、次々と計算し、最後に割り切れたら終わりで、最後の割る数が最大公約数です。\n",
    "\n",
    "\n",
    "- 除数が$0$によるエラーを制御してください。\n",
    "- 引数に渡す値の大小関係を考慮してください。除数が被除数より大きい場合は、自動的に値を入れ替えてください。\n"
   ]
  },
  {
   "cell_type": "markdown",
   "metadata": {},
   "source": []
  },
  {
   "cell_type": "code",
   "execution_count": 140,
   "metadata": {},
   "outputs": [],
   "source": [
    "def euclidean_algorithm(a,b):\n",
    "    while b != 0:\n",
    "        a,b =b, a % b \n",
    "    return(a)"
   ]
  },
  {
   "cell_type": "code",
   "execution_count": 141,
   "metadata": {},
   "outputs": [
    {
     "name": "stdout",
     "output_type": "stream",
     "text": [
      "2485と1162の最大公約数は 7 です。\n"
     ]
    }
   ],
   "source": [
    "result = euclidean_algorithm(2485,1162)\n",
    "print(f\"2485と1162の最大公約数は {result} です。\")"
   ]
  },
  {
   "cell_type": "markdown",
   "metadata": {},
   "source": [
    "## 課題2\n",
    "\n",
    "任意の数の引数を受け取り、それらをすべて掛け合わせた結果を返す関数を作成してください。\n",
    "\n",
    "- 受け取った値を数値形式に転換する\n",
    "- 受け取った値は0の場合はスキップする"
   ]
  },
  {
   "cell_type": "code",
   "execution_count": 147,
   "metadata": {},
   "outputs": [],
   "source": [
    "def multiply(*numbers):\n",
    "    def to_number(value): #数値に変換\n",
    "        try:\n",
    "            return int(value)\n",
    "        except ValueError:\n",
    "            return None\n",
    "        \n",
    "    multiply1 = 1\n",
    "\n",
    "    for num in numbers:\n",
    "        number = to_number(num)\n",
    "        if number is not None and number != 0:\n",
    "            multiply1 *= number\n",
    "    return multiply1"
   ]
  },
  {
   "cell_type": "code",
   "execution_count": 148,
   "metadata": {},
   "outputs": [
    {
     "name": "stdout",
     "output_type": "stream",
     "text": [
      "1152\n"
     ]
    }
   ],
   "source": [
    "# 関数をテストする\n",
    "numbers = (\"0\", 0, 1, 2, 3, \"4\", 6, 8)\n",
    "result = multiply(*numbers)\n",
    "print(result)"
   ]
  },
  {
   "cell_type": "markdown",
   "metadata": {},
   "source": []
  },
  {
   "cell_type": "markdown",
   "metadata": {},
   "source": [
    "## 課題３\n",
    "\n",
    "```generate_sequence()```という関数を作成しなさい。この関数は、数列の類型と要素の数を指定し、該当する数列の最初の$n$個の数をリストとして返します。\n",
    "\n",
    "- ```sequence```という引数で数列の類型を指定する\n",
    "    - ```fibonacci```の場合、フィボナッチ数列を生成する\n",
    "    - ```primes```の場合、素数列を生成する\n",
    "- ```n```という引数で生成する数を指定する\n",
    "\n",
    "\n",
    "### 追加説明\n",
    "\n",
    "#### フィボナッチ数列とは\n",
    "フィボナッチ数列は、各項がその前の2つの項の和となる数列である。\n",
    "$$\n",
    "F_0=0, F_1=1\n",
    "$$\n",
    "\n",
    "$$\n",
    "F_n=F_{n-1}+F_{n-2}  (n \\ge 2)\n",
    "$$\n",
    "\n",
    "最初の10項は次のようになる：　\n",
    "\n",
    "$0, 1, 1, 2, 3, 5, 8, 13, 21, 34$\n",
    "\n",
    "#### 素数列とは\n",
    "\n",
    "素数列は、素数の集まりである。素数とは、1とその数自身以外に約数を持たない自然数のことを指す。\n",
    "\n",
    "最初の10個の素数は次のようになる：\n",
    "\n",
    "$$\n",
    "2, 3, 5, 7, 11, 13, 17, 19, 23, 29\n",
    "$$"
   ]
  },
  {
   "cell_type": "markdown",
   "metadata": {},
   "source": []
  },
  {
   "cell_type": "markdown",
   "metadata": {},
   "source": [
    "sequenceとしてfibonacciまたはprimesが指定されたとき、フィボナッチ数列または素数列を生成する関数を定義する\n",
    "→関数内で違う関数を呼び出すためには、それよりも関数を定義しておかなければならない"
   ]
  },
  {
   "cell_type": "code",
   "execution_count": 149,
   "metadata": {},
   "outputs": [],
   "source": [
    "def fibonacci_sequence(n): #フィボナッチ数列を生成\n",
    "    seq = []\n",
    "    count = n\n",
    "    a, b = 0, 1\n",
    "    for _ in range(n):\n",
    "        seq.append(a)\n",
    "        a, b = b, a + b\n",
    "    return seq\n",
    "\n",
    "def is_prime(n):\n",
    "    if n <= 1:\n",
    "        return False\n",
    "    elif n <= 3:\n",
    "        return True\n",
    "    elif n % 2 == 0 or n % 3 == 0:\n",
    "        return False\n",
    "    i = 5\n",
    "    while i * i <= n:\n",
    "        if n % i == 0 or n % (i + 2) == 0:\n",
    "            return False\n",
    "        i += 6\n",
    "    return True\n",
    "\n",
    "def prime_sequence(n):\n",
    "    sequence = []\n",
    "    num = 2\n",
    "    while len(sequence) < n:\n",
    "        if is_prime(num):\n",
    "            sequence.append(num)\n",
    "        num += 1\n",
    "    return sequence\n",
    "\n",
    "def generate_sequence(sequence,n):       \n",
    "    if sequence == \"fibonacci\":\n",
    "        return fibonacci_sequence(n)\n",
    "    elif sequence == \"primes\":\n",
    "        return prime_sequence(n)\n",
    "    else:\n",
    "        return None\n",
    "\n",
    "\n"
   ]
  },
  {
   "cell_type": "code",
   "execution_count": 150,
   "metadata": {},
   "outputs": [
    {
     "name": "stdout",
     "output_type": "stream",
     "text": [
      "[0, 1, 1, 2, 3, 5, 8, 13, 21, 34]\n",
      "[2, 3, 5, 7, 11, 13, 17, 19, 23, 29]\n"
     ]
    }
   ],
   "source": [
    "fibonacci_seq = generate_sequence(\"fibonacci\", 10)\n",
    "prime_seq = generate_sequence(\"primes\", 10)\n",
    "\n",
    "print(fibonacci_seq)\n",
    "print(prime_seq)\n"
   ]
  }
 ],
 "metadata": {
  "kernelspec": {
   "display_name": "Jupyter-kernel",
   "language": "python",
   "name": "jupyter-kernel"
  },
  "language_info": {
   "codemirror_mode": {
    "name": "ipython",
    "version": 3
   },
   "file_extension": ".py",
   "mimetype": "text/x-python",
   "name": "python",
   "nbconvert_exporter": "python",
   "pygments_lexer": "ipython3",
   "version": "3.12.0"
  }
 },
 "nbformat": 4,
 "nbformat_minor": 2
}
