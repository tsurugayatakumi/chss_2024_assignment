{
  "cells": [
    {
      "cell_type": "markdown",
      "metadata": {
        "id": "EbOLsJqDyz6q"
      },
      "source": [
        "課題１"
      ]
    },
    {
      "cell_type": "code",
      "execution_count": 3,
      "metadata": {
        "id": "mALNsJgTx1s-"
      },
      "outputs": [],
      "source": [
        "import pandas as pd"
      ]
    },
    {
      "cell_type": "code",
      "execution_count": 5,
      "metadata": {
        "colab": {
          "base_uri": "https://localhost:8080/"
        },
        "id": "KtiYSW4WyxQW",
        "outputId": "d969bf43-4d94-41d0-b7f8-fdb1bb147639"
      },
      "outputs": [
        {
          "name": "stdout",
          "output_type": "stream",
          "text": [
            "     Name  Price  Model  Power\n",
            "0   Honda  10000   2005   1300\n",
            "1  Toyota  12000   2010   1600\n",
            "2    Audi  25000   2017   1800\n",
            "3    Ford  28000   2009   1200\n"
          ]
        }
      ],
      "source": [
        "file_path = '/example.json'\n",
        "df_example = pd.read_json(file_path, lines=True)\n",
        "print(df_example)"
      ]
    },
    {
      "cell_type": "markdown",
      "metadata": {
        "id": "9OSH9nIwz8tz"
      },
      "source": [
        "課題２"
      ]
    },
    {
      "cell_type": "code",
      "execution_count": 6,
      "metadata": {
        "colab": {
          "base_uri": "https://localhost:8080/"
        },
        "id": "N4c6rcUzz5PZ",
        "outputId": "4e83956a-0f70-4b4d-89ae-746cddb3bad3"
      },
      "outputs": [
        {
          "name": "stdout",
          "output_type": "stream",
          "text": [
            "        state abbreviation\n",
            "0     Alabama           AL\n",
            "1      Alaska           AK\n",
            "2     Arizona           AZ\n",
            "3    Arkansas           AR\n",
            "4  California           CA\n",
            "        state  area (sq. mi)\n",
            "0     Alabama          52423\n",
            "1      Alaska         656425\n",
            "2     Arizona         114006\n",
            "3    Arkansas          53182\n",
            "4  California         163707\n",
            "  state/region     ages  year  population\n",
            "0           AL  under18  2012   1117489.0\n",
            "1           AL    total  2012   4817528.0\n",
            "2           AL  under18  2010   1130966.0\n",
            "3           AL    total  2010   4785570.0\n",
            "4           AL  under18  2011   1125763.0\n"
          ]
        }
      ],
      "source": [
        "abbrevs_path = '/state-abbrevs.csv'\n",
        "areas_path = '/state-areas.csv'\n",
        "population_path = '/state-population.csv'\n",
        "\n",
        "df_abbrevs = pd.read_csv(abbrevs_path)\n",
        "df_areas = pd.read_csv(areas_path)\n",
        "df_population = pd.read_csv(population_path)\n",
        "\n",
        "print(df_abbrevs.head())\n",
        "print(df_areas.head())\n",
        "print(df_population.head())\n"
      ]
    },
    {
      "cell_type": "code",
      "execution_count": 7,
      "metadata": {
        "colab": {
          "base_uri": "https://localhost:8080/"
        },
        "id": "Fp-hAcXD2eVG",
        "outputId": "bc39f8a4-ed4b-467e-c534-a3de37d3db6f"
      },
      "outputs": [
        {
          "name": "stdout",
          "output_type": "stream",
          "text": [
            "                   state  population  area (sq. mi)      density\n",
            "0                Alabama   4785570.0        52423.0    91.287603\n",
            "1                 Alaska    713868.0       656425.0     1.087509\n",
            "2                Arizona   6408790.0       114006.0    56.214497\n",
            "3               Arkansas   2922280.0        53182.0    54.948667\n",
            "4             California  37333601.0       163707.0   228.051342\n",
            "5               Colorado   5048196.0       104100.0    48.493718\n",
            "6            Connecticut   3579210.0         5544.0   645.600649\n",
            "7               Delaware    899711.0         1954.0   460.445752\n",
            "8   District of Columbia    605125.0           68.0  8898.897059\n",
            "9                Florida  18846054.0        65758.0   286.597129\n",
            "10               Georgia   9713248.0        59441.0   163.409902\n",
            "11                Hawaii   1363731.0        10932.0   124.746707\n",
            "12                 Idaho   1570718.0        83574.0    18.794338\n",
            "13              Illinois  12839695.0        57918.0   221.687472\n",
            "14               Indiana   6489965.0        36420.0   178.197831\n",
            "15                  Iowa   3050314.0        56276.0    54.202751\n",
            "16                Kansas   2858910.0        82282.0    34.745266\n",
            "17              Kentucky   4347698.0        40411.0   107.586994\n",
            "18             Louisiana   4545392.0        51843.0    87.676099\n",
            "19                 Maine   1327366.0        35387.0    37.509990\n",
            "20              Maryland   5787193.0        12407.0   466.445797\n",
            "21         Massachusetts   6563263.0        10555.0   621.815538\n",
            "22              Michigan   9876149.0        96810.0   102.015794\n",
            "23             Minnesota   5310337.0        86943.0    61.078373\n",
            "24           Mississippi   2970047.0        48434.0    61.321530\n",
            "25              Missouri   5996063.0        69709.0    86.015622\n",
            "26               Montana    990527.0       147046.0     6.736171\n",
            "27              Nebraska   1829838.0        77358.0    23.654153\n",
            "28                Nevada   2703230.0       110567.0    24.448796\n",
            "29         New Hampshire   1316614.0         9351.0   140.799273\n",
            "30            New Jersey   8802707.0         8722.0  1009.253268\n",
            "31            New Mexico   2064982.0       121593.0    16.982737\n",
            "32              New York  19398228.0        54475.0   356.094135\n",
            "33        North Carolina   9559533.0        53821.0   177.617157\n",
            "34          North Dakota    674344.0        70704.0     9.537565\n",
            "35                  Ohio  11545435.0        44828.0   257.549634\n",
            "36              Oklahoma   3759263.0        69903.0    53.778278\n",
            "37                Oregon   3837208.0        98386.0    39.001565\n",
            "38          Pennsylvania  12710472.0        46058.0   275.966651\n",
            "39          Rhode Island   1052669.0         1545.0   681.339159\n",
            "40        South Carolina   4636361.0        32007.0   144.854594\n",
            "41          South Dakota    816211.0        77121.0    10.583512\n",
            "42             Tennessee   6356683.0        42146.0   150.825298\n",
            "43                 Texas  25245178.0       268601.0    93.987655\n",
            "44                  Utah   2774424.0        84904.0    32.677188\n",
            "45               Vermont    625793.0         9615.0    65.085075\n",
            "46              Virginia   8024417.0        42769.0   187.622273\n",
            "47            Washington   6742256.0        71303.0    94.557817\n",
            "48         West Virginia   1854146.0        24231.0    76.519582\n",
            "49             Wisconsin   5689060.0        65503.0    86.851900\n",
            "50               Wyoming    564222.0        97818.0     5.768079\n"
          ]
        }
      ],
      "source": [
        "df_population_2010 = df_population[(df_population['year'] == 2010) & (df_population['ages'] == 'total')]\n",
        "\n",
        "df_merged = pd.merge(df_population_2010, df_abbrevs, how='left', left_on='state/region', right_on='abbreviation')\n",
        "df_merged = pd.merge(df_merged, df_areas, how='left', on='state')\n",
        "\n",
        "df_merged = df_merged.dropna()\n",
        "\n",
        "df_merged['density'] = df_merged['population'] / df_merged['area (sq. mi)']\n",
        "\n",
        "print(df_merged[['state', 'population', 'area (sq. mi)', 'density']])"
      ]
    },
    {
      "cell_type": "markdown",
      "metadata": {
        "id": "1Tx7DKr13B3e"
      },
      "source": [
        "課題３"
      ]
    },
    {
      "cell_type": "code",
      "execution_count": 8,
      "metadata": {
        "colab": {
          "base_uri": "https://localhost:8080/"
        },
        "id": "6owa1VoT3ET9",
        "outputId": "09f17073-ecf7-439e-c3fb-e84cc48eb8f5"
      },
      "outputs": [
        {
          "name": "stdout",
          "output_type": "stream",
          "text": [
            "        state     ages  year  population  area (sq. mi)   density\n",
            "0      Alaska    total  1990    553290.0       656425.0  0.842884\n",
            "1      Alaska    total  1991    570193.0       656425.0  0.868634\n",
            "2      Alaska    total  1992    588736.0       656425.0  0.896882\n",
            "3      Alaska    total  1993    599434.0       656425.0  0.913180\n",
            "4      Alaska    total  1994    603308.0       656425.0  0.919081\n",
            "...       ...      ...   ...         ...            ...       ...\n",
            "2539  Wyoming  under18  2009    134960.0        97818.0  1.379705\n",
            "2540  Wyoming  under18  2010    135351.0        97818.0  1.383702\n",
            "2541  Wyoming  under18  2011    135407.0        97818.0  1.384275\n",
            "2542  Wyoming  under18  2012    136526.0        97818.0  1.395714\n",
            "2543  Wyoming  under18  2013    137679.0        97818.0  1.407502\n",
            "\n",
            "[2448 rows x 6 columns]\n"
          ]
        }
      ],
      "source": [
        "df_grouped = df_population.groupby(['state/region', 'ages', 'year']).sum().reset_index()\n",
        "df_grouped = pd.merge(df_grouped, df_abbrevs, how='left', left_on='state/region', right_on='abbreviation')\n",
        "df_grouped = pd.merge(df_grouped, df_areas, how='left', on='state')\n",
        "\n",
        "df_grouped = df_grouped.dropna()\n",
        "\n",
        "df_grouped['density'] = df_grouped['population'] / df_grouped['area (sq. mi)']\n",
        "\n",
        "print(df_grouped[['state', 'ages', 'year', 'population', 'area (sq. mi)', 'density']])\n"
      ]
    }
  ],
  "metadata": {
    "colab": {
      "provenance": []
    },
    "kernelspec": {
      "display_name": "Python 3",
      "name": "python3"
    },
    "language_info": {
      "name": "python"
    }
  },
  "nbformat": 4,
  "nbformat_minor": 0
}
