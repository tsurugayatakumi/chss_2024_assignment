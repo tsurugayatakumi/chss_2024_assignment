{
 "cells": [
  {
   "attachments": {},
   "cell_type": "markdown",
   "metadata": {},
   "source": [
    "# 課題0703\n",
    "\n",
    "そのまま課題ファイルで編集しないでください。課題ファイルを複製してから課題を回答してください。"
   ]
  },
  {
   "attachments": {},
   "cell_type": "markdown",
   "metadata": {},
   "source": [
    "## 課題1\n",
    "\n",
    "pandasでDataフォルダの```example.json```を読み込む。"
   ]
  },
  {
   "cell_type": "code",
   "execution_count": 1,
   "metadata": {},
   "outputs": [
    {
     "name": "stdout",
     "output_type": "stream",
     "text": [
      "     Name  Price  Model  Power\n",
      "0   Honda  10000   2005   1300\n",
      "1  Toyota  12000   2010   1600\n",
      "2    Audi  25000   2017   1800\n",
      "3    Ford  28000   2009   1200\n"
     ]
    }
   ],
   "source": [
    "import pandas as pd\n",
    "df = pd.read_json('/Users/weiyueshu/chss_2024_assignment/Assignment7/Data/example.json',lines=True)\n",
    "print(df)"
   ]
  },
  {
   "attachments": {},
   "cell_type": "markdown",
   "metadata": {},
   "source": [
    "## 課題2\n",
    "\n",
    "pandasでDataフォルダの```state-abbrevs.csv```、```state-areas.csv```、```state-population.csv```を読み込む。\n",
    "\n",
    "これらのデータを使って、**2010年**アメリカの各州の人口密度を計算しよう。"
   ]
  },
  {
   "cell_type": "code",
   "execution_count": 3,
   "metadata": {},
   "outputs": [
    {
     "name": "stdout",
     "output_type": "stream",
     "text": [
      "                   state  population_density\n",
      "0                Alabama           91.287603\n",
      "1                 Alaska            1.087509\n",
      "2                Arizona           56.214497\n",
      "3               Arkansas           54.948667\n",
      "4             California          228.051342\n",
      "5               Colorado           48.493718\n",
      "6            Connecticut          645.600649\n",
      "7               Delaware          460.445752\n",
      "8   District of Columbia         8898.897059\n",
      "9                Florida          286.597129\n",
      "10               Georgia          163.409902\n",
      "11                Hawaii          124.746707\n",
      "12                 Idaho           18.794338\n",
      "13              Illinois          221.687472\n",
      "14               Indiana          178.197831\n",
      "15                  Iowa           54.202751\n",
      "16                Kansas           34.745266\n",
      "17              Kentucky          107.586994\n",
      "18             Louisiana           87.676099\n",
      "19                 Maine           37.509990\n",
      "20               Montana            6.736171\n",
      "21              Nebraska           23.654153\n",
      "22                Nevada           24.448796\n",
      "23         New Hampshire          140.799273\n",
      "24            New Jersey         1009.253268\n",
      "25            New Mexico           16.982737\n",
      "26              New York          356.094135\n",
      "27        North Carolina          177.617157\n",
      "28          North Dakota            9.537565\n",
      "29                  Ohio          257.549634\n",
      "30              Oklahoma           53.778278\n",
      "31                Oregon           39.001565\n",
      "32              Maryland          466.445797\n",
      "33         Massachusetts          621.815538\n",
      "34              Michigan          102.015794\n",
      "35             Minnesota           61.078373\n",
      "36           Mississippi           61.321530\n",
      "37              Missouri           86.015622\n",
      "38          Pennsylvania          275.966651\n",
      "39          Rhode Island          681.339159\n",
      "40        South Carolina          144.854594\n",
      "41          South Dakota           10.583512\n",
      "42             Tennessee          150.825298\n",
      "43                 Texas           93.987655\n",
      "44                  Utah           32.677188\n",
      "45               Vermont           65.085075\n",
      "46              Virginia          187.622273\n",
      "47            Washington           94.557817\n",
      "48         West Virginia           76.519582\n",
      "49             Wisconsin           86.851900\n",
      "50               Wyoming            5.768079\n"
     ]
    }
   ],
   "source": [
    "import pandas as pd\n",
    "data_paths = {\n",
    "    'abbrevs': '/Users/weiyueshu/chss_2024_assignment/Assignment7/Data/state-abbrevs.csv',\n",
    "    'areas': '/Users/weiyueshu/chss_2024_assignment/Assignment7/Data/state-areas.csv',\n",
    "    'population': '/Users/weiyueshu/chss_2024_assignment/Assignment7/Data/state-population.csv'\n",
    "}\n",
    "abbrevs = pd.read_csv(data_paths['abbrevs'])\n",
    "areas = pd.read_csv(data_paths['areas'])\n",
    "population = pd.read_csv(data_paths['population'])\n",
    "population_2010total = population[(population['year'] == 2010) & (population['ages'] == 'total')]\n",
    "merged = pd.merge(pd.merge(abbrevs, areas, on='state'), population_2010total, left_on='abbreviation', right_on='state/region')\n",
    "merged['population_density'] = merged['population'] / merged['area (sq. mi)']\n",
    "result = merged[['state', 'population_density']]\n",
    "print(result)"
   ]
  },
  {
   "attachments": {},
   "cell_type": "markdown",
   "metadata": {},
   "source": [
    "## 課題3\n",
    "\n",
    "```state/region```、```ages```と```years```でデータフレームをグループして、各グループで$\\frac{population}{area (sq. mi)}$の形で人口密度を計算してください。"
   ]
  },
  {
   "cell_type": "code",
   "execution_count": 9,
   "metadata": {},
   "outputs": [
    {
     "name": "stdout",
     "output_type": "stream",
     "text": [
      "        state  year     ages  population  area (sq. mi)  population_density\n",
      "0     Alabama  2012  under18   1117489.0          52423           21.316769\n",
      "1     Alabama  2012    total   4817528.0          52423           91.897221\n",
      "2     Alabama  2010  under18   1130966.0          52423           21.573851\n",
      "3     Alabama  2010    total   4785570.0          52423           91.287603\n",
      "4     Alabama  2011  under18   1125763.0          52423           21.474601\n",
      "...       ...   ...      ...         ...            ...                 ...\n",
      "2443  Wyoming  1993  under18    137458.0          97818            1.405242\n",
      "2444  Wyoming  1991    total    459260.0          97818            4.695046\n",
      "2445  Wyoming  1991  under18    136720.0          97818            1.397698\n",
      "2446  Wyoming  1990  under18    136078.0          97818            1.391135\n",
      "2447  Wyoming  1990    total    453690.0          97818            4.638103\n",
      "\n",
      "[2448 rows x 6 columns]\n",
      "        state     ages  year  population  area (sq. mi)  population_density\n",
      "0     Alabama    total  1990   4050055.0        52423.0           77.257215\n",
      "1     Alabama    total  1991   4099156.0        52423.0           78.193846\n",
      "2     Alabama    total  1992   4154014.0        52423.0           79.240295\n",
      "3     Alabama    total  1993   4214202.0        52423.0           80.388417\n",
      "4     Alabama    total  1994   4260229.0        52423.0           81.266410\n",
      "...       ...      ...   ...         ...            ...                 ...\n",
      "2443  Wyoming  under18  2009    134960.0        97818.0            1.379705\n",
      "2444  Wyoming  under18  2010    135351.0        97818.0            1.383702\n",
      "2445  Wyoming  under18  2011    135407.0        97818.0            1.384275\n",
      "2446  Wyoming  under18  2012    136526.0        97818.0            1.395714\n",
      "2447  Wyoming  under18  2013    137679.0        97818.0            1.407502\n",
      "\n",
      "[2448 rows x 6 columns]\n"
     ]
    }
   ],
   "source": [
    "import pandas as pd\n",
    "abbrevs = pd.read_csv('/Users/weiyueshu/chss_2024_assignment/Assignment7/Data/state-abbrevs.csv')\n",
    "areas = pd.read_csv('/Users/weiyueshu/chss_2024_assignment/Assignment7/Data/state-areas.csv')\n",
    "population = pd.read_csv('/Users/weiyueshu/chss_2024_assignment/Assignment7/Data/state-population.csv')\n",
    "merged = pd.merge(abbrevs, areas, on='state')\n",
    "merged = pd.merge(merged, population, left_on='abbreviation', right_on='state/region')\n",
    "merged['population_density'] = merged['population'] / merged['area (sq. mi)']\n",
    "result1 = merged[['state','year', 'ages','population','area (sq. mi)','population_density']]\n",
    "print(result1)\n",
    "result2 = result1.groupby(['state', 'ages', 'year']).mean().reset_index()\n",
    "print(result2)"
   ]
  }
 ],
 "metadata": {
  "kernelspec": {
   "display_name": "base",
   "language": "python",
   "name": "python3"
  },
  "language_info": {
   "codemirror_mode": {
    "name": "ipython",
    "version": 3
   },
   "file_extension": ".py",
   "mimetype": "text/x-python",
   "name": "python",
   "nbconvert_exporter": "python",
   "pygments_lexer": "ipython3",
   "version": "3.11.7"
  },
  "orig_nbformat": 4
 },
 "nbformat": 4,
 "nbformat_minor": 2
}
