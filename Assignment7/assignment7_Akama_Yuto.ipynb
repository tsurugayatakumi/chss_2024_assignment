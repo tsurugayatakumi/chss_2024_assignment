{
 "cells": [
  {
   "attachments": {},
   "cell_type": "markdown",
   "metadata": {},
   "source": [
    "# 課題0703\n",
    "\n",
    "そのまま課題ファイルで編集しないでください。課題ファイルを複製してから課題を回答してください。"
   ]
  },
  {
   "attachments": {},
   "cell_type": "markdown",
   "metadata": {},
   "source": [
    "## 課題1\n",
    "\n",
    "pandasでDataフォルダの```example.json```を読み込む。"
   ]
  },
  {
   "cell_type": "code",
   "execution_count": 2,
   "metadata": {},
   "outputs": [
    {
     "name": "stdout",
     "output_type": "stream",
     "text": [
      "     Name  Price  Model  Power\n",
      "0   Honda  10000   2005   1300\n",
      "1  Toyota  12000   2010   1600\n",
      "2    Audi  25000   2017   1800\n",
      "3    Ford  28000   2009   1200\n"
     ]
    }
   ],
   "source": [
    "import pandas as pd\n",
    "\n",
    "df = pd.read_json('Data/example.json', lines=True)\n",
    "print(df.head())"
   ]
  },
  {
   "attachments": {},
   "cell_type": "markdown",
   "metadata": {},
   "source": [
    "## 課題2\n",
    "\n",
    "pandasでDataフォルダの```state-abbrevs.csv```、```state-areas.csv```、```state-population.csv```を読み込む。\n",
    "\n",
    "これらのデータを使って、**2010年**アメリカの各州の人口密度を計算しよう。"
   ]
  },
  {
   "cell_type": "code",
   "execution_count": 3,
   "metadata": {},
   "outputs": [
    {
     "name": "stdout",
     "output_type": "stream",
     "text": [
      "state/region     0\n",
      "ages             0\n",
      "year             0\n",
      "population       0\n",
      "state            4\n",
      "area (sq. mi)    4\n",
      "dtype: int64\n",
      "     state  population_density\n",
      "0  Alabama           21.573851\n",
      "1  Alabama           91.287603\n",
      "2   Alaska            0.286251\n",
      "3   Alaska            1.087509\n",
      "4  Arizona           14.284889\n"
     ]
    }
   ],
   "source": [
    "# CSVファイルを読み込む\n",
    "state_abbrevs = pd.read_csv('Data/state-abbrevs.csv')\n",
    "state_areas = pd.read_csv('Data/state-areas.csv')\n",
    "state_population = pd.read_csv('Data/state-population.csv')\n",
    "\n",
    "population_2010 = state_population[state_population['year'] == 2010]\n",
    "\n",
    "merged_data = population_2010.merge(state_abbrevs, how='left', left_on='state/region', right_on='abbreviation')\n",
    "merged_data = merged_data.merge(state_areas, how='left', on='state')\n",
    "\n",
    "merged_data.drop(['abbreviation'], axis=1, inplace=True)\n",
    "\n",
    "print(merged_data.isnull().sum())\n",
    "\n",
    "merged_data.dropna(inplace=True)\n",
    "\n",
    "# 計算 (人口 / 面積)\n",
    "merged_data['population_density'] = merged_data['population'] / merged_data['area (sq. mi)']\n",
    "\n",
    "# 結果を表示\n",
    "print(merged_data[['state', 'population_density']].head())\n"
   ]
  },
  {
   "attachments": {},
   "cell_type": "markdown",
   "metadata": {},
   "source": [
    "## 課題3\n",
    "\n",
    "```state/region```、```ages```と```years```でデータフレームをグループして、各グループで$\\frac{population}{area (sq. mi)}$の形で人口密度を計算してください。"
   ]
  },
  {
   "cell_type": "code",
   "execution_count": 4,
   "metadata": {},
   "outputs": [
    {
     "name": "stdout",
     "output_type": "stream",
     "text": [
      "  state/region   ages  year  population_density\n",
      "0           AK  total  1990            0.842884\n",
      "1           AK  total  1991            0.868634\n",
      "2           AK  total  1992            0.896882\n",
      "3           AK  total  1993            0.913180\n",
      "4           AK  total  1994            0.919081\n"
     ]
    }
   ],
   "source": [
    "state_abbrevs = pd.read_csv('Data/state-abbrevs.csv')\n",
    "state_areas = pd.read_csv('Data/state-areas.csv')\n",
    "state_population = pd.read_csv('Data/state-population.csv')\n",
    "\n",
    "merged_data = state_population.merge(state_abbrevs, how='left', left_on='state/region', right_on='abbreviation')\n",
    "merged_data = merged_data.merge(state_areas, how='left', on='state')\n",
    "\n",
    "merged_data.drop(['abbreviation'], axis=1, inplace=True)\n",
    "\n",
    "merged_data.dropna(inplace=True)\n",
    "\n",
    "# 計算 (人口 / 面積)\n",
    "merged_data['population_density'] = merged_data['population'] / merged_data['area (sq. mi)']\n",
    "\n",
    "# グループ化\n",
    "grouped = merged_data.groupby(['state/region', 'ages', 'year'])\n",
    "\n",
    "# 各グループでの人口密度を計算\n",
    "grouped_density = grouped['population_density'].mean().reset_index()\n",
    "\n",
    "# 結果を表示\n",
    "print(grouped_density.head())"
   ]
  }
 ],
 "metadata": {
  "kernelspec": {
   "display_name": "base",
   "language": "python",
   "name": "python3"
  },
  "language_info": {
   "codemirror_mode": {
    "name": "ipython",
    "version": 3
   },
   "file_extension": ".py",
   "mimetype": "text/x-python",
   "name": "python",
   "nbconvert_exporter": "python",
   "pygments_lexer": "ipython3",
   "version": "3.11.5"
  },
  "orig_nbformat": 4
 },
 "nbformat": 4,
 "nbformat_minor": 2
}
