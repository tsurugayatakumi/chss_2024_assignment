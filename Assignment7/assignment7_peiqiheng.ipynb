{
 "cells": [
  {
   "attachments": {},
   "cell_type": "markdown",
   "metadata": {},
   "source": [
    "# 課題0703\n",
    "\n",
    "そのまま課題ファイルで編集しないでください。課題ファイルを複製してから課題を回答してください。"
   ]
  },
  {
   "attachments": {},
   "cell_type": "markdown",
   "metadata": {},
   "source": [
    "## 課題1\n",
    "\n",
    "pandasでDataフォルダの```example.json```を読み込む。"
   ]
  },
  {
   "cell_type": "code",
   "metadata": {
    "ExecuteTime": {
     "end_time": "2024-07-09T10:59:17.565383Z",
     "start_time": "2024-07-09T10:59:16.169149Z"
    }
   },
   "source": [
    "import numpy as np\n",
    "import matplotlib.pyplot as plt\n",
    "import pandas as pd\n",
    "df = pd.read_json(\"Data/example.json\", lines=True)\n",
    "print(df.head())"
   ],
   "outputs": [
    {
     "name": "stdout",
     "output_type": "stream",
     "text": [
      "     Name  Price  Model  Power\n",
      "0   Honda  10000   2005   1300\n",
      "1  Toyota  12000   2010   1600\n",
      "2    Audi  25000   2017   1800\n",
      "3    Ford  28000   2009   1200\n"
     ]
    }
   ],
   "execution_count": 1
  },
  {
   "attachments": {},
   "cell_type": "markdown",
   "metadata": {},
   "source": [
    "## 課題2\n",
    "\n",
    "pandasでDataフォルダの```state-abbrevs.csv```、```state-areas.csv```、```state-population.csv```を読み込む。\n",
    "\n",
    "これらのデータを使って、**2010年**アメリカの各州の人口密度を計算しよう。"
   ]
  },
  {
   "cell_type": "code",
   "metadata": {
    "ExecuteTime": {
     "end_time": "2024-07-09T10:44:05.015995Z",
     "start_time": "2024-07-09T10:44:04.991566Z"
    }
   },
   "source": [
    "state_abbrevs = pd.read_csv(\"Data/state-abbrevs.csv\")\n",
    "state_areas = pd.read_csv(\"Data/state-areas.csv\")\n",
    "state_population = pd.read_csv(\"Data/state-population.csv\")\n",
    "dit = {'state': 'Puerto Rico', 'abbreviation': 'PR'}\n",
    "s = pd.Series(dit)\n",
    "# add a row of \"Peurto Rico\"\n",
    "s.name = (51)\n",
    "state_abbrevs = state_abbrevs._append(s)\n",
    "pop1 = state_population[(state_population.ages==\"total\")&(state_population.year==2010)]\n",
    "merged = pd.merge(state_abbrevs, state_areas, on = 'state', how = 'outer')\n",
    "pop1 = pop1.rename(columns={'state/region':'abbreviation'})\n",
    "pop1 = pop1.reset_index(drop=True)\n",
    "pop1.drop(pop1[pop1['abbreviation'] == 'USA'].index, inplace=True)\n",
    "merged1 = pd.merge(merged, pop1, on = 'abbreviation', how = 'outer')\n",
    "merged1['mean_population'] = merged1['population']/merged1['area (sq. mi)']\n",
    "print(merged1)"
   ],
   "outputs": [
    {
     "name": "stdout",
     "output_type": "stream",
     "text": [
      "                   state abbreviation  area (sq. mi)   ages  year  population  \\\n",
      "0                 Alaska           AK         656425  total  2010    713868.0   \n",
      "1                Alabama           AL          52423  total  2010   4785570.0   \n",
      "2               Arkansas           AR          53182  total  2010   2922280.0   \n",
      "3                Arizona           AZ         114006  total  2010   6408790.0   \n",
      "4             California           CA         163707  total  2010  37333601.0   \n",
      "5               Colorado           CO         104100  total  2010   5048196.0   \n",
      "6            Connecticut           CT           5544  total  2010   3579210.0   \n",
      "7   District of Columbia           DC             68  total  2010    605125.0   \n",
      "8               Delaware           DE           1954  total  2010    899711.0   \n",
      "9                Florida           FL          65758  total  2010  18846054.0   \n",
      "10               Georgia           GA          59441  total  2010   9713248.0   \n",
      "11                Hawaii           HI          10932  total  2010   1363731.0   \n",
      "12                  Iowa           IA          56276  total  2010   3050314.0   \n",
      "13                 Idaho           ID          83574  total  2010   1570718.0   \n",
      "14              Illinois           IL          57918  total  2010  12839695.0   \n",
      "15               Indiana           IN          36420  total  2010   6489965.0   \n",
      "16                Kansas           KS          82282  total  2010   2858910.0   \n",
      "17              Kentucky           KY          40411  total  2010   4347698.0   \n",
      "18             Louisiana           LA          51843  total  2010   4545392.0   \n",
      "19         Massachusetts           MA          10555  total  2010   6563263.0   \n",
      "20              Maryland           MD          12407  total  2010   5787193.0   \n",
      "21                 Maine           ME          35387  total  2010   1327366.0   \n",
      "22              Michigan           MI          96810  total  2010   9876149.0   \n",
      "23             Minnesota           MN          86943  total  2010   5310337.0   \n",
      "24              Missouri           MO          69709  total  2010   5996063.0   \n",
      "25           Mississippi           MS          48434  total  2010   2970047.0   \n",
      "26               Montana           MT         147046  total  2010    990527.0   \n",
      "27        North Carolina           NC          53821  total  2010   9559533.0   \n",
      "28          North Dakota           ND          70704  total  2010    674344.0   \n",
      "29              Nebraska           NE          77358  total  2010   1829838.0   \n",
      "30         New Hampshire           NH           9351  total  2010   1316614.0   \n",
      "31            New Jersey           NJ           8722  total  2010   8802707.0   \n",
      "32            New Mexico           NM         121593  total  2010   2064982.0   \n",
      "33                Nevada           NV         110567  total  2010   2703230.0   \n",
      "34              New York           NY          54475  total  2010  19398228.0   \n",
      "35                  Ohio           OH          44828  total  2010  11545435.0   \n",
      "36              Oklahoma           OK          69903  total  2010   3759263.0   \n",
      "37                Oregon           OR          98386  total  2010   3837208.0   \n",
      "38          Pennsylvania           PA          46058  total  2010  12710472.0   \n",
      "39           Puerto Rico           PR           3515  total  2010   3721208.0   \n",
      "40          Rhode Island           RI           1545  total  2010   1052669.0   \n",
      "41        South Carolina           SC          32007  total  2010   4636361.0   \n",
      "42          South Dakota           SD          77121  total  2010    816211.0   \n",
      "43             Tennessee           TN          42146  total  2010   6356683.0   \n",
      "44                 Texas           TX         268601  total  2010  25245178.0   \n",
      "45                  Utah           UT          84904  total  2010   2774424.0   \n",
      "46              Virginia           VA          42769  total  2010   8024417.0   \n",
      "47               Vermont           VT           9615  total  2010    625793.0   \n",
      "48            Washington           WA          71303  total  2010   6742256.0   \n",
      "49             Wisconsin           WI          65503  total  2010   5689060.0   \n",
      "50         West Virginia           WV          24231  total  2010   1854146.0   \n",
      "51               Wyoming           WY          97818  total  2010    564222.0   \n",
      "\n",
      "    mean_population  \n",
      "0          1.087509  \n",
      "1         91.287603  \n",
      "2         54.948667  \n",
      "3         56.214497  \n",
      "4        228.051342  \n",
      "5         48.493718  \n",
      "6        645.600649  \n",
      "7       8898.897059  \n",
      "8        460.445752  \n",
      "9        286.597129  \n",
      "10       163.409902  \n",
      "11       124.746707  \n",
      "12        54.202751  \n",
      "13        18.794338  \n",
      "14       221.687472  \n",
      "15       178.197831  \n",
      "16        34.745266  \n",
      "17       107.586994  \n",
      "18        87.676099  \n",
      "19       621.815538  \n",
      "20       466.445797  \n",
      "21        37.509990  \n",
      "22       102.015794  \n",
      "23        61.078373  \n",
      "24        86.015622  \n",
      "25        61.321530  \n",
      "26         6.736171  \n",
      "27       177.617157  \n",
      "28         9.537565  \n",
      "29        23.654153  \n",
      "30       140.799273  \n",
      "31      1009.253268  \n",
      "32        16.982737  \n",
      "33        24.448796  \n",
      "34       356.094135  \n",
      "35       257.549634  \n",
      "36        53.778278  \n",
      "37        39.001565  \n",
      "38       275.966651  \n",
      "39      1058.665149  \n",
      "40       681.339159  \n",
      "41       144.854594  \n",
      "42        10.583512  \n",
      "43       150.825298  \n",
      "44        93.987655  \n",
      "45        32.677188  \n",
      "46       187.622273  \n",
      "47        65.085075  \n",
      "48        94.557817  \n",
      "49        86.851900  \n",
      "50        76.519582  \n",
      "51         5.768079  \n"
     ]
    }
   ],
   "execution_count": 90
  },
  {
   "attachments": {},
   "cell_type": "markdown",
   "metadata": {},
   "source": [
    "## 課題3\n",
    "\n",
    "```state/region```、```ages```と```years```でデータフレームをグループして、各グループで$\\frac{population}{area (sq. mi)}$の形で人口密度を計算してください。"
   ]
  },
  {
   "cell_type": "code",
   "metadata": {
    "ExecuteTime": {
     "end_time": "2024-07-09T10:56:52.000483Z",
     "start_time": "2024-07-09T10:56:51.985505Z"
    }
   },
   "source": [
    "state_population = state_population.rename(columns={'state/region':'abbreviation'})\n",
    "subgroups = pd.merge(merged, state_population, on = 'abbreviation', how = 'outer')\n",
    "subgroups.groupby(['state', 'ages', 'year'])\n",
    "subgroups['density'] = subgroups['population']/subgroups['area (sq. mi)']\n",
    "subgroups.drop(subgroups[subgroups['abbreviation'] == 'USA'].index, inplace=True)\n",
    "print(subgroups)"
   ],
   "outputs": [
    {
     "name": "stdout",
     "output_type": "stream",
     "text": [
      "        state abbreviation  area (sq. mi)     ages  year  population   density\n",
      "0      Alaska           AK       656425.0    total  1990    553290.0  0.842884\n",
      "1      Alaska           AK       656425.0  under18  1990    177502.0  0.270407\n",
      "2      Alaska           AK       656425.0    total  1992    588736.0  0.896882\n",
      "3      Alaska           AK       656425.0  under18  1991    182180.0  0.277534\n",
      "4      Alaska           AK       656425.0  under18  1992    184878.0  0.281644\n",
      "...       ...          ...            ...      ...   ...         ...       ...\n",
      "2539  Wyoming           WY        97818.0  under18  1993    137458.0  1.405242\n",
      "2540  Wyoming           WY        97818.0    total  1991    459260.0  4.695046\n",
      "2541  Wyoming           WY        97818.0  under18  1991    136720.0  1.397698\n",
      "2542  Wyoming           WY        97818.0  under18  1990    136078.0  1.391135\n",
      "2543  Wyoming           WY        97818.0    total  1990    453690.0  4.638103\n",
      "\n",
      "[2496 rows x 7 columns]\n"
     ]
    }
   ],
   "execution_count": 100
  },
  {
   "metadata": {},
   "cell_type": "code",
   "outputs": [],
   "execution_count": null,
   "source": ""
  }
 ],
 "metadata": {
  "kernelspec": {
   "display_name": "base",
   "language": "python",
   "name": "python3"
  },
  "language_info": {
   "codemirror_mode": {
    "name": "ipython",
    "version": 3
   },
   "file_extension": ".py",
   "mimetype": "text/x-python",
   "name": "python",
   "nbconvert_exporter": "python",
   "pygments_lexer": "ipython3",
   "version": "3.9.13"
  },
  "orig_nbformat": 4
 },
 "nbformat": 4,
 "nbformat_minor": 2
}
