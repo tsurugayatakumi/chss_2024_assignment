{
 "cells": [
  {
   "attachments": {},
   "cell_type": "markdown",
   "metadata": {},
   "source": [
    "# 課題0703\n",
    "\n",
    "そのまま課題ファイルで編集しないでください。課題ファイルを複製してから課題を回答してください。"
   ]
  },
  {
   "attachments": {},
   "cell_type": "markdown",
   "metadata": {},
   "source": [
    "## 課題1\n",
    "\n",
    "pandasでDataフォルダの```example.json```を読み込む。"
   ]
  },
  {
   "cell_type": "code",
   "execution_count": 55,
   "metadata": {
    "ExecuteTime": {
     "end_time": "2024-07-03T10:19:16.404099Z",
     "start_time": "2024-07-03T10:19:16.397917Z"
    }
   },
   "outputs": [],
   "source": [
    "import pandas as pd\n",
    "import numpy as np\n",
    "df = pd.read_json('./Data/example.json', lines=True)"
   ]
  },
  {
   "cell_type": "code",
   "outputs": [
    {
     "data": {
      "text/plain": "     Name  Price  Model  Power\n0   Honda  10000   2005   1300\n1  Toyota  12000   2010   1600\n2    Audi  25000   2017   1800\n3    Ford  28000   2009   1200",
      "text/html": "<div>\n<style scoped>\n    .dataframe tbody tr th:only-of-type {\n        vertical-align: middle;\n    }\n\n    .dataframe tbody tr th {\n        vertical-align: top;\n    }\n\n    .dataframe thead th {\n        text-align: right;\n    }\n</style>\n<table border=\"1\" class=\"dataframe\">\n  <thead>\n    <tr style=\"text-align: right;\">\n      <th></th>\n      <th>Name</th>\n      <th>Price</th>\n      <th>Model</th>\n      <th>Power</th>\n    </tr>\n  </thead>\n  <tbody>\n    <tr>\n      <th>0</th>\n      <td>Honda</td>\n      <td>10000</td>\n      <td>2005</td>\n      <td>1300</td>\n    </tr>\n    <tr>\n      <th>1</th>\n      <td>Toyota</td>\n      <td>12000</td>\n      <td>2010</td>\n      <td>1600</td>\n    </tr>\n    <tr>\n      <th>2</th>\n      <td>Audi</td>\n      <td>25000</td>\n      <td>2017</td>\n      <td>1800</td>\n    </tr>\n    <tr>\n      <th>3</th>\n      <td>Ford</td>\n      <td>28000</td>\n      <td>2009</td>\n      <td>1200</td>\n    </tr>\n  </tbody>\n</table>\n</div>"
     },
     "execution_count": 59,
     "metadata": {},
     "output_type": "execute_result"
    }
   ],
   "source": [
    "df"
   ],
   "metadata": {
    "collapsed": false,
    "ExecuteTime": {
     "end_time": "2024-07-03T10:20:16.074683Z",
     "start_time": "2024-07-03T10:20:16.063215Z"
    }
   },
   "execution_count": 59
  },
  {
   "attachments": {},
   "cell_type": "markdown",
   "metadata": {},
   "source": [
    "## 課題2\n",
    "\n",
    "pandasでDataフォルダの```state-abbrevs.csv```、```state-areas.csv```、```state-population.csv```を読み込む。\n",
    "\n",
    "これらのデータを使って、**2010年**アメリカの各州の人口密度を計算しよう。"
   ]
  },
  {
   "cell_type": "code",
   "execution_count": 75,
   "metadata": {
    "ExecuteTime": {
     "end_time": "2024-07-03T10:48:16.064916Z",
     "start_time": "2024-07-03T10:48:16.054260Z"
    }
   },
   "outputs": [],
   "source": [
    "df_abbrevs = pd.read_csv(\"./Data/state-abbrevs.csv\")\n",
    "df_areas = pd.read_csv(\"./Data/state-areas.csv\")\n",
    "df_population = pd.read_csv(\"./Data/state-population.csv\")"
   ]
  },
  {
   "cell_type": "code",
   "outputs": [
    {
     "data": {
      "text/plain": "                   state abbreviation\n0                Alabama           AL\n1                 Alaska           AK\n2                Arizona           AZ\n3               Arkansas           AR\n4             California           CA\n5               Colorado           CO\n6            Connecticut           CT\n7               Delaware           DE\n8   District of Columbia           DC\n9                Florida           FL\n10               Georgia           GA\n11                Hawaii           HI\n12                 Idaho           ID\n13              Illinois           IL\n14               Indiana           IN\n15                  Iowa           IA\n16                Kansas           KS\n17              Kentucky           KY\n18             Louisiana           LA\n19                 Maine           ME\n20               Montana           MT\n21              Nebraska           NE\n22                Nevada           NV\n23         New Hampshire           NH\n24            New Jersey           NJ\n25            New Mexico           NM\n26              New York           NY\n27        North Carolina           NC\n28          North Dakota           ND\n29                  Ohio           OH\n30              Oklahoma           OK\n31                Oregon           OR\n32              Maryland           MD\n33         Massachusetts           MA\n34              Michigan           MI\n35             Minnesota           MN\n36           Mississippi           MS\n37              Missouri           MO\n38          Pennsylvania           PA\n39          Rhode Island           RI\n40        South Carolina           SC\n41          South Dakota           SD\n42             Tennessee           TN\n43                 Texas           TX\n44                  Utah           UT\n45               Vermont           VT\n46              Virginia           VA\n47            Washington           WA\n48         West Virginia           WV\n49             Wisconsin           WI\n50               Wyoming           WY",
      "text/html": "<div>\n<style scoped>\n    .dataframe tbody tr th:only-of-type {\n        vertical-align: middle;\n    }\n\n    .dataframe tbody tr th {\n        vertical-align: top;\n    }\n\n    .dataframe thead th {\n        text-align: right;\n    }\n</style>\n<table border=\"1\" class=\"dataframe\">\n  <thead>\n    <tr style=\"text-align: right;\">\n      <th></th>\n      <th>state</th>\n      <th>abbreviation</th>\n    </tr>\n  </thead>\n  <tbody>\n    <tr>\n      <th>0</th>\n      <td>Alabama</td>\n      <td>AL</td>\n    </tr>\n    <tr>\n      <th>1</th>\n      <td>Alaska</td>\n      <td>AK</td>\n    </tr>\n    <tr>\n      <th>2</th>\n      <td>Arizona</td>\n      <td>AZ</td>\n    </tr>\n    <tr>\n      <th>3</th>\n      <td>Arkansas</td>\n      <td>AR</td>\n    </tr>\n    <tr>\n      <th>4</th>\n      <td>California</td>\n      <td>CA</td>\n    </tr>\n    <tr>\n      <th>5</th>\n      <td>Colorado</td>\n      <td>CO</td>\n    </tr>\n    <tr>\n      <th>6</th>\n      <td>Connecticut</td>\n      <td>CT</td>\n    </tr>\n    <tr>\n      <th>7</th>\n      <td>Delaware</td>\n      <td>DE</td>\n    </tr>\n    <tr>\n      <th>8</th>\n      <td>District of Columbia</td>\n      <td>DC</td>\n    </tr>\n    <tr>\n      <th>9</th>\n      <td>Florida</td>\n      <td>FL</td>\n    </tr>\n    <tr>\n      <th>10</th>\n      <td>Georgia</td>\n      <td>GA</td>\n    </tr>\n    <tr>\n      <th>11</th>\n      <td>Hawaii</td>\n      <td>HI</td>\n    </tr>\n    <tr>\n      <th>12</th>\n      <td>Idaho</td>\n      <td>ID</td>\n    </tr>\n    <tr>\n      <th>13</th>\n      <td>Illinois</td>\n      <td>IL</td>\n    </tr>\n    <tr>\n      <th>14</th>\n      <td>Indiana</td>\n      <td>IN</td>\n    </tr>\n    <tr>\n      <th>15</th>\n      <td>Iowa</td>\n      <td>IA</td>\n    </tr>\n    <tr>\n      <th>16</th>\n      <td>Kansas</td>\n      <td>KS</td>\n    </tr>\n    <tr>\n      <th>17</th>\n      <td>Kentucky</td>\n      <td>KY</td>\n    </tr>\n    <tr>\n      <th>18</th>\n      <td>Louisiana</td>\n      <td>LA</td>\n    </tr>\n    <tr>\n      <th>19</th>\n      <td>Maine</td>\n      <td>ME</td>\n    </tr>\n    <tr>\n      <th>20</th>\n      <td>Montana</td>\n      <td>MT</td>\n    </tr>\n    <tr>\n      <th>21</th>\n      <td>Nebraska</td>\n      <td>NE</td>\n    </tr>\n    <tr>\n      <th>22</th>\n      <td>Nevada</td>\n      <td>NV</td>\n    </tr>\n    <tr>\n      <th>23</th>\n      <td>New Hampshire</td>\n      <td>NH</td>\n    </tr>\n    <tr>\n      <th>24</th>\n      <td>New Jersey</td>\n      <td>NJ</td>\n    </tr>\n    <tr>\n      <th>25</th>\n      <td>New Mexico</td>\n      <td>NM</td>\n    </tr>\n    <tr>\n      <th>26</th>\n      <td>New York</td>\n      <td>NY</td>\n    </tr>\n    <tr>\n      <th>27</th>\n      <td>North Carolina</td>\n      <td>NC</td>\n    </tr>\n    <tr>\n      <th>28</th>\n      <td>North Dakota</td>\n      <td>ND</td>\n    </tr>\n    <tr>\n      <th>29</th>\n      <td>Ohio</td>\n      <td>OH</td>\n    </tr>\n    <tr>\n      <th>30</th>\n      <td>Oklahoma</td>\n      <td>OK</td>\n    </tr>\n    <tr>\n      <th>31</th>\n      <td>Oregon</td>\n      <td>OR</td>\n    </tr>\n    <tr>\n      <th>32</th>\n      <td>Maryland</td>\n      <td>MD</td>\n    </tr>\n    <tr>\n      <th>33</th>\n      <td>Massachusetts</td>\n      <td>MA</td>\n    </tr>\n    <tr>\n      <th>34</th>\n      <td>Michigan</td>\n      <td>MI</td>\n    </tr>\n    <tr>\n      <th>35</th>\n      <td>Minnesota</td>\n      <td>MN</td>\n    </tr>\n    <tr>\n      <th>36</th>\n      <td>Mississippi</td>\n      <td>MS</td>\n    </tr>\n    <tr>\n      <th>37</th>\n      <td>Missouri</td>\n      <td>MO</td>\n    </tr>\n    <tr>\n      <th>38</th>\n      <td>Pennsylvania</td>\n      <td>PA</td>\n    </tr>\n    <tr>\n      <th>39</th>\n      <td>Rhode Island</td>\n      <td>RI</td>\n    </tr>\n    <tr>\n      <th>40</th>\n      <td>South Carolina</td>\n      <td>SC</td>\n    </tr>\n    <tr>\n      <th>41</th>\n      <td>South Dakota</td>\n      <td>SD</td>\n    </tr>\n    <tr>\n      <th>42</th>\n      <td>Tennessee</td>\n      <td>TN</td>\n    </tr>\n    <tr>\n      <th>43</th>\n      <td>Texas</td>\n      <td>TX</td>\n    </tr>\n    <tr>\n      <th>44</th>\n      <td>Utah</td>\n      <td>UT</td>\n    </tr>\n    <tr>\n      <th>45</th>\n      <td>Vermont</td>\n      <td>VT</td>\n    </tr>\n    <tr>\n      <th>46</th>\n      <td>Virginia</td>\n      <td>VA</td>\n    </tr>\n    <tr>\n      <th>47</th>\n      <td>Washington</td>\n      <td>WA</td>\n    </tr>\n    <tr>\n      <th>48</th>\n      <td>West Virginia</td>\n      <td>WV</td>\n    </tr>\n    <tr>\n      <th>49</th>\n      <td>Wisconsin</td>\n      <td>WI</td>\n    </tr>\n    <tr>\n      <th>50</th>\n      <td>Wyoming</td>\n      <td>WY</td>\n    </tr>\n  </tbody>\n</table>\n</div>"
     },
     "execution_count": 56,
     "metadata": {},
     "output_type": "execute_result"
    }
   ],
   "source": [
    "df_abbrevs"
   ],
   "metadata": {
    "collapsed": false,
    "ExecuteTime": {
     "end_time": "2024-07-03T10:19:49.309352Z",
     "start_time": "2024-07-03T10:19:49.300465Z"
    }
   },
   "execution_count": 56
  },
  {
   "cell_type": "code",
   "outputs": [
    {
     "data": {
      "text/plain": "                   state  area (sq. mi)\n0                Alabama          52423\n1                 Alaska         656425\n2                Arizona         114006\n3               Arkansas          53182\n4             California         163707\n5               Colorado         104100\n6            Connecticut           5544\n7               Delaware           1954\n8                Florida          65758\n9                Georgia          59441\n10                Hawaii          10932\n11                 Idaho          83574\n12              Illinois          57918\n13               Indiana          36420\n14                  Iowa          56276\n15                Kansas          82282\n16              Kentucky          40411\n17             Louisiana          51843\n18                 Maine          35387\n19              Maryland          12407\n20         Massachusetts          10555\n21              Michigan          96810\n22             Minnesota          86943\n23           Mississippi          48434\n24              Missouri          69709\n25               Montana         147046\n26              Nebraska          77358\n27                Nevada         110567\n28         New Hampshire           9351\n29            New Jersey           8722\n30            New Mexico         121593\n31              New York          54475\n32        North Carolina          53821\n33          North Dakota          70704\n34                  Ohio          44828\n35              Oklahoma          69903\n36                Oregon          98386\n37          Pennsylvania          46058\n38          Rhode Island           1545\n39        South Carolina          32007\n40          South Dakota          77121\n41             Tennessee          42146\n42                 Texas         268601\n43                  Utah          84904\n44               Vermont           9615\n45              Virginia          42769\n46            Washington          71303\n47         West Virginia          24231\n48             Wisconsin          65503\n49               Wyoming          97818\n50  District of Columbia             68\n51           Puerto Rico           3515",
      "text/html": "<div>\n<style scoped>\n    .dataframe tbody tr th:only-of-type {\n        vertical-align: middle;\n    }\n\n    .dataframe tbody tr th {\n        vertical-align: top;\n    }\n\n    .dataframe thead th {\n        text-align: right;\n    }\n</style>\n<table border=\"1\" class=\"dataframe\">\n  <thead>\n    <tr style=\"text-align: right;\">\n      <th></th>\n      <th>state</th>\n      <th>area (sq. mi)</th>\n    </tr>\n  </thead>\n  <tbody>\n    <tr>\n      <th>0</th>\n      <td>Alabama</td>\n      <td>52423</td>\n    </tr>\n    <tr>\n      <th>1</th>\n      <td>Alaska</td>\n      <td>656425</td>\n    </tr>\n    <tr>\n      <th>2</th>\n      <td>Arizona</td>\n      <td>114006</td>\n    </tr>\n    <tr>\n      <th>3</th>\n      <td>Arkansas</td>\n      <td>53182</td>\n    </tr>\n    <tr>\n      <th>4</th>\n      <td>California</td>\n      <td>163707</td>\n    </tr>\n    <tr>\n      <th>5</th>\n      <td>Colorado</td>\n      <td>104100</td>\n    </tr>\n    <tr>\n      <th>6</th>\n      <td>Connecticut</td>\n      <td>5544</td>\n    </tr>\n    <tr>\n      <th>7</th>\n      <td>Delaware</td>\n      <td>1954</td>\n    </tr>\n    <tr>\n      <th>8</th>\n      <td>Florida</td>\n      <td>65758</td>\n    </tr>\n    <tr>\n      <th>9</th>\n      <td>Georgia</td>\n      <td>59441</td>\n    </tr>\n    <tr>\n      <th>10</th>\n      <td>Hawaii</td>\n      <td>10932</td>\n    </tr>\n    <tr>\n      <th>11</th>\n      <td>Idaho</td>\n      <td>83574</td>\n    </tr>\n    <tr>\n      <th>12</th>\n      <td>Illinois</td>\n      <td>57918</td>\n    </tr>\n    <tr>\n      <th>13</th>\n      <td>Indiana</td>\n      <td>36420</td>\n    </tr>\n    <tr>\n      <th>14</th>\n      <td>Iowa</td>\n      <td>56276</td>\n    </tr>\n    <tr>\n      <th>15</th>\n      <td>Kansas</td>\n      <td>82282</td>\n    </tr>\n    <tr>\n      <th>16</th>\n      <td>Kentucky</td>\n      <td>40411</td>\n    </tr>\n    <tr>\n      <th>17</th>\n      <td>Louisiana</td>\n      <td>51843</td>\n    </tr>\n    <tr>\n      <th>18</th>\n      <td>Maine</td>\n      <td>35387</td>\n    </tr>\n    <tr>\n      <th>19</th>\n      <td>Maryland</td>\n      <td>12407</td>\n    </tr>\n    <tr>\n      <th>20</th>\n      <td>Massachusetts</td>\n      <td>10555</td>\n    </tr>\n    <tr>\n      <th>21</th>\n      <td>Michigan</td>\n      <td>96810</td>\n    </tr>\n    <tr>\n      <th>22</th>\n      <td>Minnesota</td>\n      <td>86943</td>\n    </tr>\n    <tr>\n      <th>23</th>\n      <td>Mississippi</td>\n      <td>48434</td>\n    </tr>\n    <tr>\n      <th>24</th>\n      <td>Missouri</td>\n      <td>69709</td>\n    </tr>\n    <tr>\n      <th>25</th>\n      <td>Montana</td>\n      <td>147046</td>\n    </tr>\n    <tr>\n      <th>26</th>\n      <td>Nebraska</td>\n      <td>77358</td>\n    </tr>\n    <tr>\n      <th>27</th>\n      <td>Nevada</td>\n      <td>110567</td>\n    </tr>\n    <tr>\n      <th>28</th>\n      <td>New Hampshire</td>\n      <td>9351</td>\n    </tr>\n    <tr>\n      <th>29</th>\n      <td>New Jersey</td>\n      <td>8722</td>\n    </tr>\n    <tr>\n      <th>30</th>\n      <td>New Mexico</td>\n      <td>121593</td>\n    </tr>\n    <tr>\n      <th>31</th>\n      <td>New York</td>\n      <td>54475</td>\n    </tr>\n    <tr>\n      <th>32</th>\n      <td>North Carolina</td>\n      <td>53821</td>\n    </tr>\n    <tr>\n      <th>33</th>\n      <td>North Dakota</td>\n      <td>70704</td>\n    </tr>\n    <tr>\n      <th>34</th>\n      <td>Ohio</td>\n      <td>44828</td>\n    </tr>\n    <tr>\n      <th>35</th>\n      <td>Oklahoma</td>\n      <td>69903</td>\n    </tr>\n    <tr>\n      <th>36</th>\n      <td>Oregon</td>\n      <td>98386</td>\n    </tr>\n    <tr>\n      <th>37</th>\n      <td>Pennsylvania</td>\n      <td>46058</td>\n    </tr>\n    <tr>\n      <th>38</th>\n      <td>Rhode Island</td>\n      <td>1545</td>\n    </tr>\n    <tr>\n      <th>39</th>\n      <td>South Carolina</td>\n      <td>32007</td>\n    </tr>\n    <tr>\n      <th>40</th>\n      <td>South Dakota</td>\n      <td>77121</td>\n    </tr>\n    <tr>\n      <th>41</th>\n      <td>Tennessee</td>\n      <td>42146</td>\n    </tr>\n    <tr>\n      <th>42</th>\n      <td>Texas</td>\n      <td>268601</td>\n    </tr>\n    <tr>\n      <th>43</th>\n      <td>Utah</td>\n      <td>84904</td>\n    </tr>\n    <tr>\n      <th>44</th>\n      <td>Vermont</td>\n      <td>9615</td>\n    </tr>\n    <tr>\n      <th>45</th>\n      <td>Virginia</td>\n      <td>42769</td>\n    </tr>\n    <tr>\n      <th>46</th>\n      <td>Washington</td>\n      <td>71303</td>\n    </tr>\n    <tr>\n      <th>47</th>\n      <td>West Virginia</td>\n      <td>24231</td>\n    </tr>\n    <tr>\n      <th>48</th>\n      <td>Wisconsin</td>\n      <td>65503</td>\n    </tr>\n    <tr>\n      <th>49</th>\n      <td>Wyoming</td>\n      <td>97818</td>\n    </tr>\n    <tr>\n      <th>50</th>\n      <td>District of Columbia</td>\n      <td>68</td>\n    </tr>\n    <tr>\n      <th>51</th>\n      <td>Puerto Rico</td>\n      <td>3515</td>\n    </tr>\n  </tbody>\n</table>\n</div>"
     },
     "execution_count": 57,
     "metadata": {},
     "output_type": "execute_result"
    }
   ],
   "source": [
    "df_areas"
   ],
   "metadata": {
    "collapsed": false,
    "ExecuteTime": {
     "end_time": "2024-07-03T10:19:58.718414Z",
     "start_time": "2024-07-03T10:19:58.707313Z"
    }
   },
   "execution_count": 57
  },
  {
   "cell_type": "code",
   "outputs": [
    {
     "data": {
      "text/plain": "     state/region     ages  year   population\n0              AL  under18  2012    1117489.0\n1              AL    total  2012    4817528.0\n2              AL  under18  2010    1130966.0\n3              AL    total  2010    4785570.0\n4              AL  under18  2011    1125763.0\n...           ...      ...   ...          ...\n2539          USA    total  2010  309326295.0\n2540          USA  under18  2011   73902222.0\n2541          USA    total  2011  311582564.0\n2542          USA  under18  2012   73708179.0\n2543          USA    total  2012  313873685.0\n\n[2544 rows x 4 columns]",
      "text/html": "<div>\n<style scoped>\n    .dataframe tbody tr th:only-of-type {\n        vertical-align: middle;\n    }\n\n    .dataframe tbody tr th {\n        vertical-align: top;\n    }\n\n    .dataframe thead th {\n        text-align: right;\n    }\n</style>\n<table border=\"1\" class=\"dataframe\">\n  <thead>\n    <tr style=\"text-align: right;\">\n      <th></th>\n      <th>state/region</th>\n      <th>ages</th>\n      <th>year</th>\n      <th>population</th>\n    </tr>\n  </thead>\n  <tbody>\n    <tr>\n      <th>0</th>\n      <td>AL</td>\n      <td>under18</td>\n      <td>2012</td>\n      <td>1117489.0</td>\n    </tr>\n    <tr>\n      <th>1</th>\n      <td>AL</td>\n      <td>total</td>\n      <td>2012</td>\n      <td>4817528.0</td>\n    </tr>\n    <tr>\n      <th>2</th>\n      <td>AL</td>\n      <td>under18</td>\n      <td>2010</td>\n      <td>1130966.0</td>\n    </tr>\n    <tr>\n      <th>3</th>\n      <td>AL</td>\n      <td>total</td>\n      <td>2010</td>\n      <td>4785570.0</td>\n    </tr>\n    <tr>\n      <th>4</th>\n      <td>AL</td>\n      <td>under18</td>\n      <td>2011</td>\n      <td>1125763.0</td>\n    </tr>\n    <tr>\n      <th>...</th>\n      <td>...</td>\n      <td>...</td>\n      <td>...</td>\n      <td>...</td>\n    </tr>\n    <tr>\n      <th>2539</th>\n      <td>USA</td>\n      <td>total</td>\n      <td>2010</td>\n      <td>309326295.0</td>\n    </tr>\n    <tr>\n      <th>2540</th>\n      <td>USA</td>\n      <td>under18</td>\n      <td>2011</td>\n      <td>73902222.0</td>\n    </tr>\n    <tr>\n      <th>2541</th>\n      <td>USA</td>\n      <td>total</td>\n      <td>2011</td>\n      <td>311582564.0</td>\n    </tr>\n    <tr>\n      <th>2542</th>\n      <td>USA</td>\n      <td>under18</td>\n      <td>2012</td>\n      <td>73708179.0</td>\n    </tr>\n    <tr>\n      <th>2543</th>\n      <td>USA</td>\n      <td>total</td>\n      <td>2012</td>\n      <td>313873685.0</td>\n    </tr>\n  </tbody>\n</table>\n<p>2544 rows × 4 columns</p>\n</div>"
     },
     "execution_count": 76,
     "metadata": {},
     "output_type": "execute_result"
    }
   ],
   "source": [
    "df_population"
   ],
   "metadata": {
    "collapsed": false,
    "ExecuteTime": {
     "end_time": "2024-07-03T10:48:18.789571Z",
     "start_time": "2024-07-03T10:48:18.778720Z"
    }
   },
   "execution_count": 76
  },
  {
   "attachments": {},
   "cell_type": "markdown",
   "metadata": {},
   "source": [
    "## 課題3\n",
    "\n",
    "```state/region```、```ages```と```years```でデータフレームをグループして、各グループで$\\frac{population}{area (sq. mi)}$の形で人口密度を計算してください。"
   ]
  },
  {
   "cell_type": "code",
   "execution_count": 77,
   "metadata": {
    "ExecuteTime": {
     "end_time": "2024-07-03T10:48:22.191784Z",
     "start_time": "2024-07-03T10:48:22.178879Z"
    }
   },
   "outputs": [
    {
     "data": {
      "text/plain": "                   state abbreviation  area (sq. mi)\n0                Alabama           AL          52423\n1                 Alaska           AK         656425\n2                Arizona           AZ         114006\n3               Arkansas           AR          53182\n4             California           CA         163707\n5               Colorado           CO         104100\n6            Connecticut           CT           5544\n7               Delaware           DE           1954\n8   District of Columbia           DC             68\n9                Florida           FL          65758\n10               Georgia           GA          59441\n11                Hawaii           HI          10932\n12                 Idaho           ID          83574\n13              Illinois           IL          57918\n14               Indiana           IN          36420\n15                  Iowa           IA          56276\n16                Kansas           KS          82282\n17              Kentucky           KY          40411\n18             Louisiana           LA          51843\n19                 Maine           ME          35387\n20               Montana           MT         147046\n21              Nebraska           NE          77358\n22                Nevada           NV         110567\n23         New Hampshire           NH           9351\n24            New Jersey           NJ           8722\n25            New Mexico           NM         121593\n26              New York           NY          54475\n27        North Carolina           NC          53821\n28          North Dakota           ND          70704\n29                  Ohio           OH          44828\n30              Oklahoma           OK          69903\n31                Oregon           OR          98386\n32              Maryland           MD          12407\n33         Massachusetts           MA          10555\n34              Michigan           MI          96810\n35             Minnesota           MN          86943\n36           Mississippi           MS          48434\n37              Missouri           MO          69709\n38          Pennsylvania           PA          46058\n39          Rhode Island           RI           1545\n40        South Carolina           SC          32007\n41          South Dakota           SD          77121\n42             Tennessee           TN          42146\n43                 Texas           TX         268601\n44                  Utah           UT          84904\n45               Vermont           VT           9615\n46              Virginia           VA          42769\n47            Washington           WA          71303\n48         West Virginia           WV          24231\n49             Wisconsin           WI          65503\n50               Wyoming           WY          97818",
      "text/html": "<div>\n<style scoped>\n    .dataframe tbody tr th:only-of-type {\n        vertical-align: middle;\n    }\n\n    .dataframe tbody tr th {\n        vertical-align: top;\n    }\n\n    .dataframe thead th {\n        text-align: right;\n    }\n</style>\n<table border=\"1\" class=\"dataframe\">\n  <thead>\n    <tr style=\"text-align: right;\">\n      <th></th>\n      <th>state</th>\n      <th>abbreviation</th>\n      <th>area (sq. mi)</th>\n    </tr>\n  </thead>\n  <tbody>\n    <tr>\n      <th>0</th>\n      <td>Alabama</td>\n      <td>AL</td>\n      <td>52423</td>\n    </tr>\n    <tr>\n      <th>1</th>\n      <td>Alaska</td>\n      <td>AK</td>\n      <td>656425</td>\n    </tr>\n    <tr>\n      <th>2</th>\n      <td>Arizona</td>\n      <td>AZ</td>\n      <td>114006</td>\n    </tr>\n    <tr>\n      <th>3</th>\n      <td>Arkansas</td>\n      <td>AR</td>\n      <td>53182</td>\n    </tr>\n    <tr>\n      <th>4</th>\n      <td>California</td>\n      <td>CA</td>\n      <td>163707</td>\n    </tr>\n    <tr>\n      <th>5</th>\n      <td>Colorado</td>\n      <td>CO</td>\n      <td>104100</td>\n    </tr>\n    <tr>\n      <th>6</th>\n      <td>Connecticut</td>\n      <td>CT</td>\n      <td>5544</td>\n    </tr>\n    <tr>\n      <th>7</th>\n      <td>Delaware</td>\n      <td>DE</td>\n      <td>1954</td>\n    </tr>\n    <tr>\n      <th>8</th>\n      <td>District of Columbia</td>\n      <td>DC</td>\n      <td>68</td>\n    </tr>\n    <tr>\n      <th>9</th>\n      <td>Florida</td>\n      <td>FL</td>\n      <td>65758</td>\n    </tr>\n    <tr>\n      <th>10</th>\n      <td>Georgia</td>\n      <td>GA</td>\n      <td>59441</td>\n    </tr>\n    <tr>\n      <th>11</th>\n      <td>Hawaii</td>\n      <td>HI</td>\n      <td>10932</td>\n    </tr>\n    <tr>\n      <th>12</th>\n      <td>Idaho</td>\n      <td>ID</td>\n      <td>83574</td>\n    </tr>\n    <tr>\n      <th>13</th>\n      <td>Illinois</td>\n      <td>IL</td>\n      <td>57918</td>\n    </tr>\n    <tr>\n      <th>14</th>\n      <td>Indiana</td>\n      <td>IN</td>\n      <td>36420</td>\n    </tr>\n    <tr>\n      <th>15</th>\n      <td>Iowa</td>\n      <td>IA</td>\n      <td>56276</td>\n    </tr>\n    <tr>\n      <th>16</th>\n      <td>Kansas</td>\n      <td>KS</td>\n      <td>82282</td>\n    </tr>\n    <tr>\n      <th>17</th>\n      <td>Kentucky</td>\n      <td>KY</td>\n      <td>40411</td>\n    </tr>\n    <tr>\n      <th>18</th>\n      <td>Louisiana</td>\n      <td>LA</td>\n      <td>51843</td>\n    </tr>\n    <tr>\n      <th>19</th>\n      <td>Maine</td>\n      <td>ME</td>\n      <td>35387</td>\n    </tr>\n    <tr>\n      <th>20</th>\n      <td>Montana</td>\n      <td>MT</td>\n      <td>147046</td>\n    </tr>\n    <tr>\n      <th>21</th>\n      <td>Nebraska</td>\n      <td>NE</td>\n      <td>77358</td>\n    </tr>\n    <tr>\n      <th>22</th>\n      <td>Nevada</td>\n      <td>NV</td>\n      <td>110567</td>\n    </tr>\n    <tr>\n      <th>23</th>\n      <td>New Hampshire</td>\n      <td>NH</td>\n      <td>9351</td>\n    </tr>\n    <tr>\n      <th>24</th>\n      <td>New Jersey</td>\n      <td>NJ</td>\n      <td>8722</td>\n    </tr>\n    <tr>\n      <th>25</th>\n      <td>New Mexico</td>\n      <td>NM</td>\n      <td>121593</td>\n    </tr>\n    <tr>\n      <th>26</th>\n      <td>New York</td>\n      <td>NY</td>\n      <td>54475</td>\n    </tr>\n    <tr>\n      <th>27</th>\n      <td>North Carolina</td>\n      <td>NC</td>\n      <td>53821</td>\n    </tr>\n    <tr>\n      <th>28</th>\n      <td>North Dakota</td>\n      <td>ND</td>\n      <td>70704</td>\n    </tr>\n    <tr>\n      <th>29</th>\n      <td>Ohio</td>\n      <td>OH</td>\n      <td>44828</td>\n    </tr>\n    <tr>\n      <th>30</th>\n      <td>Oklahoma</td>\n      <td>OK</td>\n      <td>69903</td>\n    </tr>\n    <tr>\n      <th>31</th>\n      <td>Oregon</td>\n      <td>OR</td>\n      <td>98386</td>\n    </tr>\n    <tr>\n      <th>32</th>\n      <td>Maryland</td>\n      <td>MD</td>\n      <td>12407</td>\n    </tr>\n    <tr>\n      <th>33</th>\n      <td>Massachusetts</td>\n      <td>MA</td>\n      <td>10555</td>\n    </tr>\n    <tr>\n      <th>34</th>\n      <td>Michigan</td>\n      <td>MI</td>\n      <td>96810</td>\n    </tr>\n    <tr>\n      <th>35</th>\n      <td>Minnesota</td>\n      <td>MN</td>\n      <td>86943</td>\n    </tr>\n    <tr>\n      <th>36</th>\n      <td>Mississippi</td>\n      <td>MS</td>\n      <td>48434</td>\n    </tr>\n    <tr>\n      <th>37</th>\n      <td>Missouri</td>\n      <td>MO</td>\n      <td>69709</td>\n    </tr>\n    <tr>\n      <th>38</th>\n      <td>Pennsylvania</td>\n      <td>PA</td>\n      <td>46058</td>\n    </tr>\n    <tr>\n      <th>39</th>\n      <td>Rhode Island</td>\n      <td>RI</td>\n      <td>1545</td>\n    </tr>\n    <tr>\n      <th>40</th>\n      <td>South Carolina</td>\n      <td>SC</td>\n      <td>32007</td>\n    </tr>\n    <tr>\n      <th>41</th>\n      <td>South Dakota</td>\n      <td>SD</td>\n      <td>77121</td>\n    </tr>\n    <tr>\n      <th>42</th>\n      <td>Tennessee</td>\n      <td>TN</td>\n      <td>42146</td>\n    </tr>\n    <tr>\n      <th>43</th>\n      <td>Texas</td>\n      <td>TX</td>\n      <td>268601</td>\n    </tr>\n    <tr>\n      <th>44</th>\n      <td>Utah</td>\n      <td>UT</td>\n      <td>84904</td>\n    </tr>\n    <tr>\n      <th>45</th>\n      <td>Vermont</td>\n      <td>VT</td>\n      <td>9615</td>\n    </tr>\n    <tr>\n      <th>46</th>\n      <td>Virginia</td>\n      <td>VA</td>\n      <td>42769</td>\n    </tr>\n    <tr>\n      <th>47</th>\n      <td>Washington</td>\n      <td>WA</td>\n      <td>71303</td>\n    </tr>\n    <tr>\n      <th>48</th>\n      <td>West Virginia</td>\n      <td>WV</td>\n      <td>24231</td>\n    </tr>\n    <tr>\n      <th>49</th>\n      <td>Wisconsin</td>\n      <td>WI</td>\n      <td>65503</td>\n    </tr>\n    <tr>\n      <th>50</th>\n      <td>Wyoming</td>\n      <td>WY</td>\n      <td>97818</td>\n    </tr>\n  </tbody>\n</table>\n</div>"
     },
     "metadata": {},
     "output_type": "display_data"
    }
   ],
   "source": [
    "#state, abbreviation, areaでデータフレームの結合\n",
    "#Puerto Ricoはアメリカの週ではないので、欠落させる\n",
    "constant = pd.merge(df_abbrevs, df_areas, on='state', how='inner')\n",
    "display(constant)"
   ]
  },
  {
   "cell_type": "code",
   "outputs": [
    {
     "data": {
      "text/plain": "     abbreviation     ages  year  population    state  area (sq. mi)\n0              AK    total  1990    553290.0   Alaska         656425\n1              AK  under18  1990    177502.0   Alaska         656425\n2              AK    total  1991    570193.0   Alaska         656425\n3              AK  under18  1991    182180.0   Alaska         656425\n4              AK    total  1992    588736.0   Alaska         656425\n...           ...      ...   ...         ...      ...            ...\n2443           WY  under18  2011    135407.0  Wyoming          97818\n2444           WY    total  2012    576626.0  Wyoming          97818\n2445           WY  under18  2012    136526.0  Wyoming          97818\n2446           WY    total  2013    582658.0  Wyoming          97818\n2447           WY  under18  2013    137679.0  Wyoming          97818\n\n[2448 rows x 6 columns]",
      "text/html": "<div>\n<style scoped>\n    .dataframe tbody tr th:only-of-type {\n        vertical-align: middle;\n    }\n\n    .dataframe tbody tr th {\n        vertical-align: top;\n    }\n\n    .dataframe thead th {\n        text-align: right;\n    }\n</style>\n<table border=\"1\" class=\"dataframe\">\n  <thead>\n    <tr style=\"text-align: right;\">\n      <th></th>\n      <th>abbreviation</th>\n      <th>ages</th>\n      <th>year</th>\n      <th>population</th>\n      <th>state</th>\n      <th>area (sq. mi)</th>\n    </tr>\n  </thead>\n  <tbody>\n    <tr>\n      <th>0</th>\n      <td>AK</td>\n      <td>total</td>\n      <td>1990</td>\n      <td>553290.0</td>\n      <td>Alaska</td>\n      <td>656425</td>\n    </tr>\n    <tr>\n      <th>1</th>\n      <td>AK</td>\n      <td>under18</td>\n      <td>1990</td>\n      <td>177502.0</td>\n      <td>Alaska</td>\n      <td>656425</td>\n    </tr>\n    <tr>\n      <th>2</th>\n      <td>AK</td>\n      <td>total</td>\n      <td>1991</td>\n      <td>570193.0</td>\n      <td>Alaska</td>\n      <td>656425</td>\n    </tr>\n    <tr>\n      <th>3</th>\n      <td>AK</td>\n      <td>under18</td>\n      <td>1991</td>\n      <td>182180.0</td>\n      <td>Alaska</td>\n      <td>656425</td>\n    </tr>\n    <tr>\n      <th>4</th>\n      <td>AK</td>\n      <td>total</td>\n      <td>1992</td>\n      <td>588736.0</td>\n      <td>Alaska</td>\n      <td>656425</td>\n    </tr>\n    <tr>\n      <th>...</th>\n      <td>...</td>\n      <td>...</td>\n      <td>...</td>\n      <td>...</td>\n      <td>...</td>\n      <td>...</td>\n    </tr>\n    <tr>\n      <th>2443</th>\n      <td>WY</td>\n      <td>under18</td>\n      <td>2011</td>\n      <td>135407.0</td>\n      <td>Wyoming</td>\n      <td>97818</td>\n    </tr>\n    <tr>\n      <th>2444</th>\n      <td>WY</td>\n      <td>total</td>\n      <td>2012</td>\n      <td>576626.0</td>\n      <td>Wyoming</td>\n      <td>97818</td>\n    </tr>\n    <tr>\n      <th>2445</th>\n      <td>WY</td>\n      <td>under18</td>\n      <td>2012</td>\n      <td>136526.0</td>\n      <td>Wyoming</td>\n      <td>97818</td>\n    </tr>\n    <tr>\n      <th>2446</th>\n      <td>WY</td>\n      <td>total</td>\n      <td>2013</td>\n      <td>582658.0</td>\n      <td>Wyoming</td>\n      <td>97818</td>\n    </tr>\n    <tr>\n      <th>2447</th>\n      <td>WY</td>\n      <td>under18</td>\n      <td>2013</td>\n      <td>137679.0</td>\n      <td>Wyoming</td>\n      <td>97818</td>\n    </tr>\n  </tbody>\n</table>\n<p>2448 rows × 6 columns</p>\n</div>"
     },
     "execution_count": 80,
     "metadata": {},
     "output_type": "execute_result"
    }
   ],
   "source": [
    "#人口データのクレンジング\n",
    "# state/region, year, agesの3つのカラムをソート\n",
    "temp = df_population.sort_values(by=[\"state/region\",\"year\",\"ages\"], ascending=True)\n",
    "#カラム名state/regionをabbreviationに変更\n",
    "temp = temp.rename(columns={\"state/region\":\"abbreviation\"})\n",
    "temp = pd.merge(temp, constant, on='abbreviation', how='inner')\n",
    "temp"
   ],
   "metadata": {
    "collapsed": false,
    "ExecuteTime": {
     "end_time": "2024-07-03T10:53:42.999923Z",
     "start_time": "2024-07-03T10:53:42.977861Z"
    }
   },
   "execution_count": 80
  },
  {
   "cell_type": "code",
   "outputs": [
    {
     "data": {
      "text/plain": "        state     ages  year  population density\n0      Alaska    total  1990            0.842884\n1      Alaska  under18  1990            0.270407\n2      Alaska    total  1991            0.868634\n3      Alaska  under18  1991            0.277534\n4      Alaska    total  1992            0.896882\n...       ...      ...   ...                 ...\n2443  Wyoming  under18  2011            1.384275\n2444  Wyoming    total  2012            5.894886\n2445  Wyoming  under18  2012            1.395714\n2446  Wyoming    total  2013            5.956552\n2447  Wyoming  under18  2013            1.407502\n\n[2448 rows x 4 columns]",
      "text/html": "<div>\n<style scoped>\n    .dataframe tbody tr th:only-of-type {\n        vertical-align: middle;\n    }\n\n    .dataframe tbody tr th {\n        vertical-align: top;\n    }\n\n    .dataframe thead th {\n        text-align: right;\n    }\n</style>\n<table border=\"1\" class=\"dataframe\">\n  <thead>\n    <tr style=\"text-align: right;\">\n      <th></th>\n      <th>state</th>\n      <th>ages</th>\n      <th>year</th>\n      <th>population density</th>\n    </tr>\n  </thead>\n  <tbody>\n    <tr>\n      <th>0</th>\n      <td>Alaska</td>\n      <td>total</td>\n      <td>1990</td>\n      <td>0.842884</td>\n    </tr>\n    <tr>\n      <th>1</th>\n      <td>Alaska</td>\n      <td>under18</td>\n      <td>1990</td>\n      <td>0.270407</td>\n    </tr>\n    <tr>\n      <th>2</th>\n      <td>Alaska</td>\n      <td>total</td>\n      <td>1991</td>\n      <td>0.868634</td>\n    </tr>\n    <tr>\n      <th>3</th>\n      <td>Alaska</td>\n      <td>under18</td>\n      <td>1991</td>\n      <td>0.277534</td>\n    </tr>\n    <tr>\n      <th>4</th>\n      <td>Alaska</td>\n      <td>total</td>\n      <td>1992</td>\n      <td>0.896882</td>\n    </tr>\n    <tr>\n      <th>...</th>\n      <td>...</td>\n      <td>...</td>\n      <td>...</td>\n      <td>...</td>\n    </tr>\n    <tr>\n      <th>2443</th>\n      <td>Wyoming</td>\n      <td>under18</td>\n      <td>2011</td>\n      <td>1.384275</td>\n    </tr>\n    <tr>\n      <th>2444</th>\n      <td>Wyoming</td>\n      <td>total</td>\n      <td>2012</td>\n      <td>5.894886</td>\n    </tr>\n    <tr>\n      <th>2445</th>\n      <td>Wyoming</td>\n      <td>under18</td>\n      <td>2012</td>\n      <td>1.395714</td>\n    </tr>\n    <tr>\n      <th>2446</th>\n      <td>Wyoming</td>\n      <td>total</td>\n      <td>2013</td>\n      <td>5.956552</td>\n    </tr>\n    <tr>\n      <th>2447</th>\n      <td>Wyoming</td>\n      <td>under18</td>\n      <td>2013</td>\n      <td>1.407502</td>\n    </tr>\n  </tbody>\n</table>\n<p>2448 rows × 4 columns</p>\n</div>"
     },
     "execution_count": 85,
     "metadata": {},
     "output_type": "execute_result"
    }
   ],
   "source": [
    "#人口密度を求める\n",
    "temp[\"population density\"] = temp[\"population\"]/temp[\"area (sq. mi)\"]\n",
    "result = temp[[\"state\", \"ages\", \"year\", \"population density\"]] \n",
    "result"
   ],
   "metadata": {
    "collapsed": false,
    "ExecuteTime": {
     "end_time": "2024-07-03T11:01:42.576905Z",
     "start_time": "2024-07-03T11:01:42.563357Z"
    }
   },
   "execution_count": 85
  },
  {
   "cell_type": "markdown",
   "source": [
    "# 以下、授業内課題"
   ],
   "metadata": {
    "collapsed": false
   }
  },
  {
   "cell_type": "markdown",
   "source": [
    "年齢が30-50歳の男性のデータを取り出し、Name, Age, Sexを示してください。"
   ],
   "metadata": {
    "collapsed": false
   }
  },
  {
   "cell_type": "code",
   "outputs": [],
   "source": [
    "import pandas as pd\n",
    "import numpy as np"
   ],
   "metadata": {
    "collapsed": false,
    "ExecuteTime": {
     "end_time": "2024-07-03T04:41:10.898962Z",
     "start_time": "2024-07-03T04:41:05.460892Z"
    }
   },
   "execution_count": 1
  },
  {
   "cell_type": "code",
   "outputs": [],
   "source": [
    "df=pd.read_csv(\"https://raw.githubusercontent.com/lvzeyu/css_tohoku/master/css_tohoku/draft/Data/titanic.csv\")"
   ],
   "metadata": {
    "collapsed": false,
    "ExecuteTime": {
     "end_time": "2024-07-03T04:41:16.556290Z",
     "start_time": "2024-07-03T04:41:16.097450Z"
    }
   },
   "execution_count": 2
  },
  {
   "cell_type": "code",
   "outputs": [
    {
     "data": {
      "text/plain": "                                                 name   age     sex\n3                Allison, Mr. Hudson Joshua Creighton  30.0    male\n5                                 Anderson, Mr. Harry  48.0    male\n7                              Andrews, Mr. Thomas Jr  39.0    male\n10                             Astor, Col. John Jacob  47.0    male\n17    Baxter, Mrs. James (Helene DeLaudeniere Chaput)  50.0  female\n...                                               ...   ...     ...\n1285                              Wenzel, Mr. Linhart  32.5    male\n1286  Whabee, Mrs. George Joseph (Shawneene Abi-Saab)  38.0  female\n1290                 Wilkes, Mrs. James (Ellen Needs)  47.0  female\n1298                        Wittevrongel, Mr. Camille  36.0    male\n1301                             Youseff, Mr. Gerious  45.5    male\n\n[382 rows x 3 columns]",
      "text/html": "<div>\n<style scoped>\n    .dataframe tbody tr th:only-of-type {\n        vertical-align: middle;\n    }\n\n    .dataframe tbody tr th {\n        vertical-align: top;\n    }\n\n    .dataframe thead th {\n        text-align: right;\n    }\n</style>\n<table border=\"1\" class=\"dataframe\">\n  <thead>\n    <tr style=\"text-align: right;\">\n      <th></th>\n      <th>name</th>\n      <th>age</th>\n      <th>sex</th>\n    </tr>\n  </thead>\n  <tbody>\n    <tr>\n      <th>3</th>\n      <td>Allison, Mr. Hudson Joshua Creighton</td>\n      <td>30.0</td>\n      <td>male</td>\n    </tr>\n    <tr>\n      <th>5</th>\n      <td>Anderson, Mr. Harry</td>\n      <td>48.0</td>\n      <td>male</td>\n    </tr>\n    <tr>\n      <th>7</th>\n      <td>Andrews, Mr. Thomas Jr</td>\n      <td>39.0</td>\n      <td>male</td>\n    </tr>\n    <tr>\n      <th>10</th>\n      <td>Astor, Col. John Jacob</td>\n      <td>47.0</td>\n      <td>male</td>\n    </tr>\n    <tr>\n      <th>17</th>\n      <td>Baxter, Mrs. James (Helene DeLaudeniere Chaput)</td>\n      <td>50.0</td>\n      <td>female</td>\n    </tr>\n    <tr>\n      <th>...</th>\n      <td>...</td>\n      <td>...</td>\n      <td>...</td>\n    </tr>\n    <tr>\n      <th>1285</th>\n      <td>Wenzel, Mr. Linhart</td>\n      <td>32.5</td>\n      <td>male</td>\n    </tr>\n    <tr>\n      <th>1286</th>\n      <td>Whabee, Mrs. George Joseph (Shawneene Abi-Saab)</td>\n      <td>38.0</td>\n      <td>female</td>\n    </tr>\n    <tr>\n      <th>1290</th>\n      <td>Wilkes, Mrs. James (Ellen Needs)</td>\n      <td>47.0</td>\n      <td>female</td>\n    </tr>\n    <tr>\n      <th>1298</th>\n      <td>Wittevrongel, Mr. Camille</td>\n      <td>36.0</td>\n      <td>male</td>\n    </tr>\n    <tr>\n      <th>1301</th>\n      <td>Youseff, Mr. Gerious</td>\n      <td>45.5</td>\n      <td>male</td>\n    </tr>\n  </tbody>\n</table>\n<p>382 rows × 3 columns</p>\n</div>"
     },
     "execution_count": 18,
     "metadata": {},
     "output_type": "execute_result"
    }
   ],
   "source": [
    "df.loc[(df[\"age\"]>29)&(df[\"age\"]<51),[\"name\",\"age\",\"sex\"]]"
   ],
   "metadata": {
    "collapsed": false,
    "ExecuteTime": {
     "end_time": "2024-07-03T04:46:57.684658Z",
     "start_time": "2024-07-03T04:46:57.675868Z"
    }
   },
   "execution_count": 18
  },
  {
   "cell_type": "markdown",
   "source": [
    "## 実習問題1\n",
    "ラムダ関数を適用することで男性ダミー変数を作成しよう。"
   ],
   "metadata": {
    "collapsed": false
   }
  },
  {
   "cell_type": "code",
   "outputs": [],
   "source": [],
   "metadata": {
    "collapsed": false
   }
  },
  {
   "cell_type": "markdown",
   "source": [
    "## 実習問題2\n",
    "Cabin変数によって、頭文字で新しいカテゴリ変数を作成しよう。例えば、C105の場合はCに変更します。"
   ],
   "metadata": {
    "collapsed": false
   }
  },
  {
   "cell_type": "code",
   "outputs": [],
   "source": [
    "def first_character(text):\n",
    "    text =str(text)\n",
    "    if text and text != \"nan\":\n",
    "        return text[0]\n",
    "    else:\n",
    "        return None"
   ],
   "metadata": {
    "collapsed": false,
    "ExecuteTime": {
     "end_time": "2024-07-03T05:28:27.397456Z",
     "start_time": "2024-07-03T05:28:27.394196Z"
    }
   },
   "execution_count": 44
  },
  {
   "cell_type": "code",
   "outputs": [
    {
     "data": {
      "text/plain": "      pclass                                             name     sex  \\\n0        1.0                    Allen, Miss. Elisabeth Walton  female   \n1        1.0                   Allison, Master. Hudson Trevor    male   \n2        1.0                     Allison, Miss. Helen Loraine  female   \n3        1.0             Allison, Mr. Hudson Joshua Creighton    male   \n4        1.0  Allison, Mrs. Hudson J C (Bessie Waldo Daniels)  female   \n...      ...                                              ...     ...   \n1304     3.0                             Zabour, Miss. Hileni  female   \n1305     3.0                            Zabour, Miss. Thamine  female   \n1306     3.0                        Zakarian, Mr. Mapriededer    male   \n1307     3.0                              Zakarian, Mr. Ortin    male   \n1308     3.0                               Zimmerman, Mr. Leo    male   \n\n          age  sibsp  parch  ticket      fare    cabin embarked boat   body  \\\n0     29.0000    0.0    0.0   24160  211.3375       B5        S    2    NaN   \n1      0.9167    1.0    2.0  113781  151.5500  C22 C26        S   11    NaN   \n2      2.0000    1.0    2.0  113781  151.5500  C22 C26        S  NaN    NaN   \n3     30.0000    1.0    2.0  113781  151.5500  C22 C26        S  NaN  135.0   \n4     25.0000    1.0    2.0  113781  151.5500  C22 C26        S  NaN    NaN   \n...       ...    ...    ...     ...       ...      ...      ...  ...    ...   \n1304  14.5000    1.0    0.0    2665   14.4542      NaN        C  NaN  328.0   \n1305      NaN    1.0    0.0    2665   14.4542      NaN        C  NaN    NaN   \n1306  26.5000    0.0    0.0    2656    7.2250      NaN        C  NaN  304.0   \n1307  27.0000    0.0    0.0    2670    7.2250      NaN        C  NaN    NaN   \n1308  29.0000    0.0    0.0  315082    7.8750      NaN        S  NaN    NaN   \n\n                            home.dest  survived Cabin Letter  \n0                        St Louis, MO         1            B  \n1     Montreal, PQ / Chesterville, ON         1            C  \n2     Montreal, PQ / Chesterville, ON         0            C  \n3     Montreal, PQ / Chesterville, ON         0            C  \n4     Montreal, PQ / Chesterville, ON         0            C  \n...                               ...       ...          ...  \n1304                              NaN         0         None  \n1305                              NaN         0         None  \n1306                              NaN         0         None  \n1307                              NaN         0         None  \n1308                              NaN         0         None  \n\n[1309 rows x 15 columns]",
      "text/html": "<div>\n<style scoped>\n    .dataframe tbody tr th:only-of-type {\n        vertical-align: middle;\n    }\n\n    .dataframe tbody tr th {\n        vertical-align: top;\n    }\n\n    .dataframe thead th {\n        text-align: right;\n    }\n</style>\n<table border=\"1\" class=\"dataframe\">\n  <thead>\n    <tr style=\"text-align: right;\">\n      <th></th>\n      <th>pclass</th>\n      <th>name</th>\n      <th>sex</th>\n      <th>age</th>\n      <th>sibsp</th>\n      <th>parch</th>\n      <th>ticket</th>\n      <th>fare</th>\n      <th>cabin</th>\n      <th>embarked</th>\n      <th>boat</th>\n      <th>body</th>\n      <th>home.dest</th>\n      <th>survived</th>\n      <th>Cabin Letter</th>\n    </tr>\n  </thead>\n  <tbody>\n    <tr>\n      <th>0</th>\n      <td>1.0</td>\n      <td>Allen, Miss. Elisabeth Walton</td>\n      <td>female</td>\n      <td>29.0000</td>\n      <td>0.0</td>\n      <td>0.0</td>\n      <td>24160</td>\n      <td>211.3375</td>\n      <td>B5</td>\n      <td>S</td>\n      <td>2</td>\n      <td>NaN</td>\n      <td>St Louis, MO</td>\n      <td>1</td>\n      <td>B</td>\n    </tr>\n    <tr>\n      <th>1</th>\n      <td>1.0</td>\n      <td>Allison, Master. Hudson Trevor</td>\n      <td>male</td>\n      <td>0.9167</td>\n      <td>1.0</td>\n      <td>2.0</td>\n      <td>113781</td>\n      <td>151.5500</td>\n      <td>C22 C26</td>\n      <td>S</td>\n      <td>11</td>\n      <td>NaN</td>\n      <td>Montreal, PQ / Chesterville, ON</td>\n      <td>1</td>\n      <td>C</td>\n    </tr>\n    <tr>\n      <th>2</th>\n      <td>1.0</td>\n      <td>Allison, Miss. Helen Loraine</td>\n      <td>female</td>\n      <td>2.0000</td>\n      <td>1.0</td>\n      <td>2.0</td>\n      <td>113781</td>\n      <td>151.5500</td>\n      <td>C22 C26</td>\n      <td>S</td>\n      <td>NaN</td>\n      <td>NaN</td>\n      <td>Montreal, PQ / Chesterville, ON</td>\n      <td>0</td>\n      <td>C</td>\n    </tr>\n    <tr>\n      <th>3</th>\n      <td>1.0</td>\n      <td>Allison, Mr. Hudson Joshua Creighton</td>\n      <td>male</td>\n      <td>30.0000</td>\n      <td>1.0</td>\n      <td>2.0</td>\n      <td>113781</td>\n      <td>151.5500</td>\n      <td>C22 C26</td>\n      <td>S</td>\n      <td>NaN</td>\n      <td>135.0</td>\n      <td>Montreal, PQ / Chesterville, ON</td>\n      <td>0</td>\n      <td>C</td>\n    </tr>\n    <tr>\n      <th>4</th>\n      <td>1.0</td>\n      <td>Allison, Mrs. Hudson J C (Bessie Waldo Daniels)</td>\n      <td>female</td>\n      <td>25.0000</td>\n      <td>1.0</td>\n      <td>2.0</td>\n      <td>113781</td>\n      <td>151.5500</td>\n      <td>C22 C26</td>\n      <td>S</td>\n      <td>NaN</td>\n      <td>NaN</td>\n      <td>Montreal, PQ / Chesterville, ON</td>\n      <td>0</td>\n      <td>C</td>\n    </tr>\n    <tr>\n      <th>...</th>\n      <td>...</td>\n      <td>...</td>\n      <td>...</td>\n      <td>...</td>\n      <td>...</td>\n      <td>...</td>\n      <td>...</td>\n      <td>...</td>\n      <td>...</td>\n      <td>...</td>\n      <td>...</td>\n      <td>...</td>\n      <td>...</td>\n      <td>...</td>\n      <td>...</td>\n    </tr>\n    <tr>\n      <th>1304</th>\n      <td>3.0</td>\n      <td>Zabour, Miss. Hileni</td>\n      <td>female</td>\n      <td>14.5000</td>\n      <td>1.0</td>\n      <td>0.0</td>\n      <td>2665</td>\n      <td>14.4542</td>\n      <td>NaN</td>\n      <td>C</td>\n      <td>NaN</td>\n      <td>328.0</td>\n      <td>NaN</td>\n      <td>0</td>\n      <td>None</td>\n    </tr>\n    <tr>\n      <th>1305</th>\n      <td>3.0</td>\n      <td>Zabour, Miss. Thamine</td>\n      <td>female</td>\n      <td>NaN</td>\n      <td>1.0</td>\n      <td>0.0</td>\n      <td>2665</td>\n      <td>14.4542</td>\n      <td>NaN</td>\n      <td>C</td>\n      <td>NaN</td>\n      <td>NaN</td>\n      <td>NaN</td>\n      <td>0</td>\n      <td>None</td>\n    </tr>\n    <tr>\n      <th>1306</th>\n      <td>3.0</td>\n      <td>Zakarian, Mr. Mapriededer</td>\n      <td>male</td>\n      <td>26.5000</td>\n      <td>0.0</td>\n      <td>0.0</td>\n      <td>2656</td>\n      <td>7.2250</td>\n      <td>NaN</td>\n      <td>C</td>\n      <td>NaN</td>\n      <td>304.0</td>\n      <td>NaN</td>\n      <td>0</td>\n      <td>None</td>\n    </tr>\n    <tr>\n      <th>1307</th>\n      <td>3.0</td>\n      <td>Zakarian, Mr. Ortin</td>\n      <td>male</td>\n      <td>27.0000</td>\n      <td>0.0</td>\n      <td>0.0</td>\n      <td>2670</td>\n      <td>7.2250</td>\n      <td>NaN</td>\n      <td>C</td>\n      <td>NaN</td>\n      <td>NaN</td>\n      <td>NaN</td>\n      <td>0</td>\n      <td>None</td>\n    </tr>\n    <tr>\n      <th>1308</th>\n      <td>3.0</td>\n      <td>Zimmerman, Mr. Leo</td>\n      <td>male</td>\n      <td>29.0000</td>\n      <td>0.0</td>\n      <td>0.0</td>\n      <td>315082</td>\n      <td>7.8750</td>\n      <td>NaN</td>\n      <td>S</td>\n      <td>NaN</td>\n      <td>NaN</td>\n      <td>NaN</td>\n      <td>0</td>\n      <td>None</td>\n    </tr>\n  </tbody>\n</table>\n<p>1309 rows × 15 columns</p>\n</div>"
     },
     "execution_count": 45,
     "metadata": {},
     "output_type": "execute_result"
    }
   ],
   "source": [
    "df[\"Cabin Letter\"] = df[\"cabin\"].apply(first_character)\n",
    "df"
   ],
   "metadata": {
    "collapsed": false,
    "ExecuteTime": {
     "end_time": "2024-07-03T05:28:29.154010Z",
     "start_time": "2024-07-03T05:28:29.133346Z"
    }
   },
   "execution_count": 45
  }
 ],
 "metadata": {
  "kernelspec": {
   "display_name": "base",
   "language": "python",
   "name": "python3"
  },
  "language_info": {
   "codemirror_mode": {
    "name": "ipython",
    "version": 3
   },
   "file_extension": ".py",
   "mimetype": "text/x-python",
   "name": "python",
   "nbconvert_exporter": "python",
   "pygments_lexer": "ipython3",
   "version": "3.9.13"
  },
  "orig_nbformat": 4
 },
 "nbformat": 4,
 "nbformat_minor": 2
}
