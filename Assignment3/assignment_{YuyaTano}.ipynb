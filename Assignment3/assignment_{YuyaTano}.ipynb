{
 "cells": [
  {
   "cell_type": "markdown",
   "metadata": {},
   "source": [
    "# 第三回の課題\n",
    "\n",
    "課題ファイルを複製し、ファイル名を```assignment_{自分の名前}.ipynb```に変更してから課題を回答してください。"
   ]
  },
  {
   "cell_type": "markdown",
   "metadata": {},
   "source": [
    "## 課題1\n",
    "\n",
    "1から100までの偶数の和を計算してください。"
   ]
  },
  {
   "cell_type": "code",
   "execution_count": 39,
   "metadata": {},
   "outputs": [],
   "source": [
    "numbers = [1, 2, 3, 2, 4, 3, 5, 4, 6, 57, 57, 6, 18, 7, 9, 8, 10, 9, 0, 0, 10]"
   ]
  },
  {
   "cell_type": "code",
   "execution_count": 40,
   "metadata": {},
   "outputs": [
    {
     "data": {
      "text/plain": [
       "2550"
      ]
     },
     "execution_count": 40,
     "metadata": {},
     "output_type": "execute_result"
    }
   ],
   "source": [
    "odd_sum = 0\n",
    "for i in range(2,100+1,2):\n",
    "\todd_sum += i\n",
    "odd_sum"
   ]
  },
  {
   "cell_type": "markdown",
   "metadata": {},
   "source": [
    "## 課題2\n",
    "\n",
    "被除数が100である場合、リストの値を除数とする割り算の結果を順番に計算するプログラムを実装してください。\n",
    "\n",
    "- 計算結果をprintで表示してください\n",
    "- 計算不可能の場合、ラーメッセージだけを表示してエラーが起きた回数をカウントし、計算を続けてください"
   ]
  },
  {
   "cell_type": "code",
   "execution_count": 37,
   "metadata": {},
   "outputs": [],
   "source": [
    "import math\n",
    "s = [1,0,10,-25,-2,50,200]\n",
    "error_count = 0 "
   ]
  },
  {
   "cell_type": "code",
   "execution_count": 38,
   "metadata": {},
   "outputs": [
    {
     "name": "stdout",
     "output_type": "stream",
     "text": [
      "100/1=100.0\n",
      "割り算エラー:0で割ることはできません\n",
      "100/10=10.0\n",
      "100/-25=-4.0\n",
      "100/-2=-50.0\n",
      "100/50=2.0\n",
      "100/200=0.5\n",
      "エラーの回数: 1\n"
     ]
    }
   ],
   "source": [
    "div = 100\n",
    "for i in s:\n",
    "\ttry:\n",
    "\t\tresult=div/i\n",
    "\t\tprint(f\"{div}/{i}={result}\")\n",
    "\texcept ZeroDivisionError:\n",
    "\t\tprint(f\"割り算エラー:{i}で割ることはできません\")\n",
    "\t\terror_count += 1\n",
    "\n",
    "print(f\"エラーの回数: {error_count}\")"
   ]
  },
  {
   "cell_type": "markdown",
   "metadata": {},
   "source": [
    "## 課題3\n",
    "\n",
    "区間[0,100000]の間に存在するarmstrong numberをリストに格納しなさい。\n",
    "armstrong numberとは、ある$n$桁の正の整数が、その各桁の数をn乗した値の合計に等しい数のことです。\n",
    "\n",
    "例えば、3桁の数字$153$はarmstrong numberである\n",
    "\n",
    "$$\n",
    "1^3 + 5^3 + 3^3 = 1 + 125 + 27 = 153\n",
    "$$\n",
    "\n",
    "3桁の数字1634はアームストロング数である\n",
    "\n",
    "$$\n",
    "1^4 + 6^4 + 3^4 + 4^4 = 1 + 1296 + 81 + 256 = 1634\n",
    "$$"
   ]
  },
  {
   "cell_type": "code",
   "execution_count": 36,
   "metadata": {},
   "outputs": [
    {
     "name": "stdout",
     "output_type": "stream",
     "text": [
      "[0, 1, 2, 3, 4, 5, 6, 7, 8, 9, 153, 370, 371, 407, 1634, 8208, 9474, 54748, 92727, 93084]\n"
     ]
    }
   ],
   "source": [
    "answer = []\n",
    "\n",
    "for i in range(0, 100000+1):\n",
    "\torig_number = i\n",
    "\tj = str(i)\n",
    "\tn=0\n",
    "\tfor num in j:\n",
    "\t\tn += int(num)**len(j)\n",
    "\tif orig_number==n:\n",
    "\t\tanswer.append(i)\n",
    "\telse:\n",
    "\t\tcontinue\n",
    "\n",
    "print(answer)"
   ]
  },
  {
   "cell_type": "markdown",
   "metadata": {},
   "source": []
  },
  {
   "cell_type": "markdown",
   "metadata": {},
   "source": []
  },
  {
   "cell_type": "markdown",
   "metadata": {},
   "source": []
  }
 ],
 "metadata": {
  "kernelspec": {
   "display_name": "Python 3",
   "language": "python",
   "name": "python3"
  },
  "language_info": {
   "codemirror_mode": {
    "name": "ipython",
    "version": 3
   },
   "file_extension": ".py",
   "mimetype": "text/x-python",
   "name": "python",
   "nbconvert_exporter": "python",
   "pygments_lexer": "ipython3",
   "version": "3.11.7"
  }
 },
 "nbformat": 4,
 "nbformat_minor": 2
}
