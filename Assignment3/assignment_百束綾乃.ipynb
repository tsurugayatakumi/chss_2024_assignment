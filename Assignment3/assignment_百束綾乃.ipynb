{
 "cells": [
  {
   "cell_type": "markdown",
   "metadata": {},
   "source": [
    "# 第三回の課題\n",
    "\n",
    "課題ファイルを複製し、ファイル名を```assignment_{自分の名前}.ipynb```に変更してから課題を回答してください。"
   ]
  },
  {
   "cell_type": "markdown",
   "metadata": {},
   "source": [
    "## 課題1\n",
    "\n",
    "1から100までの偶数の和を計算してください。"
   ]
  },
  {
   "cell_type": "code",
   "execution_count": 2,
   "metadata": {},
   "outputs": [],
   "source": [
    "numbers = [1, 2, 3, 2, 4, 3, 5, 4, 6, 57, 57, 6, 18, 7, 9, 8, 10, 9, 0, 0, 10]"
   ]
  },
  {
   "cell_type": "code",
   "execution_count": 7,
   "metadata": {},
   "outputs": [
    {
     "name": "stdout",
     "output_type": "stream",
     "text": [
      "70\n"
     ]
    }
   ],
   "source": [
    "#numbersの中の偶数の和\n",
    "total = 0\n",
    "for i in numbers:\n",
    "\tif i%2 != 0:\n",
    "\t\tcontinue\n",
    "\ttotal = total + i\n",
    "print(total)\n",
    "\t"
   ]
  },
  {
   "cell_type": "code",
   "execution_count": 20,
   "metadata": {},
   "outputs": [
    {
     "name": "stdout",
     "output_type": "stream",
     "text": [
      "2550\n"
     ]
    }
   ],
   "source": [
    "#1から100までの偶数の和\n",
    "total = 0\n",
    "for i in range(0,101,2):\n",
    "\ttotal = total + i\n",
    "print(total)"
   ]
  },
  {
   "cell_type": "markdown",
   "metadata": {},
   "source": [
    "## 課題2\n",
    "\n",
    "被除数が100である場合、リストの値を除数とする割り算の結果を順番に計算するプログラムを実装してください。\n",
    "\n",
    "- 計算結果をprintで表示してください\n",
    "- 計算不可能の場合、ラーメッセージだけを表示してエラーが起きた回数をカウントし、計算を続けてください"
   ]
  },
  {
   "cell_type": "code",
   "execution_count": 9,
   "metadata": {},
   "outputs": [],
   "source": [
    "import math\n",
    "s = [1,0,10,-25,-2,50,200]\n",
    "error_count = 0 "
   ]
  },
  {
   "cell_type": "code",
   "execution_count": 12,
   "metadata": {},
   "outputs": [
    {
     "name": "stdout",
     "output_type": "stream",
     "text": [
      "100.0\n",
      "計算できません\n",
      "10.0\n",
      "-4.0\n",
      "-50.0\n",
      "2.0\n",
      "0.5\n",
      "エラーの回数： 1 回\n"
     ]
    }
   ],
   "source": [
    "#被除数が100である場合、リストの値を序数とする割り算の結果を順番に計算するプログラム\n",
    "import math\n",
    "s = [1,0,10,-25,-2,50,200]\n",
    "error_count = 0 \n",
    "for i in s:\n",
    "\ttry:\n",
    "\t\tprint(100/i)\n",
    "\texcept:\n",
    "\t\tprint(\"計算できません\")\n",
    "\t\terror_count = error_count + 1\n",
    "print(\"エラーの回数：\",error_count,\"回\")"
   ]
  },
  {
   "cell_type": "markdown",
   "metadata": {},
   "source": [
    "## 課題3\n",
    "\n",
    "区間[0,100000]の間に存在するarmstrong numberをリストに格納しなさい。\n",
    "armstrong numberとは、ある$n$桁の正の整数が、その各桁の数をn乗した値の合計に等しい数のことです。\n",
    "\n",
    "例えば、3桁の数字$153$はarmstrong numberである\n",
    "\n",
    "$$\n",
    "1^3 + 5^3 + 3^3 = 1 + 125 + 27 = 153\n",
    "$$\n",
    "\n",
    "3桁の数字1634はアームストロング数である\n",
    "\n",
    "$$\n",
    "1^4 + 6^4 + 3^4 + 4^4 = 1 + 1296 + 81 + 256 = 1634\n",
    "$$"
   ]
  },
  {
   "cell_type": "code",
   "execution_count": 119,
   "metadata": {},
   "outputs": [
    {
     "name": "stdout",
     "output_type": "stream",
     "text": [
      "[1, 2, 3, 4, 5, 6, 7, 8, 9, 153, 370, 371, 407, 1634, 8208, 9474, 54748, 92727, 93084]\n"
     ]
    }
   ],
   "source": [
    "#armstrong numberのリスト作成\n",
    "asn = []\n",
    "for i in range(1,100001):\n",
    "\tketatuple = tuple(str(i))\n",
    "\tketalist = list(ketatuple) #1桁ずつに細分化して文字列化\n",
    "\tketatotal = 0\n",
    "\tketa = []\n",
    "\tfor j in ketalist:\n",
    "\t\tketa.append(int(j)) #桁数を再び数値化\n",
    "\tfor s in keta:\n",
    "\t\tketatotal = ketatotal + s**len(keta) #桁数で階乗\n",
    "\tif ketatotal == i: #元の整数と合致するかの確認\n",
    "\t\tasn.append(i)\n",
    "print(asn)"
   ]
  },
  {
   "cell_type": "markdown",
   "metadata": {},
   "source": []
  },
  {
   "cell_type": "markdown",
   "metadata": {},
   "source": []
  }
 ],
 "metadata": {
  "kernelspec": {
   "display_name": "base",
   "language": "python",
   "name": "python3"
  },
  "language_info": {
   "codemirror_mode": {
    "name": "ipython",
    "version": 3
   },
   "file_extension": ".py",
   "mimetype": "text/x-python",
   "name": "python",
   "nbconvert_exporter": "python",
   "pygments_lexer": "ipython3",
   "version": "3.11.7"
  }
 },
 "nbformat": 4,
 "nbformat_minor": 2
}
