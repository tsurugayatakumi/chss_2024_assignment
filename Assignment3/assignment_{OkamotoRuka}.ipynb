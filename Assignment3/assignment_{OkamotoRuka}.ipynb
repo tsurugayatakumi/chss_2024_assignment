{
 "cells": [
  {
   "cell_type": "markdown",
   "metadata": {},
   "source": [
    "# 第三回の課題\n",
    "\n",
    "課題ファイルを複製し、ファイル名を```assignment_{自分の名前}.ipynb```に変更してから課題を回答してください。"
   ]
  },
  {
   "cell_type": "markdown",
   "metadata": {},
   "source": [
    "## 課題1\n",
    "\n",
    "1から100までの偶数の和を計算してください。"
   ]
  },
  {
   "cell_type": "code",
   "execution_count": 1,
   "metadata": {},
   "outputs": [
    {
     "name": "stdout",
     "output_type": "stream",
     "text": [
      "2550\n"
     ]
    }
   ],
   "source": [
    "total = 0\n",
    "for i in range(1, 101):\n",
    "\tif i%2 ==0:\n",
    "\t\ttotal += i\n",
    "print(total)\n"
   ]
  },
  {
   "cell_type": "markdown",
   "metadata": {},
   "source": [
    "## 課題2\n",
    "\n",
    "被除数が100である場合、リストの値を除数とする割り算の結果を順番に計算するプログラムを実装してください。\n",
    "\n",
    "- 計算結果をprintで表示してください\n",
    "- 計算不可能の場合、ラーメッセージだけを表示してエラーが起きた回数をカウントし、計算を続けてください"
   ]
  },
  {
   "cell_type": "code",
   "execution_count": 35,
   "metadata": {},
   "outputs": [],
   "source": [
    "import math\n",
    "s = [1,0,10,-25,-2,50,200]\n",
    "error_count = 0 "
   ]
  },
  {
   "cell_type": "code",
   "execution_count": 37,
   "metadata": {},
   "outputs": [
    {
     "name": "stdout",
     "output_type": "stream",
     "text": [
      "100.0\n",
      "error\n",
      "10.0\n",
      "-4.0\n",
      "-50.0\n",
      "2.0\n",
      "0.5\n"
     ]
    }
   ],
   "source": [
    "for i in s:\n",
    "\ttry:\n",
    "\t\tprint(100/i)\n",
    "\texcept:\n",
    "\t\tprint(\"error\")\n",
    "\t\terror_count += 1"
   ]
  },
  {
   "cell_type": "markdown",
   "metadata": {},
   "source": [
    "## 課題3\n",
    "\n",
    "区間[0,100000]の間に存在するarmstrong numberをリストに格納しなさい。\n",
    "armstrong numberとは、ある$n$桁の正の整数が、その各桁の数をn乗した値の合計に等しい数のことです。\n",
    "\n",
    "例えば、3桁の数字$153$はarmstrong numberである\n",
    "\n",
    "$$\n",
    "1^3 + 5^3 + 3^3 = 1 + 125 + 27 = 153\n",
    "$$\n",
    "\n",
    "3桁の数字1634はアームストロング数である\n",
    "\n",
    "$$\n",
    "1^4 + 6^4 + 3^4 + 4^4 = 1 + 1296 + 81 + 256 = 1634\n",
    "$$"
   ]
  },
  {
   "cell_type": "code",
   "execution_count": 7,
   "metadata": {},
   "outputs": [
    {
     "name": "stdout",
     "output_type": "stream",
     "text": [
      "[1, 2, 3, 4, 5, 6, 7, 8, 9, 153, 370, 371, 407, 1634, 8208, 9474, 54748, 92727, 93084]\n"
     ]
    }
   ],
   "source": [
    "list_arm =[]\n",
    "\n",
    "for i in range(1,100001):\n",
    "\n",
    "\ti=str(i)\n",
    "\ti_digit = len(i)\n",
    "\ti=int(i)\n",
    "\toriginal_i=i\n",
    "\tresult = 0\n",
    "\n",
    "\twhile (i != 0):\n",
    "\t\tdigit = i%10\n",
    "\t\tresult=result+pow(digit, i_digit)\n",
    "\t\ti = int(i/10)\n",
    "\n",
    "\tif(result==original_i):\n",
    "\t\tlist_arm.append(original_i)\n",
    "\n",
    "print(list_arm)"
   ]
  },
  {
   "cell_type": "markdown",
   "metadata": {},
   "source": [
    "練習課題\n",
    "問題2 区間内のすべての素数を表示する\n",
    "900から1000の間に素数である数字をリストに格納しなさい"
   ]
  },
  {
   "cell_type": "code",
   "execution_count": 10,
   "metadata": {},
   "outputs": [
    {
     "name": "stdout",
     "output_type": "stream",
     "text": [
      "[907, 911, 919, 929, 937, 941, 947, 953, 967, 971, 977, 983, 991, 997]\n"
     ]
    }
   ],
   "source": [
    "list_prime = []\n",
    "for num in range(900,1001):\n",
    "  prime = 0\n",
    "  if num >1:\n",
    "    for i in range(2, num):\n",
    "      if num%i==0:\n",
    "       prime += 1\n",
    "\n",
    "  if prime ==0 :\n",
    "    list_prime.append(num)\n",
    "\n",
    "print(list_prime)"
   ]
  },
  {
   "cell_type": "markdown",
   "metadata": {},
   "source": [
    "問題3 フィボナッチ数列（Fibonacci sequence）\n",
    "\n",
    "フィボナッチ数列は、先頭の2項目以外、一般項は前の2項目の和で表れることができる数列です。\n",
    "定義は以下になります\n",
    "\n",
    "fib(0)=0\\\n",
    "fib(1)=1\\\n",
    "fib(n+2) = fib(n) + fib(n+1) (n ≥ 0)\n",
    "\n",
    "つまり、0, 1, 1, 2, 3, 5, 8, 13, 21, 34, 55, 89, 144, 233, 377という規則の数列になります。\n",
    "\n",
    "nterms個のフィボナッチ数列が格納されるリストを作成しなさい。"
   ]
  },
  {
   "cell_type": "code",
   "execution_count": 31,
   "metadata": {},
   "outputs": [
    {
     "name": "stdout",
     "output_type": "stream",
     "text": [
      "[0, 1, 1, 2, 3, 5, 8, 13, 21, 34, 55, 89, 144, 233, 377, 610, 987, 1597, 2584, 4181]\n"
     ]
    }
   ],
   "source": [
    "nterms=20\n",
    "n1, n2 = 0, 1\n",
    "n = 0\n",
    "fib_list = [n1, n2]\n",
    "\n",
    "while len(fib_list) <= nterms-1:\n",
    "\tn = n1 + n2 \n",
    "\tfib_list.append(n)\n",
    "\tn1 = n2\n",
    "\tn2 = n\n",
    "\n",
    "print(fib_list)"
   ]
  },
  {
   "cell_type": "markdown",
   "metadata": {},
   "source": []
  }
 ],
 "metadata": {
  "kernelspec": {
   "display_name": "Python 3",
   "language": "python",
   "name": "python3"
  },
  "language_info": {
   "codemirror_mode": {
    "name": "ipython",
    "version": 3
   },
   "file_extension": ".py",
   "mimetype": "text/x-python",
   "name": "python",
   "nbconvert_exporter": "python",
   "pygments_lexer": "ipython3",
   "version": "3.11.7"
  }
 },
 "nbformat": 4,
 "nbformat_minor": 2
}
