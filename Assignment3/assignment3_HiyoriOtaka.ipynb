{
  "cells": [
    {
      "cell_type": "markdown",
      "metadata": {
        "id": "rwSdLQ8WRu-B"
      },
      "source": [
        "# 第三回の課題\n",
        "\n",
        "課題ファイルを複製し、ファイル名を```assignment_{自分の名前}.ipynb```に変更してから課題を回答してください。"
      ]
    },
    {
      "cell_type": "markdown",
      "metadata": {
        "id": "DJmkEyipRu-D"
      },
      "source": [
        "## 課題1\n",
        "\n",
        "1から100までの偶数の和を計算してください。"
      ]
    },
    {
      "cell_type": "code",
      "execution_count": 38,
      "metadata": {
        "colab": {
          "base_uri": "https://localhost:8080/"
        },
        "id": "vHhGs-vaRu-E",
        "outputId": "08c2650c-ccf6-4630-bf16-8eb26aec62ad"
      },
      "outputs": [
        {
          "output_type": "execute_result",
          "data": {
            "text/plain": [
              "2550"
            ]
          },
          "metadata": {},
          "execution_count": 38
        }
      ],
      "source": [
        "total = 0\n",
        "for i in range(2,101,2):\n",
        "  total+=i\n",
        "total"
      ]
    },
    {
      "cell_type": "markdown",
      "metadata": {
        "id": "hjF3EVE8Ru-E"
      },
      "source": [
        "## 課題2\n",
        "\n",
        "被除数が100である場合、リストの値を除数とする割り算の結果を順番に計算するプログラムを実装してください。\n",
        "\n",
        "- 計算結果をprintで表示してください\n",
        "- 計算不可能の場合、ラーメッセージだけを表示してエラーが起きた回数をカウントし、計算を続けてください"
      ]
    },
    {
      "cell_type": "code",
      "execution_count": 17,
      "metadata": {
        "id": "6QAZM00rRu-E"
      },
      "outputs": [],
      "source": [
        "import math\n",
        "s = [1,0,10,-25,-2,50,200]\n",
        "error_count = 0"
      ]
    },
    {
      "cell_type": "code",
      "source": [
        "for i in s:\n",
        "  try:\n",
        "    print(100/i)\n",
        "  except:\n",
        "    error_count+=1\n",
        "    print(\"エラー\",error_count)"
      ],
      "metadata": {
        "colab": {
          "base_uri": "https://localhost:8080/"
        },
        "id": "38WKknUvX905",
        "outputId": "d7a9e3b0-532d-4cf8-ea54-495b2e7e0064"
      },
      "execution_count": 18,
      "outputs": [
        {
          "output_type": "stream",
          "name": "stdout",
          "text": [
            "100.0\n",
            "エラー 1\n",
            "10.0\n",
            "-4.0\n",
            "-50.0\n",
            "2.0\n",
            "0.5\n"
          ]
        }
      ]
    },
    {
      "cell_type": "markdown",
      "metadata": {
        "id": "PJ65Rm6PRu-F"
      },
      "source": [
        "## 課題3\n",
        "\n",
        "区間[0,100000]の間に存在するarmstrong numberをリストに格納しなさい。\n",
        "armstrong numberとは、ある$n$桁の正の整数が、その各桁の数をn乗した値の合計に等しい数のことです。\n",
        "\n",
        "例えば、3桁の数字$153$はarmstrong numberである\n",
        "\n",
        "$$\n",
        "1^3 + 5^3 + 3^3 = 1 + 125 + 27 = 153\n",
        "$$\n",
        "\n",
        "3桁の数字1634はアームストロング数である\n",
        "\n",
        "$$\n",
        "1^4 + 6^4 + 3^4 + 4^4 = 1 + 1296 + 81 + 256 = 1634\n",
        "$$"
      ]
    },
    {
      "cell_type": "code",
      "source": [
        "arm =[]\n",
        "for num in range(0,100001):\n",
        "   sum = 0\n",
        "   n = len(str(num))\n",
        "\n",
        "   temp = num\n",
        "   while temp > 0:\n",
        "       digit = temp % 10\n",
        "       sum += digit ** n\n",
        "       temp //= 10\n",
        "\n",
        "   if num == sum:\n",
        "    arm.append(num)\n",
        "    print(arm)"
      ],
      "metadata": {
        "colab": {
          "base_uri": "https://localhost:8080/"
        },
        "id": "Y1PH6haVi3p3",
        "outputId": "77c89a38-1fa8-472f-804d-0bc9dd2ecfe5"
      },
      "execution_count": 31,
      "outputs": [
        {
          "output_type": "stream",
          "name": "stdout",
          "text": [
            "[0]\n",
            "[0, 1]\n",
            "[0, 1, 2]\n",
            "[0, 1, 2, 3]\n",
            "[0, 1, 2, 3, 4]\n",
            "[0, 1, 2, 3, 4, 5]\n",
            "[0, 1, 2, 3, 4, 5, 6]\n",
            "[0, 1, 2, 3, 4, 5, 6, 7]\n",
            "[0, 1, 2, 3, 4, 5, 6, 7, 8]\n",
            "[0, 1, 2, 3, 4, 5, 6, 7, 8, 9]\n",
            "[0, 1, 2, 3, 4, 5, 6, 7, 8, 9, 153]\n",
            "[0, 1, 2, 3, 4, 5, 6, 7, 8, 9, 153, 370]\n",
            "[0, 1, 2, 3, 4, 5, 6, 7, 8, 9, 153, 370, 371]\n",
            "[0, 1, 2, 3, 4, 5, 6, 7, 8, 9, 153, 370, 371, 407]\n",
            "[0, 1, 2, 3, 4, 5, 6, 7, 8, 9, 153, 370, 371, 407, 1634]\n",
            "[0, 1, 2, 3, 4, 5, 6, 7, 8, 9, 153, 370, 371, 407, 1634, 8208]\n",
            "[0, 1, 2, 3, 4, 5, 6, 7, 8, 9, 153, 370, 371, 407, 1634, 8208, 9474]\n",
            "[0, 1, 2, 3, 4, 5, 6, 7, 8, 9, 153, 370, 371, 407, 1634, 8208, 9474, 54748]\n",
            "[0, 1, 2, 3, 4, 5, 6, 7, 8, 9, 153, 370, 371, 407, 1634, 8208, 9474, 54748, 92727]\n",
            "[0, 1, 2, 3, 4, 5, 6, 7, 8, 9, 153, 370, 371, 407, 1634, 8208, 9474, 54748, 92727, 93084]\n"
          ]
        }
      ]
    },
    {
      "cell_type": "markdown",
      "metadata": {
        "id": "qAVg9TIHRu-G"
      },
      "source": []
    },
    {
      "cell_type": "markdown",
      "metadata": {
        "id": "1SM03e5lRu-G"
      },
      "source": []
    }
  ],
  "metadata": {
    "kernelspec": {
      "display_name": "Python 3",
      "language": "python",
      "name": "python3"
    },
    "language_info": {
      "codemirror_mode": {
        "name": "ipython",
        "version": 3
      },
      "file_extension": ".py",
      "mimetype": "text/x-python",
      "name": "python",
      "nbconvert_exporter": "python",
      "pygments_lexer": "ipython3",
      "version": "3.11.5"
    },
    "colab": {
      "provenance": []
    }
  },
  "nbformat": 4,
  "nbformat_minor": 0
}