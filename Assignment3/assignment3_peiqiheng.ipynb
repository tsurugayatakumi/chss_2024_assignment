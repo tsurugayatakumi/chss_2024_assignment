{
 "cells": [
  {
   "cell_type": "markdown",
   "metadata": {},
   "source": [
    "# 第三回の課題\n",
    "\n",
    "課題ファイルを複製し、ファイル名を```assignment_{自分の名前}.ipynb```に変更してから課題を回答してください。"
   ]
  },
  {
   "cell_type": "markdown",
   "metadata": {},
   "source": [
    "## 課題1\n",
    "\n",
    "1から100までの偶数の和を計算してください。"
   ]
  },
  {
   "cell_type": "code",
   "metadata": {
    "ExecuteTime": {
     "end_time": "2024-05-23T03:12:33.162337Z",
     "start_time": "2024-05-23T03:12:33.156885Z"
    }
   },
   "source": [
    "numbers = [1, 2, 3, 2, 4, 3, 5, 4, 6, 57, 57, 6, 18, 7, 9, 8, 10, 9, 0, 0, 10]\n",
    "# according to the list above\n",
    "sum = 0\n",
    "for digit in numbers:\n",
    "    if digit % 2 == 0:\n",
    "        sum += digit\n",
    "print(sum)\n",
    "\n",
    "#according to range(1, 101)\n",
    "sum1 = 0\n",
    "for num in range(1, 101):\n",
    "    if num % 2 == 0:\n",
    "        sum1 += num\n",
    "print(sum1)"
   ],
   "outputs": [
    {
     "name": "stdout",
     "output_type": "stream",
     "text": [
      "70\n",
      "2550\n"
     ]
    }
   ],
   "execution_count": 26
  },
  {
   "cell_type": "markdown",
   "metadata": {},
   "source": [
    "## 課題2\n",
    "\n",
    "被除数が100である場合、リストの値を除数とする割り算の結果を順番に計算するプログラムを実装してください。\n",
    "\n",
    "- 計算結果をprintで表示してください\n",
    "- 計算不可能の場合、ラーメッセージだけを表示してエラーが起きた回数をカウントし、計算を続けてください"
   ]
  },
  {
   "cell_type": "code",
   "metadata": {
    "ExecuteTime": {
     "end_time": "2024-05-23T06:27:50.445914Z",
     "start_time": "2024-05-23T06:27:50.442147Z"
    }
   },
   "source": [
    "import math\n",
    "s = [1,0,10,-25,-2,50,200]\n",
    "error_count = 0 \n",
    "for num in s:\n",
    "    try:\n",
    "        result = 100 / num\n",
    "        print(f\"the result of 100 / {num} is {result}\")\n",
    "    except ZeroDivisionError as e:\n",
    "        error_count += 1\n",
    "        print(f\"Error: {e}， error count: {error_count}\")\n",
    "    except Exception as e:\n",
    "        error_count += 1\n",
    "        print(f\"unexpected error occurred: {e}\")\n",
    "print(f\"There are {error_count} errors\")\n",
    "        \n",
    "        "
   ],
   "outputs": [
    {
     "name": "stdout",
     "output_type": "stream",
     "text": [
      "the result of 100 / 1 is 100.0\n",
      "Error: division by zero， error count: 1\n",
      "the result of 100 / 10 is 10.0\n",
      "the result of 100 / -25 is -4.0\n",
      "the result of 100 / -2 is -50.0\n",
      "the result of 100 / 50 is 2.0\n",
      "the result of 100 / 200 is 0.5\n",
      "There are 1 errors\n"
     ]
    }
   ],
   "execution_count": 1
  },
  {
   "cell_type": "markdown",
   "metadata": {},
   "source": [
    "## 課題3\n",
    "\n",
    "区間[0,100000]の間に存在するarmstrong numberをリストに格納しなさい。\n",
    "armstrong numberとは、ある$n$桁の正の整数が、その各桁の数をn乗した値の合計に等しい数のことです。\n",
    "\n",
    "例えば、3桁の数字$153$はarmstrong numberである\n",
    "\n",
    "$$\n",
    "1^3 + 5^3 + 3^3 = 1 + 125 + 27 = 153\n",
    "$$\n",
    "\n",
    "3桁の数字1634はアームストロング数である\n",
    "\n",
    "$$\n",
    "1^4 + 6^4 + 3^4 + 4^4 = 1 + 1296 + 81 + 256 = 1634\n",
    "$$"
   ]
  },
  {
   "cell_type": "code",
   "metadata": {
    "ExecuteTime": {
     "end_time": "2024-05-23T02:06:54.479678Z",
     "start_time": "2024-05-23T02:06:54.385776Z"
    }
   },
   "source": [
    "armstrong_number = []\n",
    "for digit in range(0, 100001):\n",
    "    str_digit = str(digit)\n",
    "    length_digit = len(str_digit)\n",
    "    sum = 0\n",
    "    for i in str_digit:\n",
    "        sum += int(i) ** length_digit\n",
    "    if sum == digit:\n",
    "        armstrong_number.append(digit)\n",
    "print(armstrong_number)"
   ],
   "outputs": [
    {
     "name": "stdout",
     "output_type": "stream",
     "text": [
      "[0, 1, 2, 3, 4, 5, 6, 7, 8, 9, 153, 370, 371, 407, 1634, 8208, 9474, 54748, 92727, 93084]\n"
     ]
    }
   ],
   "execution_count": 20
  },
  {
   "metadata": {},
   "cell_type": "markdown",
   "source": [
    "問題1 \n",
    "\n",
    "文字列が回文かどうかをチェック\n",
    "回文(Palindrome)とは、前から読んでも後ろから読んでも同じ文字列のことです。例えば、「dad」という単語は、前から読んでも後ろから読んでも同じです。\n",
    "\n",
    "以下の文字列は回文かどうかをチェックするプログラムを書いてください。\n",
    "\n",
    "回文である場合、「The string is a palindrome」を出力する\n",
    "\n",
    "回文ではない場合、「The string is not a palindrome」を出力する\n"
   ]
  },
  {
   "cell_type": "markdown",
   "metadata": {},
   "source": []
  },
  {
   "metadata": {
    "ExecuteTime": {
     "end_time": "2024-05-23T00:44:18.060447Z",
     "start_time": "2024-05-23T00:44:18.053789Z"
    }
   },
   "cell_type": "code",
   "source": [
    "my_str = 'aibohphobia'\n",
    "my_str2 = 'たけやぶやけた'\n",
    "my_str3 = 'Tohoku'\n",
    "if my_str == my_str[::-1]:\n",
    "    print(\"The string is a pandrome\")\n",
    "else:\n",
    "    print(\"The string is not a pandrome\")\n",
    "if my_str2 == my_str[::-1]:\n",
    "    print(\"The string is a pandrome\")\n",
    "else:\n",
    "    print(\"The string is not a pandrome\")\n",
    "if my_str3 == my_str[::-1]:\n",
    "    print(\"The string is a pandrome\")\n",
    "else:\n",
    "    print(\"The string is not a pandrome\")        "
   ],
   "outputs": [
    {
     "name": "stdout",
     "output_type": "stream",
     "text": [
      "The string is a pandrome\n",
      "The string is not a pandrome\n",
      "The string is not a pandrome\n"
     ]
    }
   ],
   "execution_count": 1
  },
  {
   "metadata": {},
   "cell_type": "markdown",
   "source": [
    "問題2 \n",
    "\n",
    "文字列の最初の文字を大文字にする\n",
    ".upper()メソッドは、文字列内のすべての小文字を大文字に変換し、それを返します。\n",
    "\n",
    "my_stringにおける各単語の最初の文字を大文字にしなさい(Computational Social Science)."
   ]
  },
  {
   "metadata": {
    "ExecuteTime": {
     "end_time": "2024-05-23T06:28:20.122926Z",
     "start_time": "2024-05-23T06:28:20.119650Z"
    }
   },
   "cell_type": "code",
   "source": [
    "# Method 1\n",
    "my_string = \"computational social science\"\n",
    "capitalized_words = [] \n",
    "for word in my_string.split():\n",
    "    capitalized_word = word[0].upper() + word[1:] \n",
    "    capitalized_words.append(capitalized_word)  \n",
    "new = \" \".join(capitalized_words)\n",
    "print(new)\n",
    "\n",
    "# Method 2\n",
    "my_string = \"computational social science\"\n",
    "words = my_string.split()\n",
    "capitalized_words = [word[0].upper() + word[1:] for word in words]\n",
    "new = ' '.join(capitalized_words)\n",
    "print(new)"
   ],
   "outputs": [
    {
     "name": "stdout",
     "output_type": "stream",
     "text": [
      "Computational Social Science\n",
      "Computational Social Science\n"
     ]
    }
   ],
   "execution_count": 2
  },
  {
   "metadata": {},
   "cell_type": "markdown",
   "source": [
    "問題 3 二つのリストに重複している項目を削除する\n",
    "\n",
    "list1からlist_2に含まれる要素を削除する"
   ]
  },
  {
   "metadata": {},
   "cell_type": "code",
   "outputs": [],
   "execution_count": null,
   "source": [
    "list_1 = [1, 3, 1, 6, 9]\n",
    "list_2 = [7, 5, 2, 8]\n",
    "list_1_filtered = [x for x in list_1 if x not in list_2]\n",
    "print(list_1_filtered)"
   ]
  },
  {
   "metadata": {},
   "cell_type": "markdown",
   "source": [
    "問題 1 ある数字が素数かどうかをチェック\n",
    "素数とは、2 以上の自然数で、正の約数が 1 と自分自身のみであるもののことである。\n",
    "\n",
    "例えば、2, 3, 5, 7は素数である。一方で、\n",
    "のため、6は素数ではない。\n",
    "\n",
    "以下の文字列は素数かどうかをチェックするプログラムを書いてください。\n",
    "\n",
    "素数である場合、「The number is a prime number」を出力する\n",
    "\n",
    "素数ではない場合、「The string is not a prime number」を出力する"
   ]
  },
  {
   "metadata": {
    "ExecuteTime": {
     "end_time": "2024-05-23T06:28:41.866178Z",
     "start_time": "2024-05-23T06:28:41.862119Z"
    }
   },
   "cell_type": "code",
   "source": [
    "num = 39\n",
    "prime = True\n",
    "# num = 29\n",
    "for i in range(2, int(num ** 0.5) + 1):\n",
    "    if num % i == 0:\n",
    "        prime = False\n",
    "        break\n",
    "        \n",
    "if prime:\n",
    "    print(\"The number is a prime number\")\n",
    "else:\n",
    "    print(\"The number is not a prime number\")"
   ],
   "outputs": [
    {
     "name": "stdout",
     "output_type": "stream",
     "text": [
      "The number is not a prime number\n"
     ]
    }
   ],
   "execution_count": 3
  },
  {
   "metadata": {},
   "cell_type": "markdown",
   "source": [
    "問題2 区間内のすべての素数を表示する\n",
    "\n",
    "900から1000の間に素数である数字をリストに格納しなさい\n"
   ]
  },
  {
   "metadata": {
    "ExecuteTime": {
     "end_time": "2024-05-23T06:28:47.807518Z",
     "start_time": "2024-05-23T06:28:47.801993Z"
    }
   },
   "cell_type": "code",
   "source": [
    "prime_nums = []\n",
    "for i in range(900, 1001):\n",
    "    prime = True  # Assume i is prime initially\n",
    "    for j in range(2, int(i ** 0.5) + 1):  # Check divisibility up to square root of i\n",
    "        if i % j == 0:  # If i is divisible by any number j\n",
    "            prime = False  # Then i is not prime\n",
    "            break\n",
    "    if prime:  # If i is prime\n",
    "        prime_nums.append(i)\n",
    "\n",
    "print(prime_nums)"
   ],
   "outputs": [
    {
     "name": "stdout",
     "output_type": "stream",
     "text": [
      "[907, 911, 919, 929, 937, 941, 947, 953, 967, 971, 977, 983, 991, 997]\n"
     ]
    }
   ],
   "execution_count": 4
  },
  {
   "metadata": {},
   "cell_type": "markdown",
   "source": [
    "問題3 \n",
    "\n",
    "フィボナッチ数列（Fibonacci sequence）\n",
    "フィボナッチ数列は、先頭の2項目以外、一般項は前の2項目の和で表れることができる数列です。 定義は以下になります\n",
    "つまり、\n",
    "という規則の数列になります。\n",
    "\n",
    "個のフィボナッチ数列が格納されるリストを作成しなさい。"
   ]
  },
  {
   "metadata": {
    "ExecuteTime": {
     "end_time": "2024-05-23T06:28:54.312730Z",
     "start_time": "2024-05-23T06:28:54.308665Z"
    }
   },
   "cell_type": "code",
   "source": [
    "def Fibonacci(n):\n",
    "    Firstnumber = [0, 1]\n",
    "    while n > len(Firstnumber):\n",
    "        secondnumnber = Firstnumber[-1] + Firstnumber[-2]\n",
    "        Firstnumber.append(secondnumnber)\n",
    "    return Firstnumber\n",
    "nterms = Fibonacci(20)\n",
    "print(nterms)"
   ],
   "outputs": [
    {
     "name": "stdout",
     "output_type": "stream",
     "text": [
      "[0, 1, 1, 2, 3, 5, 8, 13, 21, 34, 55, 89, 144, 233, 377, 610, 987, 1597, 2584, 4181]\n"
     ]
    }
   ],
   "execution_count": 5
  },
  {
   "metadata": {},
   "cell_type": "markdown",
   "source": [
    "ここで、ユークリッドの互除法というアルゴリズムの実装にトライしてみましょう。\n",
    "\n",
    "ユークリッドの互除法とは、2つの整数、aとbの最大公約数を求めるアルゴリズムです。例えば、2485と1162の最大公約数を求めたい場合\n",
    "\n",
    "割る数と余りを次回の割られる数と割る数にして、次々と計算し、最後に割り切れたら終わりで、最後の割る数が最大公約数です。"
   ]
  },
  {
   "metadata": {
    "ExecuteTime": {
     "end_time": "2024-05-23T06:28:59.056101Z",
     "start_time": "2024-05-23T06:28:59.049204Z"
    }
   },
   "cell_type": "code",
   "source": [
    "def Euclid(a, b):\n",
    "    while b != 0:\n",
    "        d = a % b\n",
    "        a = b\n",
    "        b = d\n",
    "    print(a)\n",
    "Euclid(2485, 1162)"
   ],
   "outputs": [
    {
     "name": "stdout",
     "output_type": "stream",
     "text": [
      "7\n"
     ]
    }
   ],
   "execution_count": 6
  },
  {
   "metadata": {},
   "cell_type": "code",
   "outputs": [],
   "execution_count": null,
   "source": ""
  }
 ],
 "metadata": {
  "kernelspec": {
   "display_name": "Python 3",
   "language": "python",
   "name": "python3"
  },
  "language_info": {
   "codemirror_mode": {
    "name": "ipython",
    "version": 3
   },
   "file_extension": ".py",
   "mimetype": "text/x-python",
   "name": "python",
   "nbconvert_exporter": "python",
   "pygments_lexer": "ipython3",
   "version": "3.11.5"
  }
 },
 "nbformat": 4,
 "nbformat_minor": 2
}
