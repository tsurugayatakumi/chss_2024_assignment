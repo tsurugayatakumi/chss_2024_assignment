{
 "cells": [
  {
   "cell_type": "markdown",
   "metadata": {},
   "source": [
    "# 第三回の課題\n",
    "\n",
    "課題ファイルを複製し、ファイル名を```assignment_{自分の名前}.ipynb```に変更してから課題を回答してください。"
   ]
  },
  {
   "cell_type": "markdown",
   "metadata": {},
   "source": [
    "## 課題1\n",
    "\n",
    "1から100までの偶数の和を計算してください。"
   ]
  },
  {
   "cell_type": "code",
   "execution_count": 5,
   "metadata": {},
   "outputs": [],
   "source": [
    "numbers = [1, 2, 3, 2, 4, 3, 5, 4, 6, 57, 57, 6, 18, 7, 9, 8, 10, 9, 0, 0, 10]"
   ]
  },
  {
   "cell_type": "code",
   "execution_count": 2,
   "metadata": {},
   "outputs": [
    {
     "name": "stdout",
     "output_type": "stream",
     "text": [
      "2550\n"
     ]
    }
   ],
   "source": [
    "sum= 0\n",
    "for num in range(2, 101, 2):\n",
    "    sum += num\n",
    "print(sum)\n"
   ]
  },
  {
   "cell_type": "markdown",
   "metadata": {},
   "source": [
    "## 課題2\n",
    "\n",
    "被除数が100である場合、リストの値を除数とする割り算の結果を順番に計算するプログラムを実装してください。\n",
    "\n",
    "- 計算結果をprintで表示してください\n",
    "- 計算不可能の場合、ラーメッセージだけを表示してエラーが起きた回数をカウントし、計算を続けてください"
   ]
  },
  {
   "cell_type": "code",
   "execution_count": 9,
   "metadata": {},
   "outputs": [
    {
     "name": "stdout",
     "output_type": "stream",
     "text": [
      "100 / 1 = 100.0\n",
      "計算不可能\n",
      "エラー回数 1\n",
      "100 / 10 = 10.0\n",
      "100 / -25 = -4.0\n",
      "100 / -2 = -50.0\n",
      "100 / 50 = 2.0\n",
      "100 / 200 = 0.5\n"
     ]
    }
   ],
   "source": [
    "import math\n",
    "s = [1,0,10,-25,-2,50,200]\n",
    "error_count = 0 \n",
    "\n",
    "for divisor in s:\n",
    "    try:\n",
    "        result = 100 / divisor\n",
    "        print(f\"100 / {divisor} = {result}\")\n",
    "    except:\n",
    "        error_count += 1\n",
    "        print(\"計算不可能\")\n",
    "        print(f\"エラー回数 {error_count}\")\n",
    "       \n"
   ]
  },
  {
   "cell_type": "markdown",
   "metadata": {},
   "source": [
    "## 課題3\n",
    "\n",
    "区間[0,100000]の間に存在するarmstrong numberをリストに格納しなさい。\n",
    "armstrong numberとは、ある$n$桁の正の整数が、その各桁の数をn乗した値の合計に等しい数のことです。\n",
    "\n",
    "例えば、3桁の数字$153$はarmstrong numberである\n",
    "\n",
    "$$\n",
    "1^3 + 5^3 + 3^3 = 1 + 125 + 27 = 153\n",
    "$$\n",
    "\n",
    "3桁の数字1634はアームストロング数である\n",
    "\n",
    "$$\n",
    "1^4 + 6^4 + 3^4 + 4^4 = 1 + 1296 + 81 + 256 = 1634\n",
    "$$"
   ]
  },
  {
   "cell_type": "code",
   "execution_count": 1,
   "metadata": {},
   "outputs": [
    {
     "name": "stdout",
     "output_type": "stream",
     "text": [
      "[0, 1, 2, 3, 4, 5, 6, 7, 8, 9, 153, 370, 371, 407, 1634, 8208, 9474, 54748, 92727, 93084]\n"
     ]
    }
   ],
   "source": [
    "def is_armstrong(n):\n",
    "    sum = 0\n",
    "    temp = n\n",
    "    order = len(str(n))\n",
    "    while temp > 0:\n",
    "        digit = temp % 10\n",
    "        sum += digit ** order\n",
    "        temp //= 10\n",
    "    return n == sum\n",
    "\n",
    "armstrong_numbers = [i for i in range(100001) if is_armstrong(i)]\n",
    "print(armstrong_numbers)"
   ]
  },
  {
   "cell_type": "markdown",
   "metadata": {},
   "source": []
  },
  {
   "cell_type": "markdown",
   "metadata": {},
   "source": []
  }
 ],
 "metadata": {
  "kernelspec": {
   "display_name": "Python 3",
   "language": "python",
   "name": "python3"
  },
  "language_info": {
   "codemirror_mode": {
    "name": "ipython",
    "version": 3
   },
   "file_extension": ".py",
   "mimetype": "text/x-python",
   "name": "python",
   "nbconvert_exporter": "python",
   "pygments_lexer": "ipython3",
   "version": "3.12.2"
  }
 },
 "nbformat": 4,
 "nbformat_minor": 2
}
