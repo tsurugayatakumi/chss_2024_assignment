{
 "cells": [
  {
   "cell_type": "markdown",
   "metadata": {},
   "source": [
    "# 第三回の課題\n",
    "\n",
    "課題ファイルを複製し、ファイル名を```assignment_{自分の名前}.ipynb```に変更してから課題を回答してください。"
   ]
  },
  {
   "cell_type": "markdown",
   "metadata": {},
   "source": [
    "## 課題1\n",
    "1から100までの偶数の和を計算してください。"
   ]
  },
  {
   "cell_type": "code",
   "outputs": [
    {
     "name": "stdout",
     "output_type": "stream",
     "text": [
      "Sum is 2550\n"
     ]
    }
   ],
   "source": [
    "#解答\n",
    "def sum_of_even_numbers():\n",
    "    sum = 0\n",
    "    for n in range(1,101):\n",
    "        if n%2 == 0:\n",
    "            sum += n\n",
    "    print(\"Sum is {}\".format(sum))\n",
    "\n",
    "sum_of_even_numbers()"
   ],
   "metadata": {
    "collapsed": false,
    "ExecuteTime": {
     "end_time": "2024-05-28T14:39:17.138444Z",
     "start_time": "2024-05-28T14:39:17.134754Z"
    }
   },
   "execution_count": 2
  },
  {
   "cell_type": "markdown",
   "metadata": {},
   "source": [
    "## 課題2\n",
    "\n",
    "被除数が100である場合、リストの値を除数とする割り算の結果を順番に計算するプログラムを実装してください。\n",
    "\n",
    "- 計算結果をprintで表示してください\n",
    "- 計算不可能の場合、ラーメッセージだけを表示してエラーが起きた回数をカウントし、計算を続けてください"
   ]
  },
  {
   "cell_type": "code",
   "execution_count": 27,
   "metadata": {
    "ExecuteTime": {
     "end_time": "2024-05-22T05:48:04.775840Z",
     "start_time": "2024-05-22T05:48:04.770951Z"
    }
   },
   "outputs": [],
   "source": [
    "import math\n",
    "s = [1,0,10,-25,-2,50,200]\n",
    "error_count = 0 "
   ]
  },
  {
   "cell_type": "code",
   "outputs": [
    {
     "name": "stdout",
     "output_type": "stream",
     "text": [
      "100.0\n",
      "割り算することができません\n",
      "10.0\n",
      "-4.0\n",
      "-50.0\n",
      "2.0\n",
      "0.5\n",
      "Error count：1\n"
     ]
    }
   ],
   "source": [
    "#解答\n",
    "def devision(my_numbers, error_count):\n",
    "    for i in my_numbers:\n",
    "        try:\n",
    "            print(divided/i) \n",
    "        except:    \n",
    "            print(\"割り算することができません\")\n",
    "            error_count += 1\n",
    "    print(\"Error count：{}\".format(error_count))\n",
    "devision(s, error_count)"
   ],
   "metadata": {
    "collapsed": false,
    "ExecuteTime": {
     "end_time": "2024-05-22T05:48:14.410381Z",
     "start_time": "2024-05-22T05:48:14.406157Z"
    }
   },
   "execution_count": 29
  },
  {
   "cell_type": "markdown",
   "metadata": {},
   "source": [
    "## 課題3\n",
    "\n",
    "区間[0,100000]の間に存在するarmstrong numberをリストに格納しなさい。\n",
    "armstrong numberとは、ある$n$桁の正の整数が、その各桁の数をn乗した値の合計に等しい数のことです。\n",
    "\n",
    "例えば、3桁の数字$153$はarmstrong numberである\n",
    "\n",
    "$$\n",
    "1^3 + 5^3 + 3^3 = 1 + 125 + 27 = 153\n",
    "$$\n",
    "\n",
    "3桁の数字1634はアームストロング数である\n",
    "\n",
    "$$\n",
    "1^4 + 6^4 + 3^4 + 4^4 = 1 + 1296 + 81 + 256 = 1634\n",
    "$$"
   ]
  },
  {
   "cell_type": "code",
   "execution_count": 59,
   "metadata": {
    "ExecuteTime": {
     "end_time": "2024-05-22T06:44:32.694813Z",
     "start_time": "2024-05-22T06:44:32.547222Z"
    }
   },
   "outputs": [
    {
     "name": "stdout",
     "output_type": "stream",
     "text": [
      "[0, 1, 2, 3, 4, 5, 6, 7, 8, 9, 153, 370, 371, 407, 1634, 8208, 9474, 54748, 92727, 93084]\n"
     ]
    }
   ],
   "source": [
    "#解答\n",
    "#numberの桁数を確認する関数\n",
    "def check_digits(number):\n",
    "    digits = 1\n",
    "    while number >= 10:\n",
    "        number = number // 10\n",
    "        digits += 1\n",
    "    return digits\n",
    "\n",
    "#numberがarmstrong numberかどうか確認する関数\n",
    "def armstrong(number):\n",
    "    temp = number\n",
    "    #check_digits関数を使って調べたい数字の桁数を求める\n",
    "    digits = check_digits(temp)\n",
    "    #各位の数字を桁数だけ累乗した和を格納する変数\n",
    "    armstrong_sum = 0\n",
    "    #各位の数字を桁数だけ累乗した和を求める\n",
    "    for i in range(digits-1,-1,-1): #最上位の位から求める\n",
    "        armstrong_sum += (temp//(10**i))**digits #ある位の数を桁数乗する\n",
    "        temp = temp%10**i #次の下位の桁の数字を求めるため、最上位の位の数を除することで桁数を下げる\n",
    "    if armstrong_sum == number:\n",
    "        return True\n",
    "    else:\n",
    "        return False\n",
    "\n",
    "armstrong_number_list = []\n",
    "for number in range(0,100001):\n",
    "    if armstrong(number):\n",
    "        armstrong_number_list.append(number)\n",
    "print(armstrong_number_list)"
   ]
  },
  {
   "cell_type": "markdown",
   "metadata": {},
   "source": []
  },
  {
   "cell_type": "markdown",
   "metadata": {},
   "source": []
  },
  {
   "cell_type": "markdown",
   "source": [
    "# 以下、授業内課題"
   ],
   "metadata": {
    "collapsed": false
   }
  },
  {
   "cell_type": "code",
   "outputs": [
    {
     "name": "stdout",
     "output_type": "stream",
     "text": [
      "7\n"
     ]
    }
   ],
   "source": [
    "#ユークリッドの互除法\n",
    "#a > bとする\n",
    "def gcd(a,b):\n",
    "    r = a % b\n",
    "    while r != 0:\n",
    "        a = b\n",
    "        b = r\n",
    "        r = a % b\n",
    "    print(b)\n",
    "\n",
    "a = 2485\n",
    "b = 1162\n",
    "gcd(a,b)"
   ],
   "metadata": {
    "collapsed": false,
    "ExecuteTime": {
     "end_time": "2024-05-22T05:03:39.201371Z",
     "start_time": "2024-05-22T05:03:39.196070Z"
    }
   },
   "execution_count": 13
  },
  {
   "cell_type": "markdown",
   "source": [
    "#### 被除数が100である場合、リストの値を除数とする割り算の結果を順番に計算するプログラムを実装してください。"
   ],
   "metadata": {
    "collapsed": false
   }
  },
  {
   "cell_type": "code",
   "outputs": [
    {
     "name": "stdout",
     "output_type": "stream",
     "text": [
      "10.0\n",
      "20.0\n",
      "割り算することができません\n",
      "5.0\n",
      "割り算することができません\n",
      "25.0\n",
      "50.0\n",
      "エラーカウント：2\n"
     ]
    }
   ],
   "source": [
    "divided = 100\n",
    "my_numbers = [10,5,0,20,0,4,2]\n",
    "error_counts = 0\n",
    "for i in my_numbers:\n",
    "    try:\n",
    "        print(divided/i) \n",
    "    except:    \n",
    "        print(\"割り算することができません\")\n",
    "        error_counts += 1\n",
    "print(\"エラーカウント：{}\".format(error_counts))"
   ],
   "metadata": {
    "collapsed": false,
    "ExecuteTime": {
     "end_time": "2024-05-22T05:03:15.224670Z",
     "start_time": "2024-05-22T05:03:15.201281Z"
    }
   },
   "execution_count": 12
  },
  {
   "cell_type": "markdown",
   "source": [
    "#### 以下にリストに基づいて、リストの要素を値、そのインデックスをキーとする辞書を作ってくだい。\n"
   ],
   "metadata": {
    "collapsed": false
   }
  },
  {
   "cell_type": "code",
   "outputs": [
    {
     "name": "stdout",
     "output_type": "stream",
     "text": [
      "{0: 'Marx', 1: 'Weber', 2: 'Durkheim', 3: 'Parsons', 4: 'Merton'}\n"
     ]
    }
   ],
   "source": [
    "#指定リスト\n",
    "l = ['Marx', 'Weber', 'Durkheim', 'Parsons', 'Merton']\n",
    "my_dictionary = {}\n",
    "for index, item in enumerate(l):\n",
    "    my_dictionary[index] = item\n",
    "print(my_dictionary)"
   ],
   "metadata": {
    "collapsed": false,
    "ExecuteTime": {
     "end_time": "2024-05-22T05:14:44.411863Z",
     "start_time": "2024-05-22T05:14:44.405023Z"
    }
   },
   "execution_count": 14
  },
  {
   "cell_type": "markdown",
   "source": [
    "#### 2つのリストをzip関数を使ってループし、各リストの要素を合計し、その結果を新しいリストに格納するプログラムを作成してください。"
   ],
   "metadata": {
    "collapsed": false
   }
  },
  {
   "cell_type": "code",
   "outputs": [
    {
     "name": "stdout",
     "output_type": "stream",
     "text": [
      "[7, 9, 11, 13, 15]\n"
     ]
    }
   ],
   "source": [
    "#答え\n",
    "list_a = [1, 2, 3, 4, 5]\n",
    "list_b = [6, 7, 8, 9, 10]\n",
    "sum_list = []\n",
    "for a,b in zip(list_a,list_b):\n",
    "    sum_list.append(a+b)\n",
    "print(sum_list)"
   ],
   "metadata": {
    "collapsed": false,
    "ExecuteTime": {
     "end_time": "2024-05-22T05:17:07.684389Z",
     "start_time": "2024-05-22T05:17:07.677357Z"
    }
   },
   "execution_count": 16
  },
  {
   "cell_type": "markdown",
   "source": [
    "### 練習課題\n",
    "#### 問題1 ある数字が素数かどうかをチェック\n",
    "素数とは、2 以上の自然数で、正の約数が 1 と自分自身のみであるもののことである。\n",
    "例えば、2, 3, 5, 7は素数である。一方で、$$2*3=6$$のため、6は素数ではない。\n",
    "以下の文字列は素数かどうかをチェックするプログラムを書いてください。\n",
    "* 素数である場合、「The number is a prime number」を出力する\n",
    "* 素数ではない場合、「The string is not a prime number」を出力する"
   ],
   "metadata": {
    "collapsed": false
   }
  },
  {
   "cell_type": "code",
   "outputs": [],
   "source": [
    "import math"
   ],
   "metadata": {
    "collapsed": false,
    "ExecuteTime": {
     "end_time": "2024-05-22T05:23:35.850497Z",
     "start_time": "2024-05-22T05:23:35.847198Z"
    }
   },
   "execution_count": 18
  },
  {
   "cell_type": "code",
   "outputs": [
    {
     "name": "stdout",
     "output_type": "stream",
     "text": [
      "The string is not a prime number\n"
     ]
    }
   ],
   "source": [
    "num = 39\n",
    "def check_prime(num):\n",
    "    if num < 0:\n",
    "        return print(\"You must enter a positive number\")\n",
    "    for i in range(2,int(math.sqrt(num))):\n",
    "        if num % i == 0:\n",
    "            return print(\"The string is not a prime number\")\n",
    "    return print(\"The number is a prime number\")\n",
    "\n",
    "check_prime(num)"
   ],
   "metadata": {
    "collapsed": false,
    "ExecuteTime": {
     "end_time": "2024-05-22T05:29:08.894435Z",
     "start_time": "2024-05-22T05:29:08.887929Z"
    }
   },
   "execution_count": 24
  }
 ],
 "metadata": {
  "kernelspec": {
   "display_name": "Python 3",
   "language": "python",
   "name": "python3"
  },
  "language_info": {
   "codemirror_mode": {
    "name": "ipython",
    "version": 3
   },
   "file_extension": ".py",
   "mimetype": "text/x-python",
   "name": "python",
   "nbconvert_exporter": "python",
   "pygments_lexer": "ipython3",
   "version": "3.11.5"
  }
 },
 "nbformat": 4,
 "nbformat_minor": 2
}
