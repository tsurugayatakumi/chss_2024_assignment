{
 "cells": [
  {
   "cell_type": "markdown",
   "metadata": {},
   "source": [
    "# 第三回の課題\n",
    "\n",
    "課題ファイルを複製し、ファイル名を```assignment_{自分の名前}.ipynb```に変更してから課題を回答してください。"
   ]
  },
  {
   "cell_type": "markdown",
   "metadata": {},
   "source": [
    "## 課題1\n",
    "\n",
    "1から100までの偶数の和を計算してください。"
   ]
  },
  {
   "cell_type": "code",
   "execution_count": 1,
   "metadata": {},
   "outputs": [
    {
     "name": "stdout",
     "output_type": "stream",
     "text": [
      "1から100までの偶数の和は: 2550\n"
     ]
    }
   ],
   "source": [
    "# 1から100までの偶数の和を計算する\n",
    "sum_even = 0\n",
    "\n",
    "for number in range(1, 101):\n",
    "    if number % 2 == 0:\n",
    "        sum_even += number\n",
    "\n",
    "# 結果を表示\n",
    "print(\"1から100までの偶数の和は:\", sum_even)"
   ]
  },
  {
   "cell_type": "code",
   "execution_count": 5,
   "metadata": {},
   "outputs": [],
   "source": [
    "numbers = [1, 2, 3, 2, 4, 3, 5, 4, 6, 57, 57, 6, 18, 7, 9, 8, 10, 9, 0, 0, 10]"
   ]
  },
  {
   "cell_type": "markdown",
   "metadata": {},
   "source": [
    "## 課題2\n",
    "\n",
    "被除数が100である場合、リストの値を除数とする割り算の結果を順番に計算するプログラムを実装してください。\n",
    "\n",
    "- 計算結果をprintで表示してください\n",
    "- 計算不可能の場合、ラーメッセージだけを表示してエラーが起きた回数をカウントし、計算を続けてください"
   ]
  },
  {
   "cell_type": "code",
   "execution_count": 12,
   "metadata": {},
   "outputs": [],
   "source": [
    "import math\n",
    "s = [1,0,10,-25,-2,50,200]\n",
    "error_count = 0 "
   ]
  },
  {
   "cell_type": "code",
   "execution_count": 18,
   "metadata": {},
   "outputs": [
    {
     "name": "stdout",
     "output_type": "stream",
     "text": [
      "100.0\n",
      "計算できません\n",
      "10.0\n",
      "-4.0\n",
      "-50.0\n",
      "2.0\n",
      "0.5\n"
     ]
    }
   ],
   "source": [
    "dividend = 100\n",
    "divisor = s\n",
    "\n",
    "for i in s:\n",
    "    try:\n",
    "        results = dividend / i\n",
    "        print(results)\n",
    "    except:\n",
    "        print(\"計算できません\")\n",
    "        error_count += 1\n",
    "#print(\"エラー回数:\",error_count)\n"
   ]
  },
  {
   "cell_type": "markdown",
   "metadata": {},
   "source": [
    "## 課題3\n",
    "\n",
    "区間[0,100000]の間に存在するarmstrong numberをリストに格納しなさい。\n",
    "armstrong numberとは、ある$n$桁の正の整数が、その各桁の数をn乗した値の合計に等しい数のことです。\n",
    "\n",
    "例えば、3桁の数字$153$はarmstrong numberである\n",
    "\n",
    "$$\n",
    "1^3 + 5^3 + 3^3 = 1 + 125 + 27 = 153\n",
    "$$\n",
    "\n",
    "3桁の数字1634はアームストロング数である\n",
    "\n",
    "$$\n",
    "1^4 + 6^4 + 3^4 + 4^4 = 1 + 1296 + 81 + 256 = 1634\n",
    "$$"
   ]
  },
  {
   "cell_type": "code",
   "execution_count": 27,
   "metadata": {},
   "outputs": [
    {
     "name": "stdout",
     "output_type": "stream",
     "text": [
      "0から100000までのアームストロング数: [0, 1, 2, 3, 4, 5, 6, 7, 8, 9, 153, 370, 371, 407, 1634, 8208, 9474, 54748, 92727, 93084, 548834]\n"
     ]
    }
   ],
   "source": [
    "armstrong_numbers = []\n",
    "\n",
    "for num in range(1000001):\n",
    "    try:\n",
    "        digits = [int(digit) for digit in str(num)] # 各桁の数をリストに格納\n",
    "        \n",
    "        sum_of_digits = sum(digit ** len(digits) for digit in digits) # 各桁の数を自乗し、その総和を計算\n",
    "\n",
    "        if num == sum_of_digits:  # 元の数と総和が一致するかどうかを確認\n",
    "            armstrong_numbers.append(num)\n",
    "    except:\n",
    "        pass\n",
    "\n",
    "#結果を表示\n",
    "print(\"0から100000までのアームストロング数:\", armstrong_numbers)\n",
    "    "
   ]
  },
  {
   "cell_type": "markdown",
   "metadata": {},
   "source": []
  },
  {
   "cell_type": "markdown",
   "metadata": {},
   "source": []
  }
 ],
 "metadata": {
  "kernelspec": {
   "display_name": "Jupyter-kernel",
   "language": "python",
   "name": "jupyter-kernel"
  },
  "language_info": {
   "codemirror_mode": {
    "name": "ipython",
    "version": 3
   },
   "file_extension": ".py",
   "mimetype": "text/x-python",
   "name": "python",
   "nbconvert_exporter": "python",
   "pygments_lexer": "ipython3",
   "version": "3.12.0"
  }
 },
 "nbformat": 4,
 "nbformat_minor": 2
}
