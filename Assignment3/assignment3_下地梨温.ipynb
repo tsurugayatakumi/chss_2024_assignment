{
 "cells": [
  {
   "cell_type": "markdown",
   "metadata": {},
   "source": [
    "# 第三回の課題\n",
    "\n",
    "課題ファイルを複製し、ファイル名を```assignment_{自分の名前}.ipynb```に変更してから課題を回答してください。"
   ]
  },
  {
   "cell_type": "markdown",
   "metadata": {},
   "source": [
    "## 課題1\n",
    "\n",
    "1から100までの偶数の和を計算してください。"
   ]
  },
  {
   "cell_type": "code",
   "execution_count": 5,
   "metadata": {},
   "outputs": [],
   "source": [
    "numbers = [1, 2, 3, 2, 4, 3, 5, 4, 6, 57, 57, 6, 18, 7, 9, 8, 10, 9, 0, 0, 10]"
   ]
  },
  {
   "cell_type": "code",
   "execution_count": null,
   "metadata": {},
   "outputs": [
    {
     "ename": "",
     "evalue": "",
     "output_type": "error",
     "traceback": [
      "\u001b[1;31mカーネルを起動できませんでした。 \n",
      "\u001b[1;31mBad file descriptor (C:\\Users\\runneradmin\\AppData\\Local\\Temp\\tmpw8fxpxar\\build\\_deps\\bundled_libzmq-src\\src\\epoll.cpp:73). \n",
      "\u001b[1;31m詳細については、Jupyter [ログ] (command:jupyter.viewOutput) を参照してください。"
     ]
    }
   ],
   "source": [
    "sum_evennumber=0\n",
    "i=1\n",
    "while i<=100:\n",
    "    if i%2==0:\n",
    "        sum_evennumber+=i\n",
    "    i+=1\n",
    "print(sum_evennumber)\n"
   ]
  },
  {
   "cell_type": "markdown",
   "metadata": {},
   "source": [
    "## 課題2\n",
    "\n",
    "被除数が100である場合、リストの値を除数とする割り算の結果を順番に計算するプログラムを実装してください。\n",
    "\n",
    "- 計算結果をprintで表示してください\n",
    "- 計算不可能の場合、ラーメッセージだけを表示してエラーが起きた回数をカウントし、計算を続けてください"
   ]
  },
  {
   "cell_type": "code",
   "execution_count": 1,
   "metadata": {},
   "outputs": [],
   "source": [
    "import math\n",
    "s = [1,0,10,-25,-2,50,200]\n",
    "error_count = 0 \n",
    "for i in s:\n",
    "    try:\n",
    "        print(100/i)\n",
    "    except :\n",
    "        print(\"計算できません\")\n",
    "        error_count+=1"
   ]
  },
  {
   "cell_type": "markdown",
   "metadata": {},
   "source": [
    "## 課題3\n",
    "\n",
    "区間[0,100000]の間に存在するarmstrong numberをリストに格納しなさい。\n",
    "armstrong numberとは、ある$n$桁の正の整数が、その各桁の数をn乗した値の合計に等しい数のことです。\n",
    "\n",
    "例えば、3桁の数字$153$はarmstrong numberである\n",
    "\n",
    "$$\n",
    "1^3 + 5^3 + 3^3 = 1 + 125 + 27 = 153\n",
    "$$\n",
    "\n",
    "3桁の数字1634はアームストロング数である\n",
    "\n",
    "$$\n",
    "1^4 + 6^4 + 3^4 + 4^4 = 1 + 1296 + 81 + 256 = 1634\n",
    "$$"
   ]
  },
  {
   "cell_type": "code",
   "execution_count": 7,
   "metadata": {},
   "outputs": [],
   "source": [
    "armstrong_number=[]\n",
    "for num in range(0,100000):\n",
    "    digits=str(num)\n",
    "    n=len(digits)\n",
    "    total=sum(int(digit)**n for digit in digits)\n",
    "    if total==num:\n",
    "        armstrong_number.append(num)\n",
    "print(armstrong_number)"
   ]
  },
  {
   "cell_type": "markdown",
   "metadata": {},
   "source": []
  },
  {
   "cell_type": "markdown",
   "metadata": {},
   "source": []
  }
 ],
 "metadata": {
  "kernelspec": {
   "display_name": "Python 3",
   "language": "python",
   "name": "python3"
  },
  "language_info": {
   "codemirror_mode": {
    "name": "ipython",
    "version": 3
   },
   "file_extension": ".py",
   "mimetype": "text/x-python",
   "name": "python",
   "nbconvert_exporter": "python",
   "pygments_lexer": "ipython3",
   "version": "3.11.9"
  }
 },
 "nbformat": 4,
 "nbformat_minor": 2
}
